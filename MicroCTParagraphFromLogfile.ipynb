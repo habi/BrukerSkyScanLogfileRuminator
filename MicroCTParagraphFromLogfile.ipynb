{
 "cells": [
  {
   "cell_type": "markdown",
   "metadata": {},
   "source": [
    "This notebook generates the paragraph about the microCT-scanning from logfiles of the scans."
   ]
  },
  {
   "cell_type": "code",
   "execution_count": 344,
   "metadata": {},
   "outputs": [],
   "source": [
    "import platform\n",
    "import os\n",
    "import pandas\n",
    "import glob"
   ]
  },
  {
   "cell_type": "code",
   "execution_count": 341,
   "metadata": {},
   "outputs": [
    {
     "data": {
      "application/vnd.jupyter.widget-view+json": {
       "model_id": "23dea90bd6414aa3be5ae3e4ad995df0",
       "version_major": 2,
       "version_minor": 0
      },
      "text/plain": [
       "VBox(children=(SelectFilesButton(description='Select Files', icon='square-o', style=ButtonStyle(button_color='…"
      ]
     },
     "metadata": {},
     "output_type": "display_data"
    }
   ],
   "source": [
    "# Copied from https://codereview.stackexchange.com/a/229889\n",
    "import traitlets\n",
    "from ipywidgets import widgets\n",
    "from IPython.display import display\n",
    "from tkinter import Tk, filedialog\n",
    "\n",
    "class SelectFilesButton(widgets.Button):\n",
    "    \"\"\"A file widget that leverages tkinter.filedialog.\"\"\"\n",
    "\n",
    "    def __init__(self):\n",
    "        super(SelectFilesButton, self).__init__()\n",
    "        # Add the selected_files trait\n",
    "        self.add_traits(files=traitlets.traitlets.List())\n",
    "        # Create the button.\n",
    "        self.description = \"Select Files\"\n",
    "        self.icon = \"square-o\"\n",
    "        self.style.button_color = \"orange\"\n",
    "        # Set on click behavior.\n",
    "        self.on_click(self.select_files)\n",
    "\n",
    "    @staticmethod\n",
    "    def select_files(b):\n",
    "        \"\"\"Generate instance of tkinter.filedialog.\n",
    "\n",
    "        Parameters\n",
    "        ----------\n",
    "        b : obj:\n",
    "            An instance of ipywidgets.widgets.Button \n",
    "        \"\"\"\n",
    "        with out:\n",
    "            try:\n",
    "                # Create Tk root\n",
    "                root = Tk()\n",
    "                # Hide the main window\n",
    "                root.withdraw()\n",
    "                # Raise the root to the top of all windows.\n",
    "                root.call('wm', 'attributes', '.', '-topmost', True)\n",
    "                # List of selected fileswill be set to b.value\n",
    "                b.files = filedialog.askopenfilename(multiple=True)\n",
    "\n",
    "                b.description = \"Files Selected\"\n",
    "                b.icon = \"check-square-o\"\n",
    "                b.style.button_color = \"lightgreen\"\n",
    "            except:\n",
    "                pass\n",
    "out = widgets.Output()\n",
    "raw = SelectFilesButton()\n",
    "widgets.VBox([raw, out])"
   ]
  },
  {
   "cell_type": "markdown",
   "metadata": {},
   "source": [
    "We can also select a folder and go through *each* subfolder there..."
   ]
  },
  {
   "cell_type": "code",
   "execution_count": 622,
   "metadata": {},
   "outputs": [
    {
     "name": "stdout",
     "output_type": "stream",
     "text": [
      "We are loading all the data from /home/habi/research-storage-uct/Archiv_Tape/Rabbit-Grenoble\n"
     ]
    }
   ],
   "source": [
    "# Different locations if running either on Linux or Windows\n",
    "if 'Linux' in platform.system():\n",
    "    BasePath = os.path.join(os.sep, 'home', 'habi', 'research-storage-uct', 'Archiv_Tape')\n",
    "else:\n",
    "    BasePath = os.path.join('R:\\\\')\n",
    "Root = os.path.join(BasePath, 'Rabbit-Grenoble')\n",
    "print('We are loading all the data from %s' % Root)"
   ]
  },
  {
   "cell_type": "code",
   "execution_count": 711,
   "metadata": {},
   "outputs": [],
   "source": [
    "# Make us a dataframe for saving all that we need\n",
    "Data = pandas.DataFrame()"
   ]
  },
  {
   "cell_type": "code",
   "execution_count": 712,
   "metadata": {},
   "outputs": [],
   "source": [
    "# Look only for folders: https://stackoverflow.com/a/38216530\n",
    "Data['Folder'] = sorted(glob.glob(os.path.join(Root, '**', 'Ra*' + os.path.sep)))\n",
    "Data['Scan'] = [os.path.basename(os.path.split(f)[0]) for f in Data['Folder']]"
   ]
  },
  {
   "cell_type": "code",
   "execution_count": 713,
   "metadata": {},
   "outputs": [
    {
     "name": "stdout",
     "output_type": "stream",
     "text": [
      "No logfile found in /home/habi/research-storage-uct/Archiv_Tape/Rabbit-Grenoble/Rabbit-2-Grenoble2015/Rabbit-2-Overview-Grenoble2015-13-3um/, removing the folder temporarily\n",
      "We have 16 tooth folders to work with\n"
     ]
    }
   ],
   "source": [
    "# Grab a bunch of log files from a folder\n",
    "# We could do it in a list comprehension, but then it fails if we're still scanning a tooth\n",
    "# Data['LogFile'] = [sorted(glob.glob(os.path.join(f, '*.log')))[0] for f in Data['Folder']]\n",
    "for c, row in Data.iterrows():\n",
    "    try:\n",
    "        Data.at[c,'LogFile'] = sorted(glob.glob(os.path.join(row['Folder'], 'proj', '*.log')))[0]\n",
    "    except IndexError:\n",
    "        print('No logfile found in %s, removing the folder temporarily' % row.Folder)\n",
    "        Data.at[c,'LogFile'] = 'scanning'\n",
    "Data = Data[Data['LogFile'] != 'scanning']\n",
    "Data.reset_index(drop=True, inplace=True)\n",
    "print('We have %s tooth folders to work with' % (len(Data)))"
   ]
  },
  {
   "cell_type": "code",
   "execution_count": 614,
   "metadata": {},
   "outputs": [],
   "source": [
    "# Choose the file selected above\n",
    "log = raw.files[0]"
   ]
  },
  {
   "cell_type": "code",
   "execution_count": 615,
   "metadata": {},
   "outputs": [],
   "source": [
    "# Choose the file selected above\n",
    "log = Data.LogFile[0]"
   ]
  },
  {
   "cell_type": "code",
   "execution_count": 616,
   "metadata": {},
   "outputs": [
    {
     "name": "stdout",
     "output_type": "stream",
     "text": [
      "We are looking at the values in /home/habi/research-storage-uct/Archiv_Tape/Rabbit-Grenoble/Rabbit-2-Grenoble2015/Rabbit-2-Overview-Grenoble2015-26-5um/proj/Rabbit-2-Overview-Grenoble2015-26-5um_.log\n"
     ]
    }
   ],
   "source": [
    "print('We are looking at the values in %s' % log)"
   ]
  },
  {
   "cell_type": "code",
   "execution_count": 617,
   "metadata": {},
   "outputs": [],
   "source": [
    "# Load log file manually (probably needed on Windows)\n",
    "# log = 'f:\\Verdiana Lung\\Experiment01\\Mouse04\\proj\\Mouse04.log'"
   ]
  },
  {
   "cell_type": "code",
   "execution_count": 618,
   "metadata": {},
   "outputs": [],
   "source": [
    "log = '/home/habi/research-storage-uct/Archiv_Tape/Rabbit-Grenoble/Rabbit-2-Grenoble2015/Rabbit-2-Overview-Grenoble2015-26-5um/proj/Rabbit-2-Overview-Grenoble2015-26-5um_.log'"
   ]
  },
  {
   "cell_type": "code",
   "execution_count": 619,
   "metadata": {},
   "outputs": [],
   "source": [
    "log = '/home/habi/1272/ZMK/ToothBattallion/99/Tooth099.log'"
   ]
  },
  {
   "cell_type": "code",
   "execution_count": 626,
   "metadata": {},
   "outputs": [],
   "source": [
    "def fulllog(logfile):\n",
    "    with open(logfile, 'r') as f:\n",
    "        for line in f:\n",
    "            print(line.strip())\n",
    "    return()"
   ]
  },
  {
   "cell_type": "code",
   "execution_count": 627,
   "metadata": {},
   "outputs": [],
   "source": [
    "# fulllog(log)"
   ]
  },
  {
   "cell_type": "code",
   "execution_count": 628,
   "metadata": {},
   "outputs": [],
   "source": [
    "import re\n",
    "def scanner(logfile, verbose=False):\n",
    "    hardwareversion = []\n",
    "    with open(logfile, 'r') as f:\n",
    "        for line in f:\n",
    "            if 'Scanner' in line:\n",
    "                if verbose:\n",
    "                    print(line)\n",
    "                # Sometimes it's SkyScan, sometimes Skyscan, so we have to regex it :)\n",
    "                machine = re.split('Sky.can', line)[1].strip()\n",
    "            if 'Hardware' in line:\n",
    "                if verbose:\n",
    "                    print(line)\n",
    "                hardwareversion = line.split('=')[1].strip()\n",
    "    if hardwareversion:\n",
    "        return('SkyScan %s (Version %s)' % (machine, hardwareversion))\n",
    "    else:\n",
    "        return('SkyScan ' + machine)    "
   ]
  },
  {
   "cell_type": "code",
   "execution_count": 629,
   "metadata": {},
   "outputs": [],
   "source": [
    "# scanner(log, verbose=True)"
   ]
  },
  {
   "cell_type": "code",
   "execution_count": 630,
   "metadata": {},
   "outputs": [],
   "source": [
    "def scansoftware(logfile, verbose=False):\n",
    "    with open(logfile, 'r') as f:\n",
    "        for line in f:\n",
    "            if 'Software' in line:\n",
    "                if verbose:\n",
    "                    print(line)\n",
    "                version = line.split('=')[1].strip()\n",
    "    return(version)"
   ]
  },
  {
   "cell_type": "code",
   "execution_count": 631,
   "metadata": {},
   "outputs": [],
   "source": [
    "# fulllog(log)"
   ]
  },
  {
   "cell_type": "code",
   "execution_count": 632,
   "metadata": {},
   "outputs": [],
   "source": [
    "# scansoftware(log, verbose=True)"
   ]
  },
  {
   "cell_type": "code",
   "execution_count": 633,
   "metadata": {},
   "outputs": [],
   "source": [
    "def source(logfile, verbose=False):\n",
    "    with open(logfile, 'r') as f:\n",
    "        for line in f:\n",
    "            if 'Source T' in line:\n",
    "                if verbose:\n",
    "                    print(line)\n",
    "                # Sometimes it's SkyScan, sometimes Skyscan, so we have to regex it :)\n",
    "                source = line.split('=')[1].strip()\n",
    "    return(source)"
   ]
  },
  {
   "cell_type": "code",
   "execution_count": 634,
   "metadata": {},
   "outputs": [],
   "source": [
    "# source(log, verbose=True)"
   ]
  },
  {
   "cell_type": "code",
   "execution_count": 635,
   "metadata": {},
   "outputs": [],
   "source": [
    "def camera(logfile, verbose=False):\n",
    "    with open(logfile, 'r') as f:\n",
    "        for line in f:\n",
    "            if 'Camera T' in line or 'Camera=' in line:\n",
    "                if verbose:\n",
    "                    print(line)\n",
    "                cam = line.split('=')[1].strip().strip(' camera')\n",
    "    return(cam)"
   ]
  },
  {
   "cell_type": "code",
   "execution_count": 636,
   "metadata": {},
   "outputs": [],
   "source": [
    "# camera(log, verbose=True)"
   ]
  },
  {
   "cell_type": "code",
   "execution_count": 637,
   "metadata": {},
   "outputs": [],
   "source": [
    "def voltage(logfile, verbose=False):\n",
    "    with open(logfile, 'r') as f:\n",
    "        for line in f:\n",
    "            if 'Voltage' in line:\n",
    "                if verbose:\n",
    "                    print(line)\n",
    "                V = float(line.split('=')[1])\n",
    "    return(V)"
   ]
  },
  {
   "cell_type": "code",
   "execution_count": 638,
   "metadata": {},
   "outputs": [],
   "source": [
    "def current(logfile, verbose=False):\n",
    "    with open(logfile, 'r') as f:\n",
    "        for line in f:\n",
    "            if 'Source Current' in line:\n",
    "                if verbose:\n",
    "                    print(line)\n",
    "                A = float(line.split('=')[1])\n",
    "    return(A)"
   ]
  },
  {
   "cell_type": "code",
   "execution_count": 639,
   "metadata": {},
   "outputs": [],
   "source": [
    "# current(log, verbose=True)"
   ]
  },
  {
   "cell_type": "code",
   "execution_count": 640,
   "metadata": {},
   "outputs": [],
   "source": [
    "def whichfilter(logfile, verbose=False):\n",
    "    with open(logfile, 'r') as f:\n",
    "        for line in f:\n",
    "            if 'Filter=' in line:\n",
    "                if verbose:\n",
    "                    print(line)\n",
    "                fltr = line.split('=')[1].strip().replace('  ', ' ')\n",
    "                if fltr=='No Filter':\n",
    "                    fltr=False\n",
    "    return(fltr)"
   ]
  },
  {
   "cell_type": "code",
   "execution_count": 641,
   "metadata": {},
   "outputs": [],
   "source": [
    "# whichfilter(log, verbose=True)"
   ]
  },
  {
   "cell_type": "code",
   "execution_count": 642,
   "metadata": {},
   "outputs": [],
   "source": [
    "def numproj(logfile, verbose=False):\n",
    "    with open(logfile, 'r') as f:\n",
    "        for line in f:\n",
    "            if 'f Files' in line:\n",
    "                if verbose:\n",
    "                    print(line)\n",
    "                numproj = int(line.split('=')[1])\n",
    "    return(numproj)"
   ]
  },
  {
   "cell_type": "code",
   "execution_count": 643,
   "metadata": {},
   "outputs": [],
   "source": [
    "# numproj(log, verbose=True)"
   ]
  },
  {
   "cell_type": "code",
   "execution_count": 644,
   "metadata": {},
   "outputs": [],
   "source": [
    "def stacks(logfile, verbose=False):\n",
    "    with open(logfile, 'r') as f:\n",
    "        # If only one stack, then there's nothing in the log file\n",
    "        numstacks = 0\n",
    "        for line in f:\n",
    "            if 'b-scan' in line:\n",
    "                if verbose:\n",
    "                    print(line)\n",
    "                # The 'Sub-scan scan length' is listed in the log file\n",
    "                # We simply select the last one, and add 1, since Bruker also starts to count at zero\n",
    "                numstacks = int(line.split('[')[1].split(']')[0])\n",
    "    return(numstacks + 1)"
   ]
  },
  {
   "cell_type": "code",
   "execution_count": 645,
   "metadata": {},
   "outputs": [],
   "source": [
    "# stacks(log, verbose=True)"
   ]
  },
  {
   "cell_type": "code",
   "execution_count": 646,
   "metadata": {},
   "outputs": [],
   "source": [
    "def camerasize(logfile, verbose=False):\n",
    "    with open(logfile, 'r') as f:\n",
    "        for line in f:\n",
    "            if 'Columns' in line:\n",
    "                if verbose:\n",
    "                    print(line)\n",
    "                columns = int(line.split('=')[1])\n",
    "            if 'Rows' in line:\n",
    "                if verbose:\n",
    "                    print(line)\n",
    "                rows = int(line.split('=')[1])\n",
    "    return(columns, rows)"
   ]
  },
  {
   "cell_type": "code",
   "execution_count": 647,
   "metadata": {},
   "outputs": [],
   "source": [
    "def rotationstep(logfile, verbose=False):\n",
    "    with open(logfile, 'r') as f:\n",
    "        for line in f:\n",
    "            if 'Rotation Step' in line:\n",
    "                if verbose:\n",
    "                    print(line)\n",
    "                rotstep = float(line.split('=')[1])\n",
    "    return(rotstep)"
   ]
  },
  {
   "cell_type": "code",
   "execution_count": 648,
   "metadata": {},
   "outputs": [],
   "source": [
    "def exposure(logfile, verbose=False):\n",
    "    with open(logfile, 'r') as f:\n",
    "        for line in f:\n",
    "            if 'Exposure' in line:\n",
    "                if verbose:\n",
    "                    print(line)\n",
    "                exp = int(line.split('=')[1])\n",
    "    return(exp)"
   ]
  },
  {
   "cell_type": "code",
   "execution_count": 649,
   "metadata": {},
   "outputs": [],
   "source": [
    "def averaging(logfile, verbose=False):\n",
    "    with open(logfile, 'r') as f:\n",
    "        for line in f:\n",
    "            if 'Avera' in line:\n",
    "                if verbose:\n",
    "                    print(line)\n",
    "                details = line.split('=')[1]\n",
    "                if 'ON' in details:\n",
    "                    # https://stackoverflow.com/a/4894156/323100\n",
    "                    avg = int(details[details.find(\"(\")+1:details.find(\")\")])\n",
    "                else:\n",
    "                    avg=False\n",
    "    return(avg)"
   ]
  },
  {
   "cell_type": "code",
   "execution_count": 650,
   "metadata": {},
   "outputs": [],
   "source": [
    "import datetime\n",
    "def duration(logfile, verbose=False):\n",
    "    with open(logfile, 'r') as f:\n",
    "        for line in f:\n",
    "            if 'Scan duration' in line:\n",
    "                if verbose:\n",
    "                    print(line)\n",
    "                duration = line.split('=')[1].strip()\n",
    "    # Sometimes it's '00:24:26', sometimes '0h:52m:53s'\n",
    "    if 'h' in duration:\n",
    "        return(datetime.datetime.strptime(duration, '%Hh:%Mm:%Ss'))\n",
    "    else:\n",
    "        return(datetime.datetime.strptime(duration, '%H:%M:%S'))"
   ]
  },
  {
   "cell_type": "code",
   "execution_count": 651,
   "metadata": {},
   "outputs": [],
   "source": [
    "# print(duration(log, verbose=True).hour, 'hours')\n",
    "# print(duration(log).minute, 'minutes')\n",
    "# print(duration(log).second, 'seconds')"
   ]
  },
  {
   "cell_type": "code",
   "execution_count": 652,
   "metadata": {},
   "outputs": [],
   "source": [
    "def pixelsize(logfile, verbose=False):\n",
    "    with open(logfile, 'r') as f:\n",
    "        for line in f:\n",
    "            if 'Image Pixel' in line and 'Scaled' not in line:\n",
    "                if verbose:\n",
    "                    print(line)\n",
    "                pixelsize = float(line.split('=')[1])\n",
    "    return(pixelsize)"
   ]
  },
  {
   "cell_type": "code",
   "execution_count": 653,
   "metadata": {},
   "outputs": [],
   "source": [
    "def version(logfile, verbose=False):\n",
    "    with open(logfile, 'r') as f:\n",
    "        for line in f:\n",
    "            if 'Reconstruction Program' in line:\n",
    "                if verbose:\n",
    "                    print(line)\n",
    "                Program = line.split('=')[1].strip()\n",
    "            if 'Program Version' in line:\n",
    "                if verbose:\n",
    "                    print(line)\n",
    "                Version = line.split('sion:')[1].strip()\n",
    "    return(Program, Version)"
   ]
  },
  {
   "cell_type": "code",
   "execution_count": 748,
   "metadata": {},
   "outputs": [],
   "source": [
    "def ringremoval(logfile, verbose=False):\n",
    "    with open(logfile, 'r') as f:\n",
    "        for line in f:\n",
    "            if 'Ring' in line:\n",
    "                if verbose:\n",
    "                    print(line)\n",
    "                ring = int(line.split('=')[1].strip())\n",
    "    return(ring)"
   ]
  },
  {
   "cell_type": "code",
   "execution_count": 750,
   "metadata": {},
   "outputs": [],
   "source": [
    "# ringremoval(log, verbose=True)"
   ]
  },
  {
   "cell_type": "code",
   "execution_count": 742,
   "metadata": {},
   "outputs": [],
   "source": [
    "def beamhardening(logfile, verbose=False):\n",
    "    with open(logfile, 'r') as f:\n",
    "        for line in f:\n",
    "            if 'ardeni' in line:\n",
    "                if verbose:\n",
    "                    print(line)\n",
    "                bh = int(line.split('=')[1].strip())\n",
    "    return(bh)"
   ]
  },
  {
   "cell_type": "code",
   "execution_count": 751,
   "metadata": {},
   "outputs": [],
   "source": [
    "# beamhardening(log, verbose=True)"
   ]
  },
  {
   "cell_type": "markdown",
   "metadata": {},
   "source": [
    "----"
   ]
  },
  {
   "cell_type": "markdown",
   "metadata": {},
   "source": [
    "My microct blurb from http://simp.ly/publish/NBhZhH"
   ]
  },
  {
   "cell_type": "code",
   "execution_count": 655,
   "metadata": {},
   "outputs": [
    {
     "name": "stdout",
     "output_type": "stream",
     "text": [
      "Based on /home/habi/1272/ZMK/ToothBattallion/99/Tooth099.log\n"
     ]
    }
   ],
   "source": [
    "print('Based on %s' % log)"
   ]
  },
  {
   "cell_type": "code",
   "execution_count": 656,
   "metadata": {},
   "outputs": [
    {
     "name": "stdout",
     "output_type": "stream",
     "text": [
      "After $PREPARATION, the $NUMSAMPLES samples were imaged on a Bruker SkyScan 1272 high-resolution microtomography machine (Control software version 1.1.19, Bruker microCT, Kontich, Belgium).\n"
     ]
    }
   ],
   "source": [
    "print('After $PREPARATION, the $NUMSAMPLES samples were imaged on a Bruker',\n",
    "      scanner(log),\n",
    "      'high-resolution microtomography machine (Control software version',\n",
    "      scansoftware(log) +\n",
    "      ', Bruker microCT, Kontich, Belgium).')"
   ]
  },
  {
   "cell_type": "code",
   "execution_count": 657,
   "metadata": {},
   "outputs": [
    {
     "name": "stdout",
     "output_type": "stream",
     "text": [
      "The machine is equipped with a HAMAMATSU_L11871_20 X-ray source and a XIMEA xiRAY16 camera.\n"
     ]
    }
   ],
   "source": [
    "print('The machine is equipped with a',\n",
    "      source(log, verbose=False),\n",
    "      'X-ray source and a',\n",
    "      camera(log) +\n",
    "      ' camera.')"
   ]
  },
  {
   "cell_type": "code",
   "execution_count": 658,
   "metadata": {},
   "outputs": [
    {
     "name": "stdout",
     "output_type": "stream",
     "text": [
      "The X-ray source was set to a tube voltage of 80.0 kV and a tube current of 125.0 µA, the x-ray spectrum was filtered by Al 1mm prior to incidence onto the sample.\n"
     ]
    }
   ],
   "source": [
    "print('The X-ray source was set to a tube voltage of', \n",
    "      voltage(log),\n",
    "      'kV and a tube current of',\n",
    "      current(log),\n",
    "      'µA, the x-ray spectrum was', end=' ')\n",
    "if whichfilter(log):\n",
    "    print('filtered by', whichfilter(log), end=' ')\n",
    "else:\n",
    "    print('not filtered', end=' ')\n",
    "print('prior to incidence onto the sample.')"
   ]
  },
  {
   "cell_type": "code",
   "execution_count": 659,
   "metadata": {},
   "outputs": [
    {
     "name": "stdout",
     "output_type": "stream",
     "text": [
      "For each sample, we recorded a set of 5 stacked scans overlapping the sample height, each stack with 482 projections of 1632 x 1092 pixels at every 0.4° over a 180° sample rotation.\n"
     ]
    }
   ],
   "source": [
    "print('For each sample, we recorded a set of', end=' ')\n",
    "if stacks(log) > 1:\n",
    "    print(stacks(log), 'stacked scans overlapping the sample height, each stack with', end=' ')\n",
    "print(numproj(log),\n",
    "      'projections of',\n",
    "      camerasize(log)[0],\n",
    "      'x',\n",
    "      camerasize(log)[1],\n",
    "      'pixels at every',\n",
    "      str(rotationstep(log)) + '° over a 180° sample rotation.')"
   ]
  },
  {
   "cell_type": "code",
   "execution_count": 660,
   "metadata": {},
   "outputs": [
    {
     "name": "stdout",
     "output_type": "stream",
     "text": [
      "Every single projection was exposed for 950 ms, 3 projections were averaged to one to greatly reduce image noise.\n"
     ]
    }
   ],
   "source": [
    "print('Every single projection was exposed for',\n",
    "      exposure(log),\n",
    "      'ms,',\n",
    "      averaging(log),\n",
    "      'projections were averaged to one to greatly reduce image noise.')"
   ]
  },
  {
   "cell_type": "code",
   "execution_count": 661,
   "metadata": {},
   "outputs": [
    {
     "name": "stdout",
     "output_type": "stream",
     "text": [
      "This resulted in scan times of approximately 40 minutes per stack, and an isometric voxel size of 10.0 µm in the final data sets.\n"
     ]
    }
   ],
   "source": [
    "print('This resulted in scan times of approximately ', end='')\n",
    "if duration(log).hour:\n",
    "    print(duration(log).hour, 'hours', end=' ')\n",
    "print(round(duration(log).minute/5)*5,\n",
    "      'minutes per stack, and an isometric voxel size of',\n",
    "      round(pixelsize(log),1),\n",
    "      'µm in the final data sets.')"
   ]
  },
  {
   "cell_type": "code",
   "execution_count": 747,
   "metadata": {},
   "outputs": [
    {
     "name": "stdout",
     "output_type": "stream",
     "text": [
      "The projection images were then subsequently reconstructed into a 3D stack of images with NRecon (Version 1.7.4.6 , Bruker microCT, Kontich Belgium) with a ring artifact correction of 14.\n"
     ]
    }
   ],
   "source": [
    "print('The projection images were then subsequently reconstructed into a 3D stack',\n",
    "      'of images with',\n",
    "      version(log)[0],\n",
    "      '(Version',\n",
    "      version(log)[1],\n",
    "      ', Bruker microCT, Kontich Belgium) with a ring artifact correction of',\n",
    "      ringremoval(log), end='')\n",
    "if beamhardening(log) > 0:\n",
    "    print(' and a beam hardening correction of',\n",
    "          beamhardening(log),\n",
    "          '%.')\n",
    "else:\n",
    "    print('.')"
   ]
  },
  {
   "cell_type": "code",
   "execution_count": 663,
   "metadata": {},
   "outputs": [],
   "source": [
    "# fulllog(log)"
   ]
  },
  {
   "cell_type": "markdown",
   "metadata": {},
   "source": [
    "----"
   ]
  },
  {
   "cell_type": "markdown",
   "metadata": {},
   "source": [
    "If we have several, then generate a dataframe..."
   ]
  },
  {
   "cell_type": "code",
   "execution_count": 714,
   "metadata": {},
   "outputs": [],
   "source": [
    "Data['Scanner'] = [scanner(log) for log in Data['LogFile']]\n",
    "Data['Software'] = [scansoftware(log) for log in Data['LogFile']]"
   ]
  },
  {
   "cell_type": "code",
   "execution_count": 715,
   "metadata": {},
   "outputs": [],
   "source": [
    "Data['Voxelsize'] = [pixelsize(log) for log in Data['LogFile']]"
   ]
  },
  {
   "cell_type": "code",
   "execution_count": 716,
   "metadata": {},
   "outputs": [],
   "source": [
    "Data['Source'] = [source(log) for log in Data['LogFile']]\n",
    "Data['Camera'] = [camera(log) for log in Data['LogFile']]"
   ]
  },
  {
   "cell_type": "code",
   "execution_count": 717,
   "metadata": {},
   "outputs": [],
   "source": [
    "Data['Voltage'] = [voltage(log) for log in Data['LogFile']]\n",
    "Data['Current'] = [current(log) for log in Data['LogFile']]\n",
    "Data['Filter'] = [whichfilter(log) for log in Data['LogFile']]"
   ]
  },
  {
   "cell_type": "code",
   "execution_count": 718,
   "metadata": {},
   "outputs": [],
   "source": [
    "Data['Stacks'] = [stacks(log) for log in Data['LogFile']]\n",
    "Data['NumProj'] = [numproj(log) for log in Data['LogFile']]\n",
    "Data['CamSize'] = [camerasize(log) for log in Data['LogFile']]\n",
    "Data['RotationStep'] = [rotationstep(log) for log in Data['LogFile']]"
   ]
  },
  {
   "cell_type": "code",
   "execution_count": 752,
   "metadata": {},
   "outputs": [],
   "source": [
    "Data['RingRemoval'] = [ringremoval(log) for log in Data['LogFile']]\n",
    "Data['Beamhardening'] = [beamhardening(log) for log in Data['LogFile']]"
   ]
  },
  {
   "cell_type": "code",
   "execution_count": 719,
   "metadata": {},
   "outputs": [],
   "source": [
    "Data['Exposure'] = [exposure(log) for log in Data['LogFile']]\n",
    "Data['Averaging'] = [averaging(log) for log in Data['LogFile']]"
   ]
  },
  {
   "cell_type": "code",
   "execution_count": 720,
   "metadata": {},
   "outputs": [],
   "source": [
    "Data['Duration'] = [duration(log) for log in Data['LogFile']]"
   ]
  },
  {
   "cell_type": "code",
   "execution_count": 721,
   "metadata": {},
   "outputs": [],
   "source": [
    "Data['Version'] = [version(log) for log in Data['LogFile']]"
   ]
  },
  {
   "cell_type": "code",
   "execution_count": 722,
   "metadata": {},
   "outputs": [],
   "source": [
    "Data.to_excel('Rabbits.xls')"
   ]
  },
  {
   "cell_type": "code",
   "execution_count": 753,
   "metadata": {},
   "outputs": [
    {
     "data": {
      "text/html": [
       "<div>\n",
       "<style scoped>\n",
       "    .dataframe tbody tr th:only-of-type {\n",
       "        vertical-align: middle;\n",
       "    }\n",
       "\n",
       "    .dataframe tbody tr th {\n",
       "        vertical-align: top;\n",
       "    }\n",
       "\n",
       "    .dataframe thead th {\n",
       "        text-align: right;\n",
       "    }\n",
       "</style>\n",
       "<table border=\"1\" class=\"dataframe\">\n",
       "  <thead>\n",
       "    <tr style=\"text-align: right;\">\n",
       "      <th></th>\n",
       "      <th>Folder</th>\n",
       "      <th>Scan</th>\n",
       "      <th>LogFile</th>\n",
       "      <th>Scanner</th>\n",
       "      <th>Software</th>\n",
       "      <th>Voxelsize</th>\n",
       "      <th>Source</th>\n",
       "      <th>Camera</th>\n",
       "      <th>Voltage</th>\n",
       "      <th>Current</th>\n",
       "      <th>...</th>\n",
       "      <th>Stacks</th>\n",
       "      <th>NumProj</th>\n",
       "      <th>CamSize</th>\n",
       "      <th>RotationStep</th>\n",
       "      <th>Exposure</th>\n",
       "      <th>Averaging</th>\n",
       "      <th>Duration</th>\n",
       "      <th>Version</th>\n",
       "      <th>RingRemoval</th>\n",
       "      <th>Beamhardening</th>\n",
       "    </tr>\n",
       "  </thead>\n",
       "  <tbody>\n",
       "    <tr>\n",
       "      <td>0</td>\n",
       "      <td>/home/habi/research-storage-uct/Archiv_Tape/Ra...</td>\n",
       "      <td>Rabbit-1-Overview--Mandibula-Grenoble2015-26-6um</td>\n",
       "      <td>/home/habi/research-storage-uct/Archiv_Tape/Ra...</td>\n",
       "      <td>SkyScan 1172 (Version F)</td>\n",
       "      <td>Version 1. 5 (build 20)</td>\n",
       "      <td>26.54</td>\n",
       "      <td>Hamamatsu 100/250</td>\n",
       "      <td>Hamamatsu C9300 11Mp</td>\n",
       "      <td>100.0</td>\n",
       "      <td>100.0</td>\n",
       "      <td>...</td>\n",
       "      <td>4</td>\n",
       "      <td>583</td>\n",
       "      <td>(1984, 668)</td>\n",
       "      <td>0.35</td>\n",
       "      <td>300</td>\n",
       "      <td>2</td>\n",
       "      <td>1900-01-01 00:24:22</td>\n",
       "      <td>(NRecon, 1.7.4.2)</td>\n",
       "      <td>7</td>\n",
       "      <td>40</td>\n",
       "    </tr>\n",
       "    <tr>\n",
       "      <td>1</td>\n",
       "      <td>/home/habi/research-storage-uct/Archiv_Tape/Ra...</td>\n",
       "      <td>Rabbit-1-Overview-Maxilaris-Grenoble2015-13-3um</td>\n",
       "      <td>/home/habi/research-storage-uct/Archiv_Tape/Ra...</td>\n",
       "      <td>SkyScan 1172 (Version F)</td>\n",
       "      <td>Version 1. 5 (build 20)</td>\n",
       "      <td>13.27</td>\n",
       "      <td>Hamamatsu 100/250</td>\n",
       "      <td>Hamamatsu C9300 11Mp</td>\n",
       "      <td>100.0</td>\n",
       "      <td>100.0</td>\n",
       "      <td>...</td>\n",
       "      <td>4</td>\n",
       "      <td>1018</td>\n",
       "      <td>(3968, 1336)</td>\n",
       "      <td>0.20</td>\n",
       "      <td>1250</td>\n",
       "      <td>3</td>\n",
       "      <td>1900-01-01 02:50:17</td>\n",
       "      <td>(NRecon, 1.7.4.2)</td>\n",
       "      <td>7</td>\n",
       "      <td>40</td>\n",
       "    </tr>\n",
       "    <tr>\n",
       "      <td>2</td>\n",
       "      <td>/home/habi/research-storage-uct/Archiv_Tape/Ra...</td>\n",
       "      <td>Rabbit-1-Overview-Maxilaris-Grenoble2015-26-6um</td>\n",
       "      <td>/home/habi/research-storage-uct/Archiv_Tape/Ra...</td>\n",
       "      <td>SkyScan 1172 (Version F)</td>\n",
       "      <td>Version 1. 5 (build 20)</td>\n",
       "      <td>26.54</td>\n",
       "      <td>Hamamatsu 100/250</td>\n",
       "      <td>Hamamatsu C9300 11Mp</td>\n",
       "      <td>100.0</td>\n",
       "      <td>100.0</td>\n",
       "      <td>...</td>\n",
       "      <td>4</td>\n",
       "      <td>583</td>\n",
       "      <td>(1984, 668)</td>\n",
       "      <td>0.35</td>\n",
       "      <td>300</td>\n",
       "      <td>2</td>\n",
       "      <td>1900-01-01 00:24:26</td>\n",
       "      <td>(NRecon, 1.7.4.2)</td>\n",
       "      <td>7</td>\n",
       "      <td>40</td>\n",
       "    </tr>\n",
       "    <tr>\n",
       "      <td>3</td>\n",
       "      <td>/home/habi/research-storage-uct/Archiv_Tape/Ra...</td>\n",
       "      <td>Rabbit-2-Grenoble2015-26-5um</td>\n",
       "      <td>/home/habi/research-storage-uct/Archiv_Tape/Ra...</td>\n",
       "      <td>SkyScan 1172 (Version F)</td>\n",
       "      <td>Version 1. 5 (build 20)</td>\n",
       "      <td>26.54</td>\n",
       "      <td>Hamamatsu 100/250</td>\n",
       "      <td>Hamamatsu C9300 11Mp</td>\n",
       "      <td>100.0</td>\n",
       "      <td>100.0</td>\n",
       "      <td>...</td>\n",
       "      <td>1</td>\n",
       "      <td>583</td>\n",
       "      <td>(1984, 668)</td>\n",
       "      <td>0.35</td>\n",
       "      <td>300</td>\n",
       "      <td>2</td>\n",
       "      <td>1900-01-01 00:24:51</td>\n",
       "      <td>(NRecon, 1.6.9.9)</td>\n",
       "      <td>9</td>\n",
       "      <td>40</td>\n",
       "    </tr>\n",
       "    <tr>\n",
       "      <td>4</td>\n",
       "      <td>/home/habi/research-storage-uct/Archiv_Tape/Ra...</td>\n",
       "      <td>Rabbit-2-Overview-Grenoble2015-26-5um</td>\n",
       "      <td>/home/habi/research-storage-uct/Archiv_Tape/Ra...</td>\n",
       "      <td>SkyScan 1172 (Version F)</td>\n",
       "      <td>Version 1. 5 (build 20)</td>\n",
       "      <td>26.54</td>\n",
       "      <td>Hamamatsu 100/250</td>\n",
       "      <td>Hamamatsu C9300 11Mp</td>\n",
       "      <td>100.0</td>\n",
       "      <td>100.0</td>\n",
       "      <td>...</td>\n",
       "      <td>3</td>\n",
       "      <td>583</td>\n",
       "      <td>(1984, 668)</td>\n",
       "      <td>0.35</td>\n",
       "      <td>300</td>\n",
       "      <td>2</td>\n",
       "      <td>1900-01-01 00:24:23</td>\n",
       "      <td>(NRecon, 1.7.4.2)</td>\n",
       "      <td>7</td>\n",
       "      <td>40</td>\n",
       "    </tr>\n",
       "  </tbody>\n",
       "</table>\n",
       "<p>5 rows × 21 columns</p>\n",
       "</div>"
      ],
      "text/plain": [
       "                                              Folder  \\\n",
       "0  /home/habi/research-storage-uct/Archiv_Tape/Ra...   \n",
       "1  /home/habi/research-storage-uct/Archiv_Tape/Ra...   \n",
       "2  /home/habi/research-storage-uct/Archiv_Tape/Ra...   \n",
       "3  /home/habi/research-storage-uct/Archiv_Tape/Ra...   \n",
       "4  /home/habi/research-storage-uct/Archiv_Tape/Ra...   \n",
       "\n",
       "                                               Scan  \\\n",
       "0  Rabbit-1-Overview--Mandibula-Grenoble2015-26-6um   \n",
       "1   Rabbit-1-Overview-Maxilaris-Grenoble2015-13-3um   \n",
       "2   Rabbit-1-Overview-Maxilaris-Grenoble2015-26-6um   \n",
       "3                      Rabbit-2-Grenoble2015-26-5um   \n",
       "4             Rabbit-2-Overview-Grenoble2015-26-5um   \n",
       "\n",
       "                                             LogFile  \\\n",
       "0  /home/habi/research-storage-uct/Archiv_Tape/Ra...   \n",
       "1  /home/habi/research-storage-uct/Archiv_Tape/Ra...   \n",
       "2  /home/habi/research-storage-uct/Archiv_Tape/Ra...   \n",
       "3  /home/habi/research-storage-uct/Archiv_Tape/Ra...   \n",
       "4  /home/habi/research-storage-uct/Archiv_Tape/Ra...   \n",
       "\n",
       "                    Scanner                 Software  Voxelsize  \\\n",
       "0  SkyScan 1172 (Version F)  Version 1. 5 (build 20)      26.54   \n",
       "1  SkyScan 1172 (Version F)  Version 1. 5 (build 20)      13.27   \n",
       "2  SkyScan 1172 (Version F)  Version 1. 5 (build 20)      26.54   \n",
       "3  SkyScan 1172 (Version F)  Version 1. 5 (build 20)      26.54   \n",
       "4  SkyScan 1172 (Version F)  Version 1. 5 (build 20)      26.54   \n",
       "\n",
       "              Source                Camera  Voltage  Current  ... Stacks  \\\n",
       "0  Hamamatsu 100/250  Hamamatsu C9300 11Mp    100.0    100.0  ...      4   \n",
       "1  Hamamatsu 100/250  Hamamatsu C9300 11Mp    100.0    100.0  ...      4   \n",
       "2  Hamamatsu 100/250  Hamamatsu C9300 11Mp    100.0    100.0  ...      4   \n",
       "3  Hamamatsu 100/250  Hamamatsu C9300 11Mp    100.0    100.0  ...      1   \n",
       "4  Hamamatsu 100/250  Hamamatsu C9300 11Mp    100.0    100.0  ...      3   \n",
       "\n",
       "   NumProj       CamSize RotationStep  Exposure  Averaging  \\\n",
       "0      583   (1984, 668)         0.35       300          2   \n",
       "1     1018  (3968, 1336)         0.20      1250          3   \n",
       "2      583   (1984, 668)         0.35       300          2   \n",
       "3      583   (1984, 668)         0.35       300          2   \n",
       "4      583   (1984, 668)         0.35       300          2   \n",
       "\n",
       "             Duration            Version RingRemoval  Beamhardening  \n",
       "0 1900-01-01 00:24:22  (NRecon, 1.7.4.2)           7             40  \n",
       "1 1900-01-01 02:50:17  (NRecon, 1.7.4.2)           7             40  \n",
       "2 1900-01-01 00:24:26  (NRecon, 1.7.4.2)           7             40  \n",
       "3 1900-01-01 00:24:51  (NRecon, 1.6.9.9)           9             40  \n",
       "4 1900-01-01 00:24:23  (NRecon, 1.7.4.2)           7             40  \n",
       "\n",
       "[5 rows x 21 columns]"
      ]
     },
     "execution_count": 753,
     "metadata": {},
     "output_type": "execute_result"
    }
   ],
   "source": [
    "Data.head()"
   ]
  },
  {
   "cell_type": "code",
   "execution_count": 728,
   "metadata": {},
   "outputs": [
    {
     "data": {
      "text/html": [
       "<div>\n",
       "<style scoped>\n",
       "    .dataframe tbody tr th:only-of-type {\n",
       "        vertical-align: middle;\n",
       "    }\n",
       "\n",
       "    .dataframe tbody tr th {\n",
       "        vertical-align: top;\n",
       "    }\n",
       "\n",
       "    .dataframe thead tr th {\n",
       "        text-align: left;\n",
       "    }\n",
       "\n",
       "    .dataframe thead tr:last-of-type th {\n",
       "        text-align: right;\n",
       "    }\n",
       "</style>\n",
       "<table border=\"1\" class=\"dataframe\">\n",
       "  <thead>\n",
       "    <tr>\n",
       "      <th></th>\n",
       "      <th colspan=\"8\" halign=\"left\">Voltage</th>\n",
       "      <th colspan=\"2\" halign=\"left\">Current</th>\n",
       "      <th>...</th>\n",
       "      <th colspan=\"2\" halign=\"left\">Exposure</th>\n",
       "      <th colspan=\"8\" halign=\"left\">Averaging</th>\n",
       "    </tr>\n",
       "    <tr>\n",
       "      <th></th>\n",
       "      <th>count</th>\n",
       "      <th>mean</th>\n",
       "      <th>std</th>\n",
       "      <th>min</th>\n",
       "      <th>25%</th>\n",
       "      <th>50%</th>\n",
       "      <th>75%</th>\n",
       "      <th>max</th>\n",
       "      <th>count</th>\n",
       "      <th>mean</th>\n",
       "      <th>...</th>\n",
       "      <th>75%</th>\n",
       "      <th>max</th>\n",
       "      <th>count</th>\n",
       "      <th>mean</th>\n",
       "      <th>std</th>\n",
       "      <th>min</th>\n",
       "      <th>25%</th>\n",
       "      <th>50%</th>\n",
       "      <th>75%</th>\n",
       "      <th>max</th>\n",
       "    </tr>\n",
       "    <tr>\n",
       "      <th>Voxelsize</th>\n",
       "      <th></th>\n",
       "      <th></th>\n",
       "      <th></th>\n",
       "      <th></th>\n",
       "      <th></th>\n",
       "      <th></th>\n",
       "      <th></th>\n",
       "      <th></th>\n",
       "      <th></th>\n",
       "      <th></th>\n",
       "      <th></th>\n",
       "      <th></th>\n",
       "      <th></th>\n",
       "      <th></th>\n",
       "      <th></th>\n",
       "      <th></th>\n",
       "      <th></th>\n",
       "      <th></th>\n",
       "      <th></th>\n",
       "      <th></th>\n",
       "      <th></th>\n",
       "    </tr>\n",
       "  </thead>\n",
       "  <tbody>\n",
       "    <tr>\n",
       "      <td>13.27</td>\n",
       "      <td>4.0</td>\n",
       "      <td>100.0</td>\n",
       "      <td>0.0</td>\n",
       "      <td>100.0</td>\n",
       "      <td>100.0</td>\n",
       "      <td>100.0</td>\n",
       "      <td>100.0</td>\n",
       "      <td>100.0</td>\n",
       "      <td>4.0</td>\n",
       "      <td>100.0</td>\n",
       "      <td>...</td>\n",
       "      <td>1250.0</td>\n",
       "      <td>1250.0</td>\n",
       "      <td>4.0</td>\n",
       "      <td>3.0</td>\n",
       "      <td>0.0</td>\n",
       "      <td>3.0</td>\n",
       "      <td>3.0</td>\n",
       "      <td>3.0</td>\n",
       "      <td>3.0</td>\n",
       "      <td>3.0</td>\n",
       "    </tr>\n",
       "    <tr>\n",
       "      <td>26.54</td>\n",
       "      <td>12.0</td>\n",
       "      <td>100.0</td>\n",
       "      <td>0.0</td>\n",
       "      <td>100.0</td>\n",
       "      <td>100.0</td>\n",
       "      <td>100.0</td>\n",
       "      <td>100.0</td>\n",
       "      <td>100.0</td>\n",
       "      <td>12.0</td>\n",
       "      <td>100.0</td>\n",
       "      <td>...</td>\n",
       "      <td>300.0</td>\n",
       "      <td>300.0</td>\n",
       "      <td>12.0</td>\n",
       "      <td>2.0</td>\n",
       "      <td>0.0</td>\n",
       "      <td>2.0</td>\n",
       "      <td>2.0</td>\n",
       "      <td>2.0</td>\n",
       "      <td>2.0</td>\n",
       "      <td>2.0</td>\n",
       "    </tr>\n",
       "  </tbody>\n",
       "</table>\n",
       "<p>2 rows × 56 columns</p>\n",
       "</div>"
      ],
      "text/plain": [
       "          Voltage                                                Current  \\\n",
       "            count   mean  std    min    25%    50%    75%    max   count   \n",
       "Voxelsize                                                                  \n",
       "13.27         4.0  100.0  0.0  100.0  100.0  100.0  100.0  100.0     4.0   \n",
       "26.54        12.0  100.0  0.0  100.0  100.0  100.0  100.0  100.0    12.0   \n",
       "\n",
       "                  ... Exposure         Averaging                           \\\n",
       "            mean  ...      75%     max     count mean  std  min  25%  50%   \n",
       "Voxelsize         ...                                                       \n",
       "13.27      100.0  ...   1250.0  1250.0       4.0  3.0  0.0  3.0  3.0  3.0   \n",
       "26.54      100.0  ...    300.0   300.0      12.0  2.0  0.0  2.0  2.0  2.0   \n",
       "\n",
       "                     \n",
       "           75%  max  \n",
       "Voxelsize            \n",
       "13.27      3.0  3.0  \n",
       "26.54      2.0  2.0  \n",
       "\n",
       "[2 rows x 56 columns]"
      ]
     },
     "execution_count": 728,
     "metadata": {},
     "output_type": "execute_result"
    }
   ],
   "source": [
    "Data.groupby(by=['Voxelsize']).describe()"
   ]
  },
  {
   "cell_type": "code",
   "execution_count": 727,
   "metadata": {},
   "outputs": [
    {
     "data": {
      "text/plain": [
       "26.54"
      ]
     },
     "execution_count": 727,
     "metadata": {},
     "output_type": "execute_result"
    }
   ],
   "source": [
    "Data.Voxelsize[5]"
   ]
  },
  {
   "cell_type": "code",
   "execution_count": 729,
   "metadata": {},
   "outputs": [
    {
     "data": {
      "text/plain": [
       "'/home/habi/1272/ZMK/ToothBattallion/99/Tooth099.log'"
      ]
     },
     "execution_count": 729,
     "metadata": {},
     "output_type": "execute_result"
    }
   ],
   "source": [
    "log"
   ]
  },
  {
   "cell_type": "code",
   "execution_count": 730,
   "metadata": {},
   "outputs": [
    {
     "name": "stdout",
     "output_type": "stream",
     "text": [
      "[System]\n",
      "Scanner=SkyScan1272\n",
      "Instrument S/N=15G09089-B\n",
      "Software Version=1.1.19\n",
      "Home Directory=C:\\SkyScan1272\\SkyScan1272\n",
      "Source Type=HAMAMATSU_L11871_20\n",
      "Camera Type=XIMEA xiRAY16\n",
      "Camera Pixel Size (um)=7.4\n",
      "Camera X/Y Ratio=1.0023\n",
      "[User]\n",
      "User Name=haberthu\n",
      "Computer Name=ANAMIC02\n",
      "[Acquisition]\n",
      "Data Directory=D:\\Results\\ZMK\\ToothBattallion\\99\n",
      "Filename Prefix=Tooth099~00\n",
      "Filename Index Length=8\n",
      "Number Of Files=  482\n",
      "Number Of Rows= 1092\n",
      "Number Of Columns= 1632\n",
      "Partial Width=OFF\n",
      "Image crop origin X=0\n",
      "Image crop origin Y=0\n",
      "Camera binning=3x3\n",
      "Image Rotation=0.13600\n",
      "Optical Axis (line)=  580\n",
      "Camera to Source (mm)=174.07267\n",
      "Object to Source (mm)=78.41100\n",
      "Source Voltage (kV)=  80\n",
      "Source Current (uA)= 125\n",
      "Image Pixel Size (um)=9.999986\n",
      "Scaled Image Pixel Size (um)=9.999986\n",
      "Image Format=TIFF\n",
      "Depth (bits)=16\n",
      "Reference Intensity=57000\n",
      "Camera position=close\n",
      "Exposure (ms)=950\n",
      "Rotation Step (deg)=0.400\n",
      "Use 360 Rotation=NO\n",
      "Scanning position=36.000 mm\n",
      "Frame Averaging=ON (3)\n",
      "Random Movement=OFF (30)\n",
      "Flat Field Correction=ON\n",
      "Geometrical Correction=ON\n",
      "Filter=Al 1mm\n",
      "Gantry direction=CC\n",
      "Rotation Direction=CC\n",
      "Type of Detector Motion=STEP AND SHOOT\n",
      "Scanning Trajectory=ROUND\n",
      "Number Of Horizontal Offset Positions=1\n",
      "Number of connected scans=5\n",
      "Current scan number=1\n",
      "Number of lines to be reconstructed=731\n",
      "Study Date and Time=10 Jul 2020  15h:35m:26s\n",
      "Scan duration=0h:39m:49s\n",
      "Maximum vertical TS=5.0\n",
      "[Reconstruction]\n",
      "Reconstruction Program=NRecon\n",
      "Program Version=Version: 1.7.4.6\n",
      "Program Home Directory=C:\\SkyScan1272\\SkyScan1272\n",
      "Reconstruction engine=GPUReconServer\n",
      "Engine version=Version: 1.7.4\n",
      "Reconstruction from batch=Yes\n",
      "Postalignment Applied=1\n",
      "Connected Reconstruction (parts)=5\n",
      "Sub-scan post alignment [0]=18.000000\n",
      "Sub-scan post alignment [1]=18.000000\n",
      "Sub-scan post alignment [2]=18.500000\n",
      "Sub-scan post alignment [3]=13.500000\n",
      "Sub-scan post alignment [4]=21.500000\n",
      "Sub-scan scan length [0]=733\n",
      "Sub-scan scan length [1]=737\n",
      "Sub-scan scan length [2]=731\n",
      "Sub-scan scan length [3]=688\n",
      "Sub-scan scan length [4]=731\n",
      "Reconstruction servers= ANAMIC02\n",
      "Dataset Origin=SkyScan1272\n",
      "Dataset Prefix=Tooth099~04\n",
      "Dataset Directory=D:\\Results\\ZMK\\ToothBattallion\\99\n",
      "Output Directory=D:\\Results\\ZMK\\ToothBattallion\\99\\rec\n",
      "Time and Date=13 Jul 2020  11h:54m:13s\n",
      "First Section=60\n",
      "Last Section=3962\n",
      "Reconstruction duration per slice (seconds)=0.197833\n",
      "Total reconstruction time (3968 slices) in seconds=785.000000\n",
      "Section to Section Step=1\n",
      "Sections Count=3903\n",
      "Result File Type=PNG\n",
      "Result File Header Length (bytes)=Unknown: compressed JPG format (100%)\n",
      "Result Image Width (pixels)=1632\n",
      "Result Image Height (pixels)=1632\n",
      "Pixel Size (um)=9.99999\n",
      "Reconstruction Angular Range (deg)=192.80\n",
      "Use 180+=OFF\n",
      "Angular Step (deg)=0.4000\n",
      "Smoothing=0\n",
      "Ring Artifact Correction=14\n",
      "Draw Scales=OFF\n",
      "Object Bigger than FOV=OFF\n",
      "Reconstruction from ROI=OFF\n",
      "Filter cutoff relative to Nyquist frequency=100\n",
      "Filter type=0\n",
      "Filter type description=Hamming (Alpha=0.54)\n",
      "Undersampling factor=1\n",
      "Threshold for defect pixel mask (%)=0\n",
      "Beam Hardening Correction (%)=0\n",
      "CS Static Rotation (deg)=0.00\n",
      "CS Static Rotation Total(deg)=0.00\n",
      "Minimum for CS to Image Conversion=0.000000\n",
      "Maximum for CS to Image Conversion=0.180000\n",
      "HU Calibration=OFF\n",
      "BMP LUT=0\n",
      "Cone-beam Angle Horiz.(deg)=11.882415\n",
      "Cone-beam Angle Vert.(deg)=7.966494\n"
     ]
    },
    {
     "data": {
      "text/plain": [
       "()"
      ]
     },
     "execution_count": 730,
     "metadata": {},
     "output_type": "execute_result"
    }
   ],
   "source": [
    "fulllog(log)"
   ]
  },
  {
   "cell_type": "code",
   "execution_count": null,
   "metadata": {},
   "outputs": [],
   "source": []
  }
 ],
 "metadata": {
  "kernelspec": {
   "display_name": "Python 3",
   "language": "python",
   "name": "python3"
  },
  "language_info": {
   "codemirror_mode": {
    "name": "ipython",
    "version": 3
   },
   "file_extension": ".py",
   "mimetype": "text/x-python",
   "name": "python",
   "nbconvert_exporter": "python",
   "pygments_lexer": "ipython3",
   "version": "3.7.3"
  }
 },
 "nbformat": 4,
 "nbformat_minor": 4
}
