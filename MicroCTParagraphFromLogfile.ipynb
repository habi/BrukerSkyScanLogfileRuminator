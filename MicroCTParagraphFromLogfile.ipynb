{
 "cells": [
  {
   "cell_type": "markdown",
   "metadata": {},
   "source": [
    "This notebook generates the paragraph about the microCT-scanning from logfiles of the scans."
   ]
  },
  {
   "cell_type": "code",
   "execution_count": 1,
   "metadata": {},
   "outputs": [],
   "source": [
    "import os\n",
    "import glob"
   ]
  },
  {
   "cell_type": "code",
   "execution_count": 3,
   "metadata": {},
   "outputs": [
    {
     "data": {
      "application/vnd.jupyter.widget-view+json": {
       "model_id": "71e9e364f37e41a5a661db5d6ba38d4e",
       "version_major": 2,
       "version_minor": 0
      },
      "text/plain": [
       "VBox(children=(SelectFilesButton(description='Select Files', icon='square-o', style=ButtonStyle(button_color='…"
      ]
     },
     "metadata": {},
     "output_type": "display_data"
    }
   ],
   "source": [
    "# Copied from https://codereview.stackexchange.com/a/229889\n",
    "import traitlets\n",
    "from ipywidgets import widgets\n",
    "from IPython.display import display\n",
    "from tkinter import Tk, filedialog\n",
    "\n",
    "\n",
    "class SelectFilesButton(widgets.Button):\n",
    "    \"\"\"A file widget that leverages tkinter.filedialog.\"\"\"\n",
    "\n",
    "    def __init__(self):\n",
    "        super(SelectFilesButton, self).__init__()\n",
    "        # Add the selected_files trait\n",
    "        self.add_traits(files=traitlets.traitlets.List())\n",
    "        # Create the button.\n",
    "        self.description = \"Select Files\"\n",
    "        self.icon = \"square-o\"\n",
    "        self.style.button_color = \"orange\"\n",
    "        # Set on click behavior.\n",
    "        self.on_click(self.select_files)\n",
    "\n",
    "    @staticmethod\n",
    "    def select_files(b):\n",
    "        \"\"\"Generate instance of tkinter.filedialog.\n",
    "\n",
    "        Parameters\n",
    "        ----------\n",
    "        b : obj:\n",
    "            An instance of ipywidgets.widgets.Button \n",
    "        \"\"\"\n",
    "        with out:\n",
    "            try:\n",
    "                # Create Tk root\n",
    "                root = Tk()\n",
    "                # Hide the main window\n",
    "                root.withdraw()\n",
    "                # Raise the root to the top of all windows.\n",
    "                root.call('wm', 'attributes', '.', '-topmost', True)\n",
    "                # List of selected fileswill be set to b.value\n",
    "                b.files = filedialog.askopenfilename(multiple=True)\n",
    "\n",
    "                b.description = \"Files Selected\"\n",
    "                b.icon = \"check-square-o\"\n",
    "                b.style.button_color = \"lightgreen\"\n",
    "            except:\n",
    "                pass\n",
    "out = widgets.Output()\n",
    "raw = SelectFilesButton()\n",
    "widgets.VBox([raw, out])"
   ]
  },
  {
   "cell_type": "code",
   "execution_count": 67,
   "metadata": {},
   "outputs": [],
   "source": [
    "# Choose the file selected above\n",
    "log = raw.files[0]"
   ]
  },
  {
   "cell_type": "code",
   "execution_count": 68,
   "metadata": {},
   "outputs": [
    {
     "name": "stdout",
     "output_type": "stream",
     "text": [
      "We are looking at the values in /home/habi/research-storage-uct/Archiv_Tape/Rabbit-Grenoble/Rabbit-1-Grenoble2015/Rabbit-1-Overview--Mandibula-Grenoble2015-26-6um/proj/Rabbit-1-Overview--Mandibula-Grenoble2015-26-6um_.log\n"
     ]
    }
   ],
   "source": [
    "print('We are looking at the values in %s' % log)"
   ]
  },
  {
   "cell_type": "code",
   "execution_count": 69,
   "metadata": {},
   "outputs": [],
   "source": [
    "# Load log file manually (probably needed on Windows)\n",
    "# log = 'f:\\Verdiana Lung\\Experiment01\\Mouse04\\proj\\Mouse04.log'"
   ]
  },
  {
   "cell_type": "code",
   "execution_count": 136,
   "metadata": {},
   "outputs": [],
   "source": [
    "def fulllog(logfile):\n",
    "    with open(logfile, 'r') as f:\n",
    "        for line in f:\n",
    "            print(line.strip())\n",
    "    return()"
   ]
  },
  {
   "cell_type": "code",
   "execution_count": null,
   "metadata": {},
   "outputs": [],
   "source": [
    "# MAYBE IMPLEMENT SOFTWARE VERSION"
   ]
  },
  {
   "cell_type": "code",
   "execution_count": null,
   "metadata": {},
   "outputs": [],
   "source": [
    "# MAYBE IMPLEMENT SOURCE"
   ]
  },
  {
   "cell_type": "code",
   "execution_count": null,
   "metadata": {},
   "outputs": [],
   "source": [
    "# MAYBE IMPLEMENT CAMERA"
   ]
  },
  {
   "cell_type": "code",
   "execution_count": 137,
   "metadata": {},
   "outputs": [
    {
     "name": "stdout",
     "output_type": "stream",
     "text": [
      "[System]\n",
      "Scanner=Skyscan1172\n",
      "Instrument S/N=12O01199\n",
      "Hardware version=F\n",
      "Software=Version 1. 5 (build 20)\n",
      "Home directory=C:\\SkyScan1172F_11MP_Hamamatsu\n",
      "Source Type=Hamamatsu 100/250\n",
      "Camera=Hamamatsu C9300 11Mp camera\n",
      "Camera Pixel Size (um)=    8.80\n",
      "CameraXYRatio=0.9927\n",
      "Incl.in lifting (um/mm)=3.0875\n",
      "[Disk Errors]\n",
      "Read=0\n",
      "Write=0\n",
      "Recovered from empty=0\n",
      "[Acquisition]\n",
      "Data directory=Z:\\Sebastien\\Rabbit-Grenoble\\Rabbit-1-Grenoble2015\\Rabbit-1-Overview--Mandibula-Grenoble2015-26-6um\\proj\n",
      "Filename Prefix=Rabbit-1-Overview--Mandibula-Grenoble2015-26-6um_\n",
      "Configuration=C:\\SkyScan1172F_11MP_Hamamatsu\\config\\Rabbit-Grenoble\\Rabbit-Grenoble-100kV\n",
      "Number of Files=  583\n",
      "Source Voltage (kV)= 100\n",
      "Source Current (uA)= 100\n",
      "Number of Rows=  668\n",
      "Number of Columns= 1984\n",
      "Image crop origin X=   0\n",
      "Image crop origin Y=0\n",
      "Camera binning=4x4\n",
      "Image Rotation=0.2300\n",
      "Gantry direction=CC\n",
      "Compensation of difference in offset images=ON\n",
      "Number of connected scans=    4\n",
      "Number of lines to be reconstructed=  547\n",
      "Image Pixel Size (um)=   26.54\n",
      "Object to Source (mm)=258.100\n",
      "Camera to Source (mm)=342.389\n",
      "Vertical Object Position (mm)=1.550\n",
      "Optical Axis (line)= 371\n",
      "Filter=Al  0.5 mm\n",
      "Image Format=TIFF\n",
      "Depth (bits)=16\n",
      "Screen LUT=0\n",
      "Exposure (ms)=   300\n",
      "Rotation Step (deg)=0.350\n",
      "Frame Averaging=ON (2)\n",
      "Random Movement=OFF (0)\n",
      "Use 360 Rotation=NO\n",
      "Geometrical Correction=ON\n",
      "Camera Offset=ON\n",
      "Median Filtering=ON\n",
      "Flat Field Correction=ON\n",
      "Rotation Direction=CC\n",
      "Scanning Trajectory=ROUND\n",
      "Type Of Motion=STEP AND SHOOT\n",
      "Study Date and Time=Apr 17, 2015  14:06:35\n",
      "Scan duration=00:24:22\n",
      "[Pre-processing]\n",
      "Last used post-alignment value [0]=1.500000\n",
      "Last used post-alignment value [1]=0.000000\n",
      "Last used post-alignment value [2]=-1.000000\n",
      "Last used post-alignment value [3]=-0.500000\n",
      "[Reconstruction]\n",
      "Reconstruction Program=NRecon\n",
      "Program Version=Version: 1.7.4.2\n",
      "Program Home Directory=C:\\Program Files\\NRecon\n",
      "Reconstruction engine=GPUReconServer\n",
      "Engine version=Version: 1.7.4\n",
      "Reconstruction from batch=Yes\n",
      "Postalignment Applied=1\n",
      "Connected Reconstruction (parts)=4\n",
      "Sub-scan post alignment [0]=1.500000\n",
      "Sub-scan post alignment [1]=0.000000\n",
      "Sub-scan post alignment [2]=-1.000000\n",
      "Sub-scan post alignment [3]=-0.500000\n",
      "Sub-scan scan length [0]=546\n",
      "Sub-scan scan length [1]=546\n",
      "Sub-scan scan length [2]=545\n",
      "Sub-scan scan length [3]=546\n",
      "Used extra rotation per scan(deg)= 0.000  0.000  0.000  0.000\n",
      "Used extra shift in X per scan(micron)= 0.000  13.724  26.968  14.032\n",
      "Used extra shift in Y per scan(micron)= 0.000  66.520  106.273  93.156\n",
      "Reconstruction servers= ANAKLIN04\n",
      "Dataset Origin=Skyscan1172\n",
      "Dataset Prefix=Rabbit-1-Overview--Mandibula-Grenoble2015-26-6um_~03\n",
      "Dataset Directory=M:\\Rabbit-Grenoble\\Rabbit-1-Grenoble2015\\Rabbit-1-Overview--Mandibula-Grenoble2015-26-6um\\proj\n",
      "Output Directory=M:\\Rabbit-Grenoble\\Rabbit-1-Grenoble2015\\Rabbit-1-Overview--Mandibula-Grenoble2015-26-6um\\rec\n",
      "Time and Date=Nov 13, 2019  18:34:07\n",
      "First Section=104\n",
      "Last Section=2274\n",
      "Reconstruction duration per slice (seconds)=1.471917\n",
      "Total reconstruction time (1638 slices) in seconds=2411.000000\n",
      "Section to Section Step=1\n",
      "Sections Count=2171\n",
      "Result File Type=PNG\n",
      "Result File Header Length (bytes)=Unknown: compressed JPG format (100%)\n",
      "Result Image Width (pixels)=1984\n",
      "Result Image Height (pixels)=1984\n",
      "Pixel Size (um)=26.56889\n",
      "Reconstruction Angular Range (deg)=203.70\n",
      "Use 180+=OFF\n",
      "Angular Step (deg)=0.3500\n",
      "Smoothing=1\n",
      "Smoothing kernel=2 (Gaussian)\n",
      "Ring Artifact Correction=7\n",
      "Draw Scales=OFF\n",
      "Object Bigger than FOV=ON\n",
      "Reconstruction from ROI=OFF\n",
      "Filter cutoff relative to Nyquist frequency=100\n",
      "Filter type=0\n",
      "Filter type description=Hamming (Alpha=0.54)\n",
      "Undersampling factor=1\n",
      "Threshold for defect pixel mask (%)=0\n",
      "Beam Hardening Correction (%)=40\n",
      "CS Static Rotation (deg)=0.00\n",
      "CS Static Rotation Total(deg)=0.00\n",
      "Minimum for CS to Image Conversion=0.000000\n",
      "Maximum for CS to Image Conversion=0.050000\n",
      "HU Calibration=OFF\n",
      "BMP LUT=0\n",
      "Cone-beam Angle Horiz.(deg)=11.661300\n",
      "Cone-beam Angle Vert.(deg)=3.938343\n"
     ]
    },
    {
     "data": {
      "text/plain": [
       "()"
      ]
     },
     "execution_count": 137,
     "metadata": {},
     "output_type": "execute_result"
    }
   ],
   "source": [
    "fulllog(log)"
   ]
  },
  {
   "cell_type": "code",
   "execution_count": 85,
   "metadata": {},
   "outputs": [],
   "source": [
    "import re\n",
    "def scanner(logfile, verbose=False):\n",
    "    with open(logfile, 'r') as f:\n",
    "        for line in f:\n",
    "            if 'Scanner' in line:\n",
    "                if verbose:\n",
    "                    print(line)\n",
    "                # Sometimes it's SkyScan, sometimes Skyscan, so we have to regex it :)\n",
    "                machine = re.split('Sky.can', line)[1].strip()\n",
    "    return('SkyScan ' + machine)"
   ]
  },
  {
   "cell_type": "code",
   "execution_count": 86,
   "metadata": {},
   "outputs": [
    {
     "name": "stdout",
     "output_type": "stream",
     "text": [
      "Scanner=Skyscan1172\n",
      "\n"
     ]
    },
    {
     "data": {
      "text/plain": [
       "'SkyScan 1172'"
      ]
     },
     "execution_count": 86,
     "metadata": {},
     "output_type": "execute_result"
    }
   ],
   "source": [
    "scanner(log, verbose=True)"
   ]
  },
  {
   "cell_type": "code",
   "execution_count": 72,
   "metadata": {},
   "outputs": [],
   "source": [
    "def voltage(logfile, verbose=False):\n",
    "    with open(logfile, 'r') as f:\n",
    "        for line in f:\n",
    "            if 'Voltage' in line:\n",
    "                if verbose:\n",
    "                    print(line)\n",
    "                V = float(line.split('=')[1])\n",
    "    return(V)"
   ]
  },
  {
   "cell_type": "code",
   "execution_count": 73,
   "metadata": {},
   "outputs": [],
   "source": [
    "def current(logfile, verbose=False):\n",
    "    with open(logfile, 'r') as f:\n",
    "        for line in f:\n",
    "            if 'Current' in line:\n",
    "                if verbose:\n",
    "                    print(line)\n",
    "                A = float(line.split('=')[1])\n",
    "    return(A)"
   ]
  },
  {
   "cell_type": "code",
   "execution_count": 74,
   "metadata": {},
   "outputs": [],
   "source": [
    "def whichfilter(logfile, verbose=False):\n",
    "    with open(logfile, 'r') as f:\n",
    "        for line in f:\n",
    "            if 'Filter=' in line:\n",
    "                if verbose:\n",
    "                    print(line)\n",
    "                fltr = line.split('=')[1].strip().replace('  ', ' ')\n",
    "                if fltr=='No Filter':\n",
    "                    fltr=False\n",
    "    return(fltr)"
   ]
  },
  {
   "cell_type": "code",
   "execution_count": 75,
   "metadata": {},
   "outputs": [
    {
     "name": "stdout",
     "output_type": "stream",
     "text": [
      "Filter=Al  0.5 mm\n",
      "\n"
     ]
    },
    {
     "data": {
      "text/plain": [
       "'Al 0.5 mm'"
      ]
     },
     "execution_count": 75,
     "metadata": {},
     "output_type": "execute_result"
    }
   ],
   "source": [
    "whichfilter(log, verbose=True)"
   ]
  },
  {
   "cell_type": "code",
   "execution_count": 76,
   "metadata": {},
   "outputs": [],
   "source": [
    "def numproj(logfile, verbose=False):\n",
    "    with open(logfile, 'r') as f:\n",
    "        for line in f:\n",
    "            if 'of Files' in line:\n",
    "                if verbose:\n",
    "                    print(line)\n",
    "                numproj = int(line.split('=')[1])\n",
    "    return(numproj)"
   ]
  },
  {
   "cell_type": "code",
   "execution_count": 77,
   "metadata": {},
   "outputs": [
    {
     "name": "stdout",
     "output_type": "stream",
     "text": [
      "Number of Files=  583\n",
      "\n"
     ]
    },
    {
     "data": {
      "text/plain": [
       "583"
      ]
     },
     "execution_count": 77,
     "metadata": {},
     "output_type": "execute_result"
    }
   ],
   "source": [
    "numproj(log, verbose=True)"
   ]
  },
  {
   "cell_type": "code",
   "execution_count": 78,
   "metadata": {},
   "outputs": [],
   "source": [
    "def camerasize(logfile, verbose=False):\n",
    "    with open(logfile, 'r') as f:\n",
    "        for line in f:\n",
    "            if 'Columns' in line:\n",
    "                if verbose:\n",
    "                    print(line)\n",
    "                columns = int(line.split('=')[1])\n",
    "            if 'Rows' in line:\n",
    "                if verbose:\n",
    "                    print(line)\n",
    "                rows = int(line.split('=')[1])\n",
    "    return(columns, rows)"
   ]
  },
  {
   "cell_type": "code",
   "execution_count": 79,
   "metadata": {},
   "outputs": [],
   "source": [
    "def rotationstep(logfile, verbose=False):\n",
    "    with open(logfile, 'r') as f:\n",
    "        for line in f:\n",
    "            if 'Rotation Step' in line:\n",
    "                if verbose:\n",
    "                    print(line)\n",
    "                rotstep = float(line.split('=')[1])\n",
    "    return(rotstep)"
   ]
  },
  {
   "cell_type": "code",
   "execution_count": 80,
   "metadata": {},
   "outputs": [],
   "source": [
    "def exposure(logfile, verbose=False):\n",
    "    with open(logfile, 'r') as f:\n",
    "        for line in f:\n",
    "            if 'Exposure' in line:\n",
    "                if verbose:\n",
    "                    print(line)\n",
    "                exp = int(line.split('=')[1])\n",
    "    return(exp)"
   ]
  },
  {
   "cell_type": "code",
   "execution_count": 81,
   "metadata": {},
   "outputs": [],
   "source": [
    "def averaging(logfile, verbose=False):\n",
    "    with open(logfile, 'r') as f:\n",
    "        for line in f:\n",
    "            if 'Avera' in line:\n",
    "                if verbose:\n",
    "                    print(line)\n",
    "                details = line.split('=')[1]\n",
    "                if 'ON' in details:\n",
    "                    # https://stackoverflow.com/a/4894156/323100\n",
    "                    avg = int(details[details.find(\"(\")+1:details.find(\")\")])\n",
    "                else:\n",
    "                    avg=False\n",
    "    return(avg)"
   ]
  },
  {
   "cell_type": "code",
   "execution_count": 82,
   "metadata": {},
   "outputs": [],
   "source": [
    "import datetime\n",
    "def duration(logfile, verbose=False):\n",
    "    with open(logfile, 'r') as f:\n",
    "        for line in f:\n",
    "            if 'Scan duration' in line:\n",
    "                if verbose:\n",
    "                    print(line)\n",
    "                duration = line.split('=')[1].strip()\n",
    "    # Sometimes it's '00:24:26', sometimes '0h:52m:53s'\n",
    "    if 'h' in duration:\n",
    "        return(datetime.datetime.strptime(duration, '%Hh:%Mm:%Ss'))\n",
    "    else:\n",
    "        return(datetime.datetime.strptime(duration, '%H:%M:%S'))"
   ]
  },
  {
   "cell_type": "code",
   "execution_count": 83,
   "metadata": {},
   "outputs": [
    {
     "name": "stdout",
     "output_type": "stream",
     "text": [
      "Scan duration=00:24:22\n",
      "\n",
      "0 hours\n",
      "24 minutes\n",
      "22 seconds\n"
     ]
    }
   ],
   "source": [
    "print(duration(log, verbose=True).hour, 'hours')\n",
    "print(duration(log).minute, 'minutes')\n",
    "print(duration(log).second, 'seconds')"
   ]
  },
  {
   "cell_type": "code",
   "execution_count": 87,
   "metadata": {},
   "outputs": [],
   "source": [
    "def pixelsize(logfile, verbose=False):\n",
    "    with open(logfile, 'r') as f:\n",
    "        for line in f:\n",
    "            if 'Image Pixel' in line and 'Scaled' not in line:\n",
    "                if verbose:\n",
    "                    print(line)\n",
    "                pixelsize = float(line.split('=')[1])\n",
    "    return(pixelsize)"
   ]
  },
  {
   "cell_type": "code",
   "execution_count": 123,
   "metadata": {},
   "outputs": [],
   "source": [
    "def version(logfile, verbose=False):\n",
    "    with open(logfile, 'r') as f:\n",
    "        for line in f:\n",
    "            if 'Reconstruction Program' in line:\n",
    "                if verbose:\n",
    "                    print(line)\n",
    "                Program = line.split('=')[1].strip()\n",
    "            if 'Program Version' in line:\n",
    "                if verbose:\n",
    "                    print(line)\n",
    "                Version = line.split('sion:')[1].strip()\n",
    "    return(Program, Version)"
   ]
  },
  {
   "cell_type": "code",
   "execution_count": 124,
   "metadata": {},
   "outputs": [
    {
     "name": "stdout",
     "output_type": "stream",
     "text": [
      "Reconstruction Program=NRecon\n",
      "\n",
      "Program Version=Version: 1.7.4.2\n",
      "\n"
     ]
    },
    {
     "data": {
      "text/plain": [
       "('NRecon', '1.7.4.2')"
      ]
     },
     "execution_count": 124,
     "metadata": {},
     "output_type": "execute_result"
    }
   ],
   "source": [
    "version(log, verbose=True)"
   ]
  },
  {
   "cell_type": "markdown",
   "metadata": {},
   "source": [
    "My microct blurb from http://simp.ly/publish/NBhZhH"
   ]
  },
  {
   "cell_type": "code",
   "execution_count": 104,
   "metadata": {},
   "outputs": [
    {
     "name": "stdout",
     "output_type": "stream",
     "text": [
      "Based on /home/habi/research-storage-uct/Archiv_Tape/Rabbit-Grenoble/Rabbit-1-Grenoble2015/Rabbit-1-Overview--Mandibula-Grenoble2015-26-6um/proj/Rabbit-1-Overview--Mandibula-Grenoble2015-26-6um_.log\n"
     ]
    }
   ],
   "source": [
    "print('Based on %s' % log)"
   ]
  },
  {
   "cell_type": "code",
   "execution_count": 90,
   "metadata": {},
   "outputs": [
    {
     "name": "stdout",
     "output_type": "stream",
     "text": [
      "After $PREPARATION, the $NUMSAMPLES samples were imaged on a Bruker SkyScan 1172 high-resolution microtomography machine (Bruker microCT, Kontich, Belgium).\n"
     ]
    }
   ],
   "source": [
    "print('After $PREPARATION, the $NUMSAMPLES samples were imaged on a Bruker',\n",
    "      scanner(log, verbose=False),\n",
    "      'high-resolution microtomography machine (Bruker microCT, Kontich, Belgium).')"
   ]
  },
  {
   "cell_type": "code",
   "execution_count": 91,
   "metadata": {},
   "outputs": [
    {
     "name": "stdout",
     "output_type": "stream",
     "text": [
      "The X-ray source was set to a tube voltage of 100.0 kV and a tube current of 100.0 µA, the x-ray spectrum was filtered by Al 0.5 mm prior to incidence onto the sample.\n"
     ]
    }
   ],
   "source": [
    "print('The X-ray source was set to a tube voltage of', \n",
    "      voltage(log, verbose=False),\n",
    "      'kV and a tube current of',\n",
    "      current(log, verbose=False),\n",
    "      'µA, the x-ray spectrum was', end=' ')\n",
    "if whichfilter(log, verbose=False):\n",
    "    print('filtered by', whichfilter(log, verbose=False), end=' ')\n",
    "else:\n",
    "    print('not filtered', end=' ')\n",
    "print('prior to incidence onto the sample.')"
   ]
  },
  {
   "cell_type": "code",
   "execution_count": 92,
   "metadata": {},
   "outputs": [
    {
     "name": "stdout",
     "output_type": "stream",
     "text": [
      "For each sample, we recorded a set of 583 projections of 1984 x 668 pixels at every 0.35° over a 180° sample rotation.\n"
     ]
    }
   ],
   "source": [
    "print('For each sample, we recorded a set of',\n",
    "      numproj(log, verbose=False),\n",
    "      'projections of',\n",
    "      camerasize(log, verbose=False)[0],\n",
    "      'x',\n",
    "      camerasize(log, verbose=False)[1],\n",
    "      'pixels at every',\n",
    "      str(rotationstep(log)) + '° over a 180° sample rotation.')"
   ]
  },
  {
   "cell_type": "code",
   "execution_count": 93,
   "metadata": {},
   "outputs": [
    {
     "name": "stdout",
     "output_type": "stream",
     "text": [
      "Every single projection was exposed for 300 ms, 2 projections were averaged to one to greatly reduce image noise.\n"
     ]
    }
   ],
   "source": [
    "print('Every single projection was exposed for',\n",
    "      exposure(log),\n",
    "      'ms,',\n",
    "      averaging(log),\n",
    "      'projections were averaged to one to greatly reduce image noise.')"
   ]
  },
  {
   "cell_type": "code",
   "execution_count": 102,
   "metadata": {},
   "outputs": [
    {
     "name": "stdout",
     "output_type": "stream",
     "text": [
      "This resulted in scan times of approximately 25 minutes, and an isometric voxel size of 26.5 µm in the final data sets.\n"
     ]
    }
   ],
   "source": [
    "if duration(log).hour:\n",
    "    print('This resulted in scan times of approximately',\n",
    "          duration(log).hour,\n",
    "          'hours and',\n",
    "          round(duration(log).minute/5)*5,\n",
    "          'minutes, and an isometric voxel size of',\n",
    "          round(pixelsize(log),1),\n",
    "          'µm in the final data sets.')\n",
    "else:\n",
    "    print('This resulted in scan times of approximately',\n",
    "          round(duration(log).minute/5)*5,\n",
    "          'minutes, and an isometric voxel size of',\n",
    "          round(pixelsize(log),1),\n",
    "          'µm in the final data sets.')"
   ]
  },
  {
   "cell_type": "code",
   "execution_count": 135,
   "metadata": {},
   "outputs": [
    {
     "name": "stdout",
     "output_type": "stream",
     "text": [
      "The projection images were then subsequently reconstructed into a 3D stack of images with NRecon (Version 1.7.4.2 , Bruker microCT, Kontich Belgium).\n"
     ]
    }
   ],
   "source": [
    "print('The projection images were then subsequently reconstructed into a 3D stack',\n",
    "      'of images with',\n",
    "      version(log)[0],\n",
    "      '(Version',\n",
    "      version(log)[1],\n",
    "      ', Bruker microCT, Kontich Belgium).')"
   ]
  },
  {
   "cell_type": "code",
   "execution_count": null,
   "metadata": {},
   "outputs": [],
   "source": []
  }
 ],
 "metadata": {
  "kernelspec": {
   "display_name": "Python 3",
   "language": "python",
   "name": "python3"
  },
  "language_info": {
   "codemirror_mode": {
    "name": "ipython",
    "version": 3
   },
   "file_extension": ".py",
   "mimetype": "text/x-python",
   "name": "python",
   "nbconvert_exporter": "python",
   "pygments_lexer": "ipython3",
   "version": "3.7.3"
  }
 },
 "nbformat": 4,
 "nbformat_minor": 4
}
