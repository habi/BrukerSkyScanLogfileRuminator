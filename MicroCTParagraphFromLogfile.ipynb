{
 "cells": [
  {
   "cell_type": "markdown",
   "metadata": {},
   "source": [
    "This notebook generates the paragraph about the microCT-scanning from logfiles of the scans."
   ]
  },
  {
   "cell_type": "code",
   "execution_count": 1,
   "metadata": {},
   "outputs": [],
   "source": [
    "import platform\n",
    "import os\n",
    "import pandas\n",
    "import glob"
   ]
  },
  {
   "cell_type": "code",
   "execution_count": 2,
   "metadata": {},
   "outputs": [
    {
     "data": {
      "application/vnd.jupyter.widget-view+json": {
       "model_id": "5eab5be5474d4ed989691ba422dd9b39",
       "version_major": 2,
       "version_minor": 0
      },
      "text/plain": [
       "VBox(children=(SelectFilesButton(description='Select Files', icon='square-o', style=ButtonStyle(button_color='…"
      ]
     },
     "metadata": {},
     "output_type": "display_data"
    }
   ],
   "source": [
    "# Copied from https://codereview.stackexchange.com/a/229889\n",
    "import traitlets\n",
    "from ipywidgets import widgets\n",
    "from IPython.display import display\n",
    "from tkinter import Tk, filedialog\n",
    "\n",
    "class SelectFilesButton(widgets.Button):\n",
    "    \"\"\"A file widget that leverages tkinter.filedialog.\"\"\"\n",
    "\n",
    "    def __init__(self):\n",
    "        super(SelectFilesButton, self).__init__()\n",
    "        # Add the selected_files trait\n",
    "        self.add_traits(files=traitlets.traitlets.List())\n",
    "        # Create the button.\n",
    "        self.description = \"Select Files\"\n",
    "        self.icon = \"square-o\"\n",
    "        self.style.button_color = \"orange\"\n",
    "        # Set on click behavior.\n",
    "        self.on_click(self.select_files)\n",
    "\n",
    "    @staticmethod\n",
    "    def select_files(b):\n",
    "        \"\"\"Generate instance of tkinter.filedialog.\n",
    "\n",
    "        Parameters\n",
    "        ----------\n",
    "        b : obj:\n",
    "            An instance of ipywidgets.widgets.Button \n",
    "        \"\"\"\n",
    "        with out:\n",
    "            try:\n",
    "                # Create Tk root\n",
    "                root = Tk()\n",
    "                # Hide the main window\n",
    "                root.withdraw()\n",
    "                # Raise the root to the top of all windows.\n",
    "                root.call('wm', 'attributes', '.', '-topmost', True)\n",
    "                # List of selected fileswill be set to b.value\n",
    "                b.files = filedialog.askopenfilename(multiple=True)\n",
    "\n",
    "                b.description = \"Files Selected\"\n",
    "                b.icon = \"check-square-o\"\n",
    "                b.style.button_color = \"lightgreen\"\n",
    "            except:\n",
    "                pass\n",
    "out = widgets.Output()\n",
    "raw = SelectFilesButton()\n",
    "widgets.VBox([raw, out])"
   ]
  },
  {
   "cell_type": "markdown",
   "metadata": {},
   "source": [
    "We can also select a folder and go through *each* subfolder there..."
   ]
  },
  {
   "cell_type": "code",
   "execution_count": 86,
   "metadata": {},
   "outputs": [
    {
     "name": "stdout",
     "output_type": "stream",
     "text": [
      "We are loading all the data from /home/habi/1272/ZMK/ToothBattallion\n"
     ]
    }
   ],
   "source": [
    "# Different locations if running either on Linux or Windows\n",
    "if 'Linux' in platform.system():\n",
    "    BasePath = os.path.join(os.sep, 'home', 'habi', 'research-storage-uct', 'Archiv_Tape')\n",
    "    BasePath = os.path.join(os.sep, 'home', 'habi', '1272')\n",
    "else:\n",
    "    BasePath = os.path.join('R:\\\\')\n",
    "# Jean\n",
    "Root = os.path.join(BasePath, 'Rabbit-Grenoble')\n",
    "# ZMK\n",
    "Root = os.path.join(BasePath, 'ZahnmedizinischeKlinik', 'ToothBattallion')\n",
    "Root = os.path.join(BasePath, 'ZMK', 'ToothBattallion')\n",
    "print('We are loading all the data from %s' % Root)"
   ]
  },
  {
   "cell_type": "code",
   "execution_count": 87,
   "metadata": {},
   "outputs": [],
   "source": [
    "# Make us a dataframe for saving all that we need\n",
    "Data = pandas.DataFrame()"
   ]
  },
  {
   "cell_type": "code",
   "execution_count": 89,
   "metadata": {},
   "outputs": [],
   "source": [
    "# Look only for folders: https://stackoverflow.com/a/38216530\n",
    "# Jean\n",
    "# Data['Folder'] = sorted(glob.glob(os.path.join(Root, '**', 'Ra*' + os.path.sep)))\n",
    "# ZMK\n",
    "Data['Folder'] = sorted(glob.glob(os.path.join(Root, '*' + os.path.sep)))\n",
    "Data['Scan'] = [os.path.basename(os.path.split(f)[0]) for f in Data['Folder']]"
   ]
  },
  {
   "cell_type": "code",
   "execution_count": 90,
   "metadata": {},
   "outputs": [
    {
     "name": "stdout",
     "output_type": "stream",
     "text": [
      "We have 104 tooth folders to work with\n"
     ]
    }
   ],
   "source": [
    "# Grab a bunch of log files from a folder\n",
    "# We could do it in a list comprehension, but then it fails if we're still scanning a tooth\n",
    "# Data['LogFile'] = [sorted(glob.glob(os.path.join(f, '*.log')))[0] for f in Data['Folder']]\n",
    "for c, row in Data.iterrows():\n",
    "    try:\n",
    "        # Jean\n",
    "#         Data.at[c,'LogFile'] = sorted(glob.glob(os.path.join(row['Folder'], 'proj', '*.log')))[0]\n",
    "        # ZMK\n",
    "        Data.at[c,'LogFile'] = sorted(glob.glob(os.path.join(row['Folder'], '*.log')))[0]\n",
    "    except IndexError:\n",
    "        print('No logfile found in %s, removing the folder' % row.Folder)\n",
    "        Data.at[c,'LogFile'] = 'scanning'\n",
    "Data = Data[Data['LogFile'] != 'scanning']\n",
    "Data.reset_index(drop=True, inplace=True)\n",
    "print('We have %s tooth folders to work with' % (len(Data)))"
   ]
  },
  {
   "cell_type": "code",
   "execution_count": 614,
   "metadata": {},
   "outputs": [],
   "source": [
    "# Choose the file selected manually\n",
    "log = raw.files[0]"
   ]
  },
  {
   "cell_type": "code",
   "execution_count": 91,
   "metadata": {},
   "outputs": [],
   "source": [
    "# Choose a file from the Dataframe with *all* log files\n",
    "log = Data.LogFile[66]"
   ]
  },
  {
   "cell_type": "code",
   "execution_count": 92,
   "metadata": {},
   "outputs": [
    {
     "name": "stdout",
     "output_type": "stream",
     "text": [
      "We are looking at the values in /home/habi/1272/ZMK/ToothBattallion/65/Tooth065.log\n"
     ]
    }
   ],
   "source": [
    "print('We are looking at the values in %s' % log)"
   ]
  },
  {
   "cell_type": "code",
   "execution_count": 93,
   "metadata": {},
   "outputs": [],
   "source": [
    "# Load log file manually (probably needed on Windows)\n",
    "# log = 'f:\\Verdiana Lung\\Experiment01\\Mouse04\\proj\\Mouse04.log'"
   ]
  },
  {
   "cell_type": "code",
   "execution_count": 94,
   "metadata": {},
   "outputs": [],
   "source": [
    "# log = '/home/habi/research-storage-uct/Archiv_Tape/Rabbit-Grenoble/Rabbit-2-Grenoble2015/Rabbit-2-Overview-Grenoble2015-26-5um/proj/Rabbit-2-Overview-Grenoble2015-26-5um_.log'"
   ]
  },
  {
   "cell_type": "code",
   "execution_count": 95,
   "metadata": {},
   "outputs": [],
   "source": [
    "# log = '/home/habi/1272/ZMK/ToothBattallion/99/Tooth099.log'"
   ]
  },
  {
   "cell_type": "code",
   "execution_count": 96,
   "metadata": {},
   "outputs": [],
   "source": [
    "def fulllog(logfile):\n",
    "    with open(logfile, 'r') as f:\n",
    "        for line in f:\n",
    "            print(line.strip())\n",
    "    return()"
   ]
  },
  {
   "cell_type": "code",
   "execution_count": 97,
   "metadata": {},
   "outputs": [],
   "source": [
    "# fulllog(log)"
   ]
  },
  {
   "cell_type": "code",
   "execution_count": 98,
   "metadata": {},
   "outputs": [],
   "source": [
    "import re\n",
    "def scanner(logfile, verbose=False):\n",
    "    hardwareversion = []\n",
    "    with open(logfile, 'r') as f:\n",
    "        for line in f:\n",
    "            if 'Scanner' in line:\n",
    "                if verbose:\n",
    "                    print(line)\n",
    "                # Sometimes it's SkyScan, sometimes Skyscan, so we have to regex it :)\n",
    "                machine = re.split('Sky.can', line)[1].strip()\n",
    "            if 'Hardware' in line:\n",
    "                if verbose:\n",
    "                    print(line)\n",
    "                hardwareversion = line.split('=')[1].strip()\n",
    "    if hardwareversion:\n",
    "        return('SkyScan %s (Version %s)' % (machine, hardwareversion))\n",
    "    else:\n",
    "        return('SkyScan ' + machine)    "
   ]
  },
  {
   "cell_type": "code",
   "execution_count": 99,
   "metadata": {},
   "outputs": [],
   "source": [
    "# scanner(log, verbose=True)"
   ]
  },
  {
   "cell_type": "code",
   "execution_count": 100,
   "metadata": {},
   "outputs": [],
   "source": [
    "def scansoftware(logfile, verbose=False):\n",
    "    with open(logfile, 'r') as f:\n",
    "        for line in f:\n",
    "            if 'Software' in line:\n",
    "                if verbose:\n",
    "                    print(line)\n",
    "                version = line.split('=')[1].strip()\n",
    "    return(version)"
   ]
  },
  {
   "cell_type": "code",
   "execution_count": 101,
   "metadata": {},
   "outputs": [],
   "source": [
    "# fulllog(log)"
   ]
  },
  {
   "cell_type": "code",
   "execution_count": 102,
   "metadata": {},
   "outputs": [],
   "source": [
    "# scansoftware(log, verbose=True)"
   ]
  },
  {
   "cell_type": "code",
   "execution_count": 103,
   "metadata": {},
   "outputs": [],
   "source": [
    "def source(logfile, verbose=False):\n",
    "    with open(logfile, 'r') as f:\n",
    "        for line in f:\n",
    "            if 'Source T' in line:\n",
    "                if verbose:\n",
    "                    print(line)\n",
    "                # Sometimes it's SkyScan, sometimes Skyscan, so we have to regex it :)\n",
    "                source = line.split('=')[1].strip()\n",
    "    return(source)"
   ]
  },
  {
   "cell_type": "code",
   "execution_count": 104,
   "metadata": {},
   "outputs": [],
   "source": [
    "# source(log, verbose=True)"
   ]
  },
  {
   "cell_type": "code",
   "execution_count": 105,
   "metadata": {},
   "outputs": [],
   "source": [
    "def camera(logfile, verbose=False):\n",
    "    with open(logfile, 'r') as f:\n",
    "        for line in f:\n",
    "            if 'Camera T' in line or 'Camera=' in line:\n",
    "                if verbose:\n",
    "                    print(line)\n",
    "                cam = line.split('=')[1].strip().strip(' camera')\n",
    "    return(cam)"
   ]
  },
  {
   "cell_type": "code",
   "execution_count": 106,
   "metadata": {},
   "outputs": [],
   "source": [
    "# camera(log, verbose=True)"
   ]
  },
  {
   "cell_type": "code",
   "execution_count": 107,
   "metadata": {},
   "outputs": [],
   "source": [
    "def voltage(logfile, verbose=False):\n",
    "    with open(logfile, 'r') as f:\n",
    "        for line in f:\n",
    "            if 'Voltage' in line:\n",
    "                if verbose:\n",
    "                    print(line)\n",
    "                V = float(line.split('=')[1])\n",
    "    return(V)"
   ]
  },
  {
   "cell_type": "code",
   "execution_count": 108,
   "metadata": {},
   "outputs": [],
   "source": [
    "def current(logfile, verbose=False):\n",
    "    with open(logfile, 'r') as f:\n",
    "        for line in f:\n",
    "            if 'Source Current' in line:\n",
    "                if verbose:\n",
    "                    print(line)\n",
    "                A = float(line.split('=')[1])\n",
    "    return(A)"
   ]
  },
  {
   "cell_type": "code",
   "execution_count": 109,
   "metadata": {},
   "outputs": [],
   "source": [
    "# current(log, verbose=True)"
   ]
  },
  {
   "cell_type": "code",
   "execution_count": 110,
   "metadata": {},
   "outputs": [],
   "source": [
    "def whichfilter(logfile, verbose=False):\n",
    "    with open(logfile, 'r') as f:\n",
    "        for line in f:\n",
    "            if 'Filter=' in line:\n",
    "                if verbose:\n",
    "                    print(line)\n",
    "                fltr = line.split('=')[1].strip().replace('  ', ' ')\n",
    "                if fltr=='No Filter':\n",
    "                    fltr=False\n",
    "    return(fltr)"
   ]
  },
  {
   "cell_type": "code",
   "execution_count": 111,
   "metadata": {},
   "outputs": [],
   "source": [
    "# whichfilter(log, verbose=True)"
   ]
  },
  {
   "cell_type": "code",
   "execution_count": 112,
   "metadata": {},
   "outputs": [],
   "source": [
    "def numproj(logfile, verbose=False):\n",
    "    with open(logfile, 'r') as f:\n",
    "        for line in f:\n",
    "            if 'f Files' in line:\n",
    "                if verbose:\n",
    "                    print(line)\n",
    "                numproj = int(line.split('=')[1])\n",
    "    return(numproj)"
   ]
  },
  {
   "cell_type": "code",
   "execution_count": 113,
   "metadata": {},
   "outputs": [],
   "source": [
    "# numproj(log, verbose=True)"
   ]
  },
  {
   "cell_type": "code",
   "execution_count": 114,
   "metadata": {},
   "outputs": [],
   "source": [
    "def stacks(logfile, verbose=False):\n",
    "    with open(logfile, 'r') as f:\n",
    "        # If only one stack, then there's nothing in the log file\n",
    "        numstacks = 0\n",
    "        for line in f:\n",
    "            if 'b-scan' in line:\n",
    "                if verbose:\n",
    "                    print(line)\n",
    "                # The 'Sub-scan scan length' is listed in the log file\n",
    "                # We simply select the last one, and add 1, since Bruker also starts to count at zero\n",
    "                numstacks = int(line.split('[')[1].split(']')[0])\n",
    "    return(numstacks + 1)"
   ]
  },
  {
   "cell_type": "code",
   "execution_count": 115,
   "metadata": {},
   "outputs": [],
   "source": [
    "# stacks(log, verbose=True)"
   ]
  },
  {
   "cell_type": "code",
   "execution_count": 116,
   "metadata": {},
   "outputs": [],
   "source": [
    "def camerasize(logfile, verbose=False):\n",
    "    with open(logfile, 'r') as f:\n",
    "        for line in f:\n",
    "            if 'Columns' in line:\n",
    "                if verbose:\n",
    "                    print(line)\n",
    "                columns = int(line.split('=')[1])\n",
    "            if 'Rows' in line:\n",
    "                if verbose:\n",
    "                    print(line)\n",
    "                rows = int(line.split('=')[1])\n",
    "    return(columns, rows)"
   ]
  },
  {
   "cell_type": "code",
   "execution_count": 117,
   "metadata": {},
   "outputs": [],
   "source": [
    "def rotationstep(logfile, verbose=False):\n",
    "    with open(logfile, 'r') as f:\n",
    "        for line in f:\n",
    "            if 'Rotation Step' in line:\n",
    "                if verbose:\n",
    "                    print(line)\n",
    "                rotstep = float(line.split('=')[1])\n",
    "    return(rotstep)"
   ]
  },
  {
   "cell_type": "code",
   "execution_count": 118,
   "metadata": {},
   "outputs": [],
   "source": [
    "def exposure(logfile, verbose=False):\n",
    "    with open(logfile, 'r') as f:\n",
    "        for line in f:\n",
    "            if 'Exposure' in line:\n",
    "                if verbose:\n",
    "                    print(line)\n",
    "                exp = int(line.split('=')[1])\n",
    "    return(exp)"
   ]
  },
  {
   "cell_type": "code",
   "execution_count": 119,
   "metadata": {},
   "outputs": [],
   "source": [
    "def averaging(logfile, verbose=False):\n",
    "    with open(logfile, 'r') as f:\n",
    "        for line in f:\n",
    "            if 'Avera' in line:\n",
    "                if verbose:\n",
    "                    print(line)\n",
    "                details = line.split('=')[1]\n",
    "                if 'ON' in details:\n",
    "                    # https://stackoverflow.com/a/4894156/323100\n",
    "                    avg = int(details[details.find(\"(\")+1:details.find(\")\")])\n",
    "                else:\n",
    "                    avg=False\n",
    "    return(avg)"
   ]
  },
  {
   "cell_type": "code",
   "execution_count": 238,
   "metadata": {},
   "outputs": [],
   "source": [
    "import datetime\n",
    "def duration(logfile, verbose=False):\n",
    "    '''Returns scantime in *seconds*'''\n",
    "    with open(logfile, 'r') as f:\n",
    "        for line in f:\n",
    "            if 'Scan duration' in line:\n",
    "                if verbose:\n",
    "                    print(line)\n",
    "                duration = line.split('=')[1].strip()\n",
    "    # Sometimes it's '00:24:26', sometimes '0h:52m:53s' :-/\n",
    "    if 'h' in duration:\n",
    "        scantime = datetime.datetime.strptime(duration, '%Hh:%Mm:%Ss')\n",
    "    else:\n",
    "        scantime = datetime.datetime.strptime(duration, '%H:%M:%S')\n",
    "    return((scantime-datetime.datetime(1900,1,1)).total_seconds())"
   ]
  },
  {
   "cell_type": "code",
   "execution_count": 265,
   "metadata": {},
   "outputs": [],
   "source": [
    "# log = '/home/habi/1272/Chondrules Space Yogita/NWA-200813/rec/NWA_rec.log'"
   ]
  },
  {
   "cell_type": "code",
   "execution_count": 299,
   "metadata": {},
   "outputs": [],
   "source": [
    "def timeformat(tdelta, fmt):\n",
    "    # From https://stackoverflow.com/a/8907269/323100\n",
    "    d = {\"days\": tdelta.days}\n",
    "    d[\"hours\"], rem = divmod(tdelta.seconds, 3600)\n",
    "    d[\"minutes\"], d[\"seconds\"] = divmod(rem, 60)\n",
    "    return fmt.format(**d)"
   ]
  },
  {
   "cell_type": "code",
   "execution_count": 300,
   "metadata": {},
   "outputs": [],
   "source": [
    "# log = Data.LogFile[66]"
   ]
  },
  {
   "cell_type": "code",
   "execution_count": 301,
   "metadata": {},
   "outputs": [
    {
     "name": "stdout",
     "output_type": "stream",
     "text": [
      "Each stack took 13 hours and 36 minutes to scan\n"
     ]
    }
   ],
   "source": [
    "print('Each stack took', end=' ')\n",
    "if duration(log)/3600 > 1:\n",
    "    # Scan took hours\n",
    "    print(timeformat(datetime.timedelta(seconds=duration(log)),\n",
    "                     '{hours} hours and {minutes} minutes'), end=' ')\n",
    "else:\n",
    "    print(timeformat(datetime.timedelta(seconds=duration(log)),\n",
    "                     '{minutes} minutes'), end=' ')\n",
    "print('to scan')"
   ]
  },
  {
   "cell_type": "code",
   "execution_count": 122,
   "metadata": {},
   "outputs": [],
   "source": [
    "def pixelsize(logfile, verbose=False):\n",
    "    with open(logfile, 'r') as f:\n",
    "        for line in f:\n",
    "            if 'Image Pixel' in line and 'Scaled' not in line:\n",
    "                if verbose:\n",
    "                    print(line)\n",
    "                pixelsize = float(line.split('=')[1])\n",
    "    return(pixelsize)"
   ]
  },
  {
   "cell_type": "code",
   "execution_count": 123,
   "metadata": {},
   "outputs": [],
   "source": [
    "def version(logfile, verbose=False):\n",
    "    with open(logfile, 'r') as f:\n",
    "        for line in f:\n",
    "            if 'Reconstruction Program' in line:\n",
    "                if verbose:\n",
    "                    print(line)\n",
    "                Program = line.split('=')[1].strip()\n",
    "            if 'Program Version' in line:\n",
    "                if verbose:\n",
    "                    print(line)\n",
    "                Version = line.split('sion:')[1].strip()\n",
    "    return(Program, Version)"
   ]
  },
  {
   "cell_type": "code",
   "execution_count": 124,
   "metadata": {},
   "outputs": [],
   "source": [
    "def ringremoval(logfile, verbose=False):\n",
    "    with open(logfile, 'r') as f:\n",
    "        for line in f:\n",
    "            if 'Ring' in line:\n",
    "                if verbose:\n",
    "                    print(line)\n",
    "                ring = int(line.split('=')[1].strip())\n",
    "    return(ring)"
   ]
  },
  {
   "cell_type": "code",
   "execution_count": 125,
   "metadata": {},
   "outputs": [],
   "source": [
    "# ringremoval(log, verbose=True)"
   ]
  },
  {
   "cell_type": "code",
   "execution_count": 126,
   "metadata": {},
   "outputs": [],
   "source": [
    "def beamhardening(logfile, verbose=False):\n",
    "    with open(logfile, 'r') as f:\n",
    "        for line in f:\n",
    "            if 'ardeni' in line:\n",
    "                if verbose:\n",
    "                    print(line)\n",
    "                bh = int(line.split('=')[1].strip())\n",
    "    return(bh)"
   ]
  },
  {
   "cell_type": "code",
   "execution_count": 127,
   "metadata": {},
   "outputs": [],
   "source": [
    "# beamhardening(log, verbose=True)"
   ]
  },
  {
   "cell_type": "markdown",
   "metadata": {},
   "source": [
    "----"
   ]
  },
  {
   "cell_type": "markdown",
   "metadata": {},
   "source": [
    "My microct blurb from http://simp.ly/publish/NBhZhH"
   ]
  },
  {
   "cell_type": "code",
   "execution_count": 128,
   "metadata": {},
   "outputs": [
    {
     "name": "stdout",
     "output_type": "stream",
     "text": [
      "Based on /home/habi/1272/ZMK/ToothBattallion/65/Tooth065.log\n"
     ]
    }
   ],
   "source": [
    "print('Based on %s' % log)"
   ]
  },
  {
   "cell_type": "code",
   "execution_count": 361,
   "metadata": {},
   "outputs": [
    {
     "name": "stdout",
     "output_type": "stream",
     "text": [
      "After $PREPARATION, the $NUMSAMPLES samples were imaged on a Bruker SkyScan 1272 high-resolution microtomography machine (Control software version 1.1.19, Bruker microCT, Kontich, Belgium).\n"
     ]
    }
   ],
   "source": [
    "print('After $PREPARATION, the $NUMSAMPLES samples were imaged on a Bruker',\n",
    "      scanner(log),\n",
    "      'high-resolution microtomography machine (Control software version',\n",
    "      scansoftware(log) +\n",
    "      ', Bruker microCT, Kontich, Belgium).')"
   ]
  },
  {
   "cell_type": "code",
   "execution_count": 362,
   "metadata": {},
   "outputs": [
    {
     "name": "stdout",
     "output_type": "stream",
     "text": [
      "The machine is equipped with a HAMAMATSU_L11871_20 X-ray source and a XIMEA xiRAY16 camera.\n"
     ]
    }
   ],
   "source": [
    "print('The machine is equipped with a',\n",
    "      source(log, verbose=False),\n",
    "      'X-ray source and a',\n",
    "      camera(log) +\n",
    "      ' camera.')"
   ]
  },
  {
   "cell_type": "code",
   "execution_count": 363,
   "metadata": {},
   "outputs": [
    {
     "name": "stdout",
     "output_type": "stream",
     "text": [
      "The X-ray source was set to a tube voltage of 80.0 kV and a tube current of 125.0 µA, the x-ray spectrum was filtered by Al 1mm prior to incidence onto the sample.\n"
     ]
    }
   ],
   "source": [
    "print('The X-ray source was set to a tube voltage of', \n",
    "      voltage(log),\n",
    "      'kV and a tube current of',\n",
    "      current(log),\n",
    "      'µA, the x-ray spectrum was', end=' ')\n",
    "if whichfilter(log):\n",
    "    print('filtered by', whichfilter(log), end=' ')\n",
    "else:\n",
    "    print('not filtered', end=' ')\n",
    "print('prior to incidence onto the sample.')"
   ]
  },
  {
   "cell_type": "code",
   "execution_count": 365,
   "metadata": {},
   "outputs": [
    {
     "name": "stdout",
     "output_type": "stream",
     "text": [
      "For each sample, we recorded a set of 5 stacked scans overlapping the sample height, each stack was recorded stack 482 projections of 1632 x 1092 pixels at every 0.4° over a 180° sample rotation.\n"
     ]
    }
   ],
   "source": [
    "print('For each sample, we recorded a set of', end=' ')\n",
    "if stacks(log) > 1:\n",
    "    print(stacks(log), 'stacked scans overlapping the sample height, each stack was recorded stack', end=' ')\n",
    "print(numproj(log),\n",
    "      'projections of',\n",
    "      camerasize(log)[0],\n",
    "      'x',\n",
    "      camerasize(log)[1],\n",
    "      'pixels at every',\n",
    "      str(rotationstep(log)) + '° over a 180° sample rotation.')"
   ]
  },
  {
   "cell_type": "code",
   "execution_count": 366,
   "metadata": {},
   "outputs": [
    {
     "name": "stdout",
     "output_type": "stream",
     "text": [
      "Every single projection was exposed for 950 ms, 3 projections were averaged to one to greatly reduce image noise.\n"
     ]
    }
   ],
   "source": [
    "print('Every single projection was exposed for',\n",
    "      exposure(log),\n",
    "      'ms,',\n",
    "      averaging(log),\n",
    "      'projections were averaged to one to greatly reduce image noise.')"
   ]
  },
  {
   "cell_type": "code",
   "execution_count": 371,
   "metadata": {},
   "outputs": [
    {
     "name": "stdout",
     "output_type": "stream",
     "text": [
      "This resulted in a scan time of approximately 39 minutes per stack and about 2 hours and 38 minutes per sample\n",
      "(with 5 stacks).\n"
     ]
    }
   ],
   "source": [
    "print('This resulted in a scan time of approximately ', end='')\n",
    "if duration(log)/3600 > 1:\n",
    "    # Scan took hours\n",
    "    print(timeformat(datetime.timedelta(seconds=duration(log)),\n",
    "                     '{hours} hours and {minutes} minutes'), end=' ')\n",
    "else:\n",
    "    print(timeformat(datetime.timedelta(seconds=duration(log)),\n",
    "                     '{minutes} minutes'), end=' ')\n",
    "if not stacks(log) == 1:\n",
    "    print('per stack and about',\n",
    "          timeformat(stacks(log) * datetime.timedelta(seconds=duration(log)),\n",
    "                     '{hours} hours and {minutes} minutes'), end=' ')\n",
    "print('per sample')\n",
    "if stacks(log) == 1:\n",
    "    print('.')\n",
    "else:\n",
    "    print('(with', stacks(log), 'stacks).')"
   ]
  },
  {
   "cell_type": "code",
   "execution_count": 372,
   "metadata": {},
   "outputs": [
    {
     "name": "stdout",
     "output_type": "stream",
     "text": [
      "In total, we scanned 521 stacks.\n",
      "Each stack took approximately 37.0 minutes.\n",
      "In total, we thus scanned for about 13 days, 9 hours and 17 minutes.\n",
      "At the MIC rate, this would have cost 24075 CHF!\n"
     ]
    }
   ],
   "source": [
    "print('In total, we scanned', Data.Stacks.sum(), 'stacks.')\n",
    "print('Each stack took approximately',\n",
    "      (Data.Duration.mean()-datetime.datetime(1900,1,1)).total_seconds()//60,\n",
    "      'minutes.')\n",
    "print('In total, we thus scanned for about', \n",
    "      timeformat(Data.Stacks.sum() *\n",
    "                 datetime.timedelta(minutes=int((Data.Duration.mean() -\n",
    "                                                 datetime.datetime(1900,1,1)).total_seconds()//60)),\n",
    "                 '{days} days, {hours} hours and {minutes} minutes.'))\n",
    "print('At the MIC rate, this would have cost', ((24 * 13) + 9) * 75, 'CHF!')"
   ]
  },
  {
   "cell_type": "code",
   "execution_count": 376,
   "metadata": {},
   "outputs": [
    {
     "name": "stdout",
     "output_type": "stream",
     "text": [
      "The projection images were then subsequently reconstructed into a 3D stack of images with NRecon (Version 1.7.4.6, Bruker microCT, Kontich Belgium) using a ring artifact correction of 14.\n",
      "The whole process resulted in datasets with an isometric voxel size of 10.0 µm.\n"
     ]
    }
   ],
   "source": [
    "print('The projection images were then subsequently reconstructed into a 3D stack',\n",
    "      'of images with',\n",
    "      version(log)[0],\n",
    "      '(Version',\n",
    "      version(log)[1] + ', Bruker microCT, Kontich Belgium)', end=' ')\n",
    "if ringremoval(log):\n",
    "    print('using a ring artifact correction of',\n",
    "          ringremoval(log), end='')\n",
    "if beamhardening(log):\n",
    "    print(' and a beam hardening correction of',\n",
    "          beamhardening(log),\n",
    "          '%.')\n",
    "else:\n",
    "    print('.')\n",
    "print('The whole process resulted in datasets with an isometric voxel size of',\n",
    "      round(pixelsize(log),1),\n",
    "      'µm.')    "
   ]
  },
  {
   "cell_type": "code",
   "execution_count": 138,
   "metadata": {},
   "outputs": [],
   "source": [
    "# fulllog(log)"
   ]
  },
  {
   "cell_type": "markdown",
   "metadata": {},
   "source": [
    "----"
   ]
  },
  {
   "cell_type": "markdown",
   "metadata": {},
   "source": [
    "If we have several, then generate a dataframe..."
   ]
  },
  {
   "cell_type": "code",
   "execution_count": 377,
   "metadata": {},
   "outputs": [],
   "source": [
    "Data['Scanner'] = [scanner(log) for log in Data['LogFile']]\n",
    "Data['Software'] = [scansoftware(log) for log in Data['LogFile']]"
   ]
  },
  {
   "cell_type": "code",
   "execution_count": 378,
   "metadata": {},
   "outputs": [],
   "source": [
    "Data['Voxelsize'] = [pixelsize(log) for log in Data['LogFile']]"
   ]
  },
  {
   "cell_type": "code",
   "execution_count": 379,
   "metadata": {},
   "outputs": [],
   "source": [
    "Data['Source'] = [source(log) for log in Data['LogFile']]\n",
    "Data['Camera'] = [camera(log) for log in Data['LogFile']]"
   ]
  },
  {
   "cell_type": "code",
   "execution_count": 380,
   "metadata": {},
   "outputs": [],
   "source": [
    "Data['Voltage'] = [voltage(log) for log in Data['LogFile']]\n",
    "Data['Current'] = [current(log) for log in Data['LogFile']]\n",
    "Data['Filter'] = [whichfilter(log) for log in Data['LogFile']]"
   ]
  },
  {
   "cell_type": "code",
   "execution_count": 381,
   "metadata": {},
   "outputs": [],
   "source": [
    "Data['Stacks'] = [stacks(log) for log in Data['LogFile']]\n",
    "Data['NumProj'] = [numproj(log) for log in Data['LogFile']]\n",
    "Data['CamSize'] = [camerasize(log) for log in Data['LogFile']]\n",
    "Data['RotationStep'] = [rotationstep(log) for log in Data['LogFile']]"
   ]
  },
  {
   "cell_type": "code",
   "execution_count": 382,
   "metadata": {},
   "outputs": [],
   "source": [
    "Data['RingRemoval'] = [ringremoval(log) for log in Data['LogFile']]\n",
    "Data['Beamhardening'] = [beamhardening(log) for log in Data['LogFile']]"
   ]
  },
  {
   "cell_type": "code",
   "execution_count": 383,
   "metadata": {},
   "outputs": [],
   "source": [
    "Data['Exposure'] = [exposure(log) for log in Data['LogFile']]\n",
    "Data['Averaging'] = [averaging(log) for log in Data['LogFile']]"
   ]
  },
  {
   "cell_type": "code",
   "execution_count": 384,
   "metadata": {},
   "outputs": [],
   "source": [
    "Data['Duration'] = [duration(log) for log in Data['LogFile']]"
   ]
  },
  {
   "cell_type": "code",
   "execution_count": 385,
   "metadata": {},
   "outputs": [],
   "source": [
    "Data['Version'] = [version(log) for log in Data['LogFile']]"
   ]
  },
  {
   "cell_type": "code",
   "execution_count": 386,
   "metadata": {},
   "outputs": [],
   "source": [
    "Data.to_excel('ZMK.xls')"
   ]
  },
  {
   "cell_type": "code",
   "execution_count": 387,
   "metadata": {},
   "outputs": [
    {
     "data": {
      "text/html": [
       "<div>\n",
       "<style scoped>\n",
       "    .dataframe tbody tr th:only-of-type {\n",
       "        vertical-align: middle;\n",
       "    }\n",
       "\n",
       "    .dataframe tbody tr th {\n",
       "        vertical-align: top;\n",
       "    }\n",
       "\n",
       "    .dataframe thead th {\n",
       "        text-align: right;\n",
       "    }\n",
       "</style>\n",
       "<table border=\"1\" class=\"dataframe\">\n",
       "  <thead>\n",
       "    <tr style=\"text-align: right;\">\n",
       "      <th></th>\n",
       "      <th>Folder</th>\n",
       "      <th>Scan</th>\n",
       "      <th>LogFile</th>\n",
       "      <th>Scanner</th>\n",
       "      <th>Software</th>\n",
       "      <th>Voxelsize</th>\n",
       "      <th>Source</th>\n",
       "      <th>Camera</th>\n",
       "      <th>Voltage</th>\n",
       "      <th>Current</th>\n",
       "      <th>...</th>\n",
       "      <th>Stacks</th>\n",
       "      <th>NumProj</th>\n",
       "      <th>CamSize</th>\n",
       "      <th>RotationStep</th>\n",
       "      <th>RingRemoval</th>\n",
       "      <th>Beamhardening</th>\n",
       "      <th>Exposure</th>\n",
       "      <th>Averaging</th>\n",
       "      <th>Duration</th>\n",
       "      <th>Version</th>\n",
       "    </tr>\n",
       "  </thead>\n",
       "  <tbody>\n",
       "    <tr>\n",
       "      <td>0</td>\n",
       "      <td>/home/habi/1272/ZMK/ToothBattallion/1/</td>\n",
       "      <td>1</td>\n",
       "      <td>/home/habi/1272/ZMK/ToothBattallion/1/Tooth001...</td>\n",
       "      <td>SkyScan 1272</td>\n",
       "      <td>1.1.19</td>\n",
       "      <td>8.559493</td>\n",
       "      <td>HAMAMATSU_L11871_20</td>\n",
       "      <td>XIMEA xiRAY16</td>\n",
       "      <td>80.0</td>\n",
       "      <td>125.0</td>\n",
       "      <td>...</td>\n",
       "      <td>4</td>\n",
       "      <td>319</td>\n",
       "      <td>(1632, 1092)</td>\n",
       "      <td>0.6</td>\n",
       "      <td>14</td>\n",
       "      <td>0</td>\n",
       "      <td>950</td>\n",
       "      <td>3</td>\n",
       "      <td>1589.0</td>\n",
       "      <td>(NRecon, 1.7.4.6)</td>\n",
       "    </tr>\n",
       "    <tr>\n",
       "      <td>1</td>\n",
       "      <td>/home/habi/1272/ZMK/ToothBattallion/10/</td>\n",
       "      <td>10</td>\n",
       "      <td>/home/habi/1272/ZMK/ToothBattallion/10/Tooth01...</td>\n",
       "      <td>SkyScan 1272</td>\n",
       "      <td>1.1.19</td>\n",
       "      <td>9.999986</td>\n",
       "      <td>HAMAMATSU_L11871_20</td>\n",
       "      <td>XIMEA xiRAY16</td>\n",
       "      <td>80.0</td>\n",
       "      <td>125.0</td>\n",
       "      <td>...</td>\n",
       "      <td>5</td>\n",
       "      <td>482</td>\n",
       "      <td>(1632, 1092)</td>\n",
       "      <td>0.4</td>\n",
       "      <td>14</td>\n",
       "      <td>0</td>\n",
       "      <td>950</td>\n",
       "      <td>3</td>\n",
       "      <td>2432.0</td>\n",
       "      <td>(NRecon, 1.7.4.6)</td>\n",
       "    </tr>\n",
       "    <tr>\n",
       "      <td>2</td>\n",
       "      <td>/home/habi/1272/ZMK/ToothBattallion/100/</td>\n",
       "      <td>100</td>\n",
       "      <td>/home/habi/1272/ZMK/ToothBattallion/100/Tooth1...</td>\n",
       "      <td>SkyScan 1272</td>\n",
       "      <td>1.1.19</td>\n",
       "      <td>9.999986</td>\n",
       "      <td>HAMAMATSU_L11871_20</td>\n",
       "      <td>XIMEA xiRAY16</td>\n",
       "      <td>80.0</td>\n",
       "      <td>125.0</td>\n",
       "      <td>...</td>\n",
       "      <td>5</td>\n",
       "      <td>482</td>\n",
       "      <td>(1632, 1092)</td>\n",
       "      <td>0.4</td>\n",
       "      <td>14</td>\n",
       "      <td>0</td>\n",
       "      <td>950</td>\n",
       "      <td>3</td>\n",
       "      <td>2385.0</td>\n",
       "      <td>(NRecon, 1.7.4.6)</td>\n",
       "    </tr>\n",
       "    <tr>\n",
       "      <td>3</td>\n",
       "      <td>/home/habi/1272/ZMK/ToothBattallion/101/</td>\n",
       "      <td>101</td>\n",
       "      <td>/home/habi/1272/ZMK/ToothBattallion/101/Tooth1...</td>\n",
       "      <td>SkyScan 1272</td>\n",
       "      <td>1.1.19</td>\n",
       "      <td>9.999986</td>\n",
       "      <td>HAMAMATSU_L11871_20</td>\n",
       "      <td>XIMEA xiRAY16</td>\n",
       "      <td>80.0</td>\n",
       "      <td>125.0</td>\n",
       "      <td>...</td>\n",
       "      <td>5</td>\n",
       "      <td>482</td>\n",
       "      <td>(1632, 1092)</td>\n",
       "      <td>0.4</td>\n",
       "      <td>14</td>\n",
       "      <td>0</td>\n",
       "      <td>950</td>\n",
       "      <td>3</td>\n",
       "      <td>2385.0</td>\n",
       "      <td>(NRecon, 1.7.4.6)</td>\n",
       "    </tr>\n",
       "    <tr>\n",
       "      <td>4</td>\n",
       "      <td>/home/habi/1272/ZMK/ToothBattallion/102/</td>\n",
       "      <td>102</td>\n",
       "      <td>/home/habi/1272/ZMK/ToothBattallion/102/Tooth1...</td>\n",
       "      <td>SkyScan 1272</td>\n",
       "      <td>1.1.19</td>\n",
       "      <td>9.999986</td>\n",
       "      <td>HAMAMATSU_L11871_20</td>\n",
       "      <td>XIMEA xiRAY16</td>\n",
       "      <td>80.0</td>\n",
       "      <td>125.0</td>\n",
       "      <td>...</td>\n",
       "      <td>5</td>\n",
       "      <td>482</td>\n",
       "      <td>(1632, 1092)</td>\n",
       "      <td>0.4</td>\n",
       "      <td>14</td>\n",
       "      <td>0</td>\n",
       "      <td>950</td>\n",
       "      <td>3</td>\n",
       "      <td>2390.0</td>\n",
       "      <td>(NRecon, 1.7.4.6)</td>\n",
       "    </tr>\n",
       "  </tbody>\n",
       "</table>\n",
       "<p>5 rows × 21 columns</p>\n",
       "</div>"
      ],
      "text/plain": [
       "                                     Folder Scan  \\\n",
       "0    /home/habi/1272/ZMK/ToothBattallion/1/    1   \n",
       "1   /home/habi/1272/ZMK/ToothBattallion/10/   10   \n",
       "2  /home/habi/1272/ZMK/ToothBattallion/100/  100   \n",
       "3  /home/habi/1272/ZMK/ToothBattallion/101/  101   \n",
       "4  /home/habi/1272/ZMK/ToothBattallion/102/  102   \n",
       "\n",
       "                                             LogFile       Scanner Software  \\\n",
       "0  /home/habi/1272/ZMK/ToothBattallion/1/Tooth001...  SkyScan 1272   1.1.19   \n",
       "1  /home/habi/1272/ZMK/ToothBattallion/10/Tooth01...  SkyScan 1272   1.1.19   \n",
       "2  /home/habi/1272/ZMK/ToothBattallion/100/Tooth1...  SkyScan 1272   1.1.19   \n",
       "3  /home/habi/1272/ZMK/ToothBattallion/101/Tooth1...  SkyScan 1272   1.1.19   \n",
       "4  /home/habi/1272/ZMK/ToothBattallion/102/Tooth1...  SkyScan 1272   1.1.19   \n",
       "\n",
       "   Voxelsize               Source         Camera  Voltage  Current  ...  \\\n",
       "0   8.559493  HAMAMATSU_L11871_20  XIMEA xiRAY16     80.0    125.0  ...   \n",
       "1   9.999986  HAMAMATSU_L11871_20  XIMEA xiRAY16     80.0    125.0  ...   \n",
       "2   9.999986  HAMAMATSU_L11871_20  XIMEA xiRAY16     80.0    125.0  ...   \n",
       "3   9.999986  HAMAMATSU_L11871_20  XIMEA xiRAY16     80.0    125.0  ...   \n",
       "4   9.999986  HAMAMATSU_L11871_20  XIMEA xiRAY16     80.0    125.0  ...   \n",
       "\n",
       "  Stacks  NumProj       CamSize RotationStep  RingRemoval  Beamhardening  \\\n",
       "0      4      319  (1632, 1092)          0.6           14              0   \n",
       "1      5      482  (1632, 1092)          0.4           14              0   \n",
       "2      5      482  (1632, 1092)          0.4           14              0   \n",
       "3      5      482  (1632, 1092)          0.4           14              0   \n",
       "4      5      482  (1632, 1092)          0.4           14              0   \n",
       "\n",
       "   Exposure  Averaging Duration            Version  \n",
       "0       950          3   1589.0  (NRecon, 1.7.4.6)  \n",
       "1       950          3   2432.0  (NRecon, 1.7.4.6)  \n",
       "2       950          3   2385.0  (NRecon, 1.7.4.6)  \n",
       "3       950          3   2385.0  (NRecon, 1.7.4.6)  \n",
       "4       950          3   2390.0  (NRecon, 1.7.4.6)  \n",
       "\n",
       "[5 rows x 21 columns]"
      ]
     },
     "execution_count": 387,
     "metadata": {},
     "output_type": "execute_result"
    }
   ],
   "source": [
    "Data.head()"
   ]
  },
  {
   "cell_type": "code",
   "execution_count": 388,
   "metadata": {},
   "outputs": [
    {
     "name": "stdout",
     "output_type": "stream",
     "text": [
      "---------- Folder --------------------\n",
      "['/home/habi/1272/ZMK/ToothBattallion/1/'\n",
      " '/home/habi/1272/ZMK/ToothBattallion/10/'\n",
      " '/home/habi/1272/ZMK/ToothBattallion/100/'\n",
      " '/home/habi/1272/ZMK/ToothBattallion/101/'\n",
      " '/home/habi/1272/ZMK/ToothBattallion/102/'\n",
      " '/home/habi/1272/ZMK/ToothBattallion/103/'\n",
      " '/home/habi/1272/ZMK/ToothBattallion/104/'\n",
      " '/home/habi/1272/ZMK/ToothBattallion/11/'\n",
      " '/home/habi/1272/ZMK/ToothBattallion/12/'\n",
      " '/home/habi/1272/ZMK/ToothBattallion/13/'\n",
      " '/home/habi/1272/ZMK/ToothBattallion/14/'\n",
      " '/home/habi/1272/ZMK/ToothBattallion/15/'\n",
      " '/home/habi/1272/ZMK/ToothBattallion/16/'\n",
      " '/home/habi/1272/ZMK/ToothBattallion/17/'\n",
      " '/home/habi/1272/ZMK/ToothBattallion/18/'\n",
      " '/home/habi/1272/ZMK/ToothBattallion/19/'\n",
      " '/home/habi/1272/ZMK/ToothBattallion/2/'\n",
      " '/home/habi/1272/ZMK/ToothBattallion/20/'\n",
      " '/home/habi/1272/ZMK/ToothBattallion/21/'\n",
      " '/home/habi/1272/ZMK/ToothBattallion/22/'\n",
      " '/home/habi/1272/ZMK/ToothBattallion/23/'\n",
      " '/home/habi/1272/ZMK/ToothBattallion/24/'\n",
      " '/home/habi/1272/ZMK/ToothBattallion/25/'\n",
      " '/home/habi/1272/ZMK/ToothBattallion/26/'\n",
      " '/home/habi/1272/ZMK/ToothBattallion/27/'\n",
      " '/home/habi/1272/ZMK/ToothBattallion/28/'\n",
      " '/home/habi/1272/ZMK/ToothBattallion/29/'\n",
      " '/home/habi/1272/ZMK/ToothBattallion/3/'\n",
      " '/home/habi/1272/ZMK/ToothBattallion/30/'\n",
      " '/home/habi/1272/ZMK/ToothBattallion/31/'\n",
      " '/home/habi/1272/ZMK/ToothBattallion/32/'\n",
      " '/home/habi/1272/ZMK/ToothBattallion/33/'\n",
      " '/home/habi/1272/ZMK/ToothBattallion/34/'\n",
      " '/home/habi/1272/ZMK/ToothBattallion/35/'\n",
      " '/home/habi/1272/ZMK/ToothBattallion/36/'\n",
      " '/home/habi/1272/ZMK/ToothBattallion/37/'\n",
      " '/home/habi/1272/ZMK/ToothBattallion/38/'\n",
      " '/home/habi/1272/ZMK/ToothBattallion/39/'\n",
      " '/home/habi/1272/ZMK/ToothBattallion/4/'\n",
      " '/home/habi/1272/ZMK/ToothBattallion/40/'\n",
      " '/home/habi/1272/ZMK/ToothBattallion/41/'\n",
      " '/home/habi/1272/ZMK/ToothBattallion/42/'\n",
      " '/home/habi/1272/ZMK/ToothBattallion/43/'\n",
      " '/home/habi/1272/ZMK/ToothBattallion/44/'\n",
      " '/home/habi/1272/ZMK/ToothBattallion/45/'\n",
      " '/home/habi/1272/ZMK/ToothBattallion/46/'\n",
      " '/home/habi/1272/ZMK/ToothBattallion/47/'\n",
      " '/home/habi/1272/ZMK/ToothBattallion/48/'\n",
      " '/home/habi/1272/ZMK/ToothBattallion/49/'\n",
      " '/home/habi/1272/ZMK/ToothBattallion/5/'\n",
      " '/home/habi/1272/ZMK/ToothBattallion/50/'\n",
      " '/home/habi/1272/ZMK/ToothBattallion/51/'\n",
      " '/home/habi/1272/ZMK/ToothBattallion/52/'\n",
      " '/home/habi/1272/ZMK/ToothBattallion/53/'\n",
      " '/home/habi/1272/ZMK/ToothBattallion/54/'\n",
      " '/home/habi/1272/ZMK/ToothBattallion/55/'\n",
      " '/home/habi/1272/ZMK/ToothBattallion/56/'\n",
      " '/home/habi/1272/ZMK/ToothBattallion/57/'\n",
      " '/home/habi/1272/ZMK/ToothBattallion/58/'\n",
      " '/home/habi/1272/ZMK/ToothBattallion/59/'\n",
      " '/home/habi/1272/ZMK/ToothBattallion/6/'\n",
      " '/home/habi/1272/ZMK/ToothBattallion/60/'\n",
      " '/home/habi/1272/ZMK/ToothBattallion/61/'\n",
      " '/home/habi/1272/ZMK/ToothBattallion/62/'\n",
      " '/home/habi/1272/ZMK/ToothBattallion/63/'\n",
      " '/home/habi/1272/ZMK/ToothBattallion/64/'\n",
      " '/home/habi/1272/ZMK/ToothBattallion/65/'\n",
      " '/home/habi/1272/ZMK/ToothBattallion/66/'\n",
      " '/home/habi/1272/ZMK/ToothBattallion/67/'\n",
      " '/home/habi/1272/ZMK/ToothBattallion/68/'\n",
      " '/home/habi/1272/ZMK/ToothBattallion/69/'\n",
      " '/home/habi/1272/ZMK/ToothBattallion/7/'\n",
      " '/home/habi/1272/ZMK/ToothBattallion/70/'\n",
      " '/home/habi/1272/ZMK/ToothBattallion/71/'\n",
      " '/home/habi/1272/ZMK/ToothBattallion/72/'\n",
      " '/home/habi/1272/ZMK/ToothBattallion/73/'\n",
      " '/home/habi/1272/ZMK/ToothBattallion/74/'\n",
      " '/home/habi/1272/ZMK/ToothBattallion/75/'\n",
      " '/home/habi/1272/ZMK/ToothBattallion/76/'\n",
      " '/home/habi/1272/ZMK/ToothBattallion/77/'\n",
      " '/home/habi/1272/ZMK/ToothBattallion/78/'\n",
      " '/home/habi/1272/ZMK/ToothBattallion/79/'\n",
      " '/home/habi/1272/ZMK/ToothBattallion/8/'\n",
      " '/home/habi/1272/ZMK/ToothBattallion/80/'\n",
      " '/home/habi/1272/ZMK/ToothBattallion/81/'\n",
      " '/home/habi/1272/ZMK/ToothBattallion/82/'\n",
      " '/home/habi/1272/ZMK/ToothBattallion/83/'\n",
      " '/home/habi/1272/ZMK/ToothBattallion/84/'\n",
      " '/home/habi/1272/ZMK/ToothBattallion/85/'\n",
      " '/home/habi/1272/ZMK/ToothBattallion/86/'\n",
      " '/home/habi/1272/ZMK/ToothBattallion/87/'\n",
      " '/home/habi/1272/ZMK/ToothBattallion/88/'\n",
      " '/home/habi/1272/ZMK/ToothBattallion/89/'\n",
      " '/home/habi/1272/ZMK/ToothBattallion/9/'\n",
      " '/home/habi/1272/ZMK/ToothBattallion/90/'\n",
      " '/home/habi/1272/ZMK/ToothBattallion/91/'\n",
      " '/home/habi/1272/ZMK/ToothBattallion/92/'\n",
      " '/home/habi/1272/ZMK/ToothBattallion/93/'\n",
      " '/home/habi/1272/ZMK/ToothBattallion/94/'\n",
      " '/home/habi/1272/ZMK/ToothBattallion/95/'\n",
      " '/home/habi/1272/ZMK/ToothBattallion/96/'\n",
      " '/home/habi/1272/ZMK/ToothBattallion/97/'\n",
      " '/home/habi/1272/ZMK/ToothBattallion/98/'\n",
      " '/home/habi/1272/ZMK/ToothBattallion/99/']\n",
      "---------- Scan --------------------\n",
      "['1' '10' '100' '101' '102' '103' '104' '11' '12' '13' '14' '15' '16' '17'\n",
      " '18' '19' '2' '20' '21' '22' '23' '24' '25' '26' '27' '28' '29' '3' '30'\n",
      " '31' '32' '33' '34' '35' '36' '37' '38' '39' '4' '40' '41' '42' '43' '44'\n",
      " '45' '46' '47' '48' '49' '5' '50' '51' '52' '53' '54' '55' '56' '57' '58'\n",
      " '59' '6' '60' '61' '62' '63' '64' '65' '66' '67' '68' '69' '7' '70' '71'\n",
      " '72' '73' '74' '75' '76' '77' '78' '79' '8' '80' '81' '82' '83' '84' '85'\n",
      " '86' '87' '88' '89' '9' '90' '91' '92' '93' '94' '95' '96' '97' '98' '99']\n",
      "---------- LogFile --------------------\n",
      "['/home/habi/1272/ZMK/ToothBattallion/1/Tooth001.log'\n",
      " '/home/habi/1272/ZMK/ToothBattallion/10/Tooth010.log'\n",
      " '/home/habi/1272/ZMK/ToothBattallion/100/Tooth100.log'\n",
      " '/home/habi/1272/ZMK/ToothBattallion/101/Tooth101.log'\n",
      " '/home/habi/1272/ZMK/ToothBattallion/102/Tooth102.log'\n",
      " '/home/habi/1272/ZMK/ToothBattallion/103/Tooth103.log'\n",
      " '/home/habi/1272/ZMK/ToothBattallion/104/Tooth104.log'\n",
      " '/home/habi/1272/ZMK/ToothBattallion/11/Tooth011.log'\n",
      " '/home/habi/1272/ZMK/ToothBattallion/12/Tooth012.log'\n",
      " '/home/habi/1272/ZMK/ToothBattallion/13/Tooth013.log'\n",
      " '/home/habi/1272/ZMK/ToothBattallion/14/Tooth014.log'\n",
      " '/home/habi/1272/ZMK/ToothBattallion/15/Tooth015.log'\n",
      " '/home/habi/1272/ZMK/ToothBattallion/16/Tooth016.log'\n",
      " '/home/habi/1272/ZMK/ToothBattallion/17/Tooth017.log'\n",
      " '/home/habi/1272/ZMK/ToothBattallion/18/Tooth018.log'\n",
      " '/home/habi/1272/ZMK/ToothBattallion/19/Tooth019.log'\n",
      " '/home/habi/1272/ZMK/ToothBattallion/2/Tooth002.log'\n",
      " '/home/habi/1272/ZMK/ToothBattallion/20/Tooth020.log'\n",
      " '/home/habi/1272/ZMK/ToothBattallion/21/Tooth021.log'\n",
      " '/home/habi/1272/ZMK/ToothBattallion/22/Tooth022.log'\n",
      " '/home/habi/1272/ZMK/ToothBattallion/23/Tooth023.log'\n",
      " '/home/habi/1272/ZMK/ToothBattallion/24/Tooth024.log'\n",
      " '/home/habi/1272/ZMK/ToothBattallion/25/Tooth025.log'\n",
      " '/home/habi/1272/ZMK/ToothBattallion/26/Tooth026.log'\n",
      " '/home/habi/1272/ZMK/ToothBattallion/27/Tooth027.log'\n",
      " '/home/habi/1272/ZMK/ToothBattallion/28/Tooth028.log'\n",
      " '/home/habi/1272/ZMK/ToothBattallion/29/Tooth029.log'\n",
      " '/home/habi/1272/ZMK/ToothBattallion/3/Tooth003.log'\n",
      " '/home/habi/1272/ZMK/ToothBattallion/30/Tooth030.log'\n",
      " '/home/habi/1272/ZMK/ToothBattallion/31/Tooth031.log'\n",
      " '/home/habi/1272/ZMK/ToothBattallion/32/Tooth032.log'\n",
      " '/home/habi/1272/ZMK/ToothBattallion/33/Tooth033.log'\n",
      " '/home/habi/1272/ZMK/ToothBattallion/34/Tooth034.log'\n",
      " '/home/habi/1272/ZMK/ToothBattallion/35/Tooth035.log'\n",
      " '/home/habi/1272/ZMK/ToothBattallion/36/Tooth036.log'\n",
      " '/home/habi/1272/ZMK/ToothBattallion/37/Tooth037.log'\n",
      " '/home/habi/1272/ZMK/ToothBattallion/38/Tooth038.log'\n",
      " '/home/habi/1272/ZMK/ToothBattallion/39/Tooth039.log'\n",
      " '/home/habi/1272/ZMK/ToothBattallion/4/Tooth004.log'\n",
      " '/home/habi/1272/ZMK/ToothBattallion/40/Tooth040.log'\n",
      " '/home/habi/1272/ZMK/ToothBattallion/41/Tooth041.log'\n",
      " '/home/habi/1272/ZMK/ToothBattallion/42/Tooth042.log'\n",
      " '/home/habi/1272/ZMK/ToothBattallion/43/Tooth043.log'\n",
      " '/home/habi/1272/ZMK/ToothBattallion/44/Tooth044.log'\n",
      " '/home/habi/1272/ZMK/ToothBattallion/45/Tooth045.log'\n",
      " '/home/habi/1272/ZMK/ToothBattallion/46/Tooth046.log'\n",
      " '/home/habi/1272/ZMK/ToothBattallion/47/Tooth047.log'\n",
      " '/home/habi/1272/ZMK/ToothBattallion/48/Tooth048.log'\n",
      " '/home/habi/1272/ZMK/ToothBattallion/49/Tooth049.log'\n",
      " '/home/habi/1272/ZMK/ToothBattallion/5/Tooth005.log'\n",
      " '/home/habi/1272/ZMK/ToothBattallion/50/Tooth050.log'\n",
      " '/home/habi/1272/ZMK/ToothBattallion/51/Tooth051.log'\n",
      " '/home/habi/1272/ZMK/ToothBattallion/52/Tooth052.log'\n",
      " '/home/habi/1272/ZMK/ToothBattallion/53/Tooth053.log'\n",
      " '/home/habi/1272/ZMK/ToothBattallion/54/Tooth054.log'\n",
      " '/home/habi/1272/ZMK/ToothBattallion/55/Tooth055.log'\n",
      " '/home/habi/1272/ZMK/ToothBattallion/56/Tooth056.log'\n",
      " '/home/habi/1272/ZMK/ToothBattallion/57/Tooth057.log'\n",
      " '/home/habi/1272/ZMK/ToothBattallion/58/Tooth058.log'\n",
      " '/home/habi/1272/ZMK/ToothBattallion/59/Tooth059.log'\n",
      " '/home/habi/1272/ZMK/ToothBattallion/6/Tooth006.log'\n",
      " '/home/habi/1272/ZMK/ToothBattallion/60/Tooth060.log'\n",
      " '/home/habi/1272/ZMK/ToothBattallion/61/Tooth061.log'\n",
      " '/home/habi/1272/ZMK/ToothBattallion/62/Tooth062.log'\n",
      " '/home/habi/1272/ZMK/ToothBattallion/63/Tooth063.log'\n",
      " '/home/habi/1272/ZMK/ToothBattallion/64/Tooth064.log'\n",
      " '/home/habi/1272/ZMK/ToothBattallion/65/Tooth065.log'\n",
      " '/home/habi/1272/ZMK/ToothBattallion/66/Tooth066.log'\n",
      " '/home/habi/1272/ZMK/ToothBattallion/67/Tooth067.log'\n",
      " '/home/habi/1272/ZMK/ToothBattallion/68/Tooth068.log'\n",
      " '/home/habi/1272/ZMK/ToothBattallion/69/Tooth069.log'\n",
      " '/home/habi/1272/ZMK/ToothBattallion/7/Tooth007.log'\n",
      " '/home/habi/1272/ZMK/ToothBattallion/70/Tooth070.log'\n",
      " '/home/habi/1272/ZMK/ToothBattallion/71/Tooth071.log'\n",
      " '/home/habi/1272/ZMK/ToothBattallion/72/Tooth072.log'\n",
      " '/home/habi/1272/ZMK/ToothBattallion/73/Tooth073.log'\n",
      " '/home/habi/1272/ZMK/ToothBattallion/74/Tooth074.log'\n",
      " '/home/habi/1272/ZMK/ToothBattallion/75/Tooth075.log'\n",
      " '/home/habi/1272/ZMK/ToothBattallion/76/Tooth076.log'\n",
      " '/home/habi/1272/ZMK/ToothBattallion/77/Tooth077.log'\n",
      " '/home/habi/1272/ZMK/ToothBattallion/78/Tooth078.log'\n",
      " '/home/habi/1272/ZMK/ToothBattallion/79/Tooth079.log'\n",
      " '/home/habi/1272/ZMK/ToothBattallion/8/Tooth008.log'\n",
      " '/home/habi/1272/ZMK/ToothBattallion/80/Tooth080.log'\n",
      " '/home/habi/1272/ZMK/ToothBattallion/81/Tooth081.log'\n",
      " '/home/habi/1272/ZMK/ToothBattallion/82/Tooth082.log'\n",
      " '/home/habi/1272/ZMK/ToothBattallion/83/Tooth083.log'\n",
      " '/home/habi/1272/ZMK/ToothBattallion/84/Tooth084.log'\n",
      " '/home/habi/1272/ZMK/ToothBattallion/85/Tooth085.log'\n",
      " '/home/habi/1272/ZMK/ToothBattallion/86/Tooth086.log'\n",
      " '/home/habi/1272/ZMK/ToothBattallion/87/Tooth087.log'\n",
      " '/home/habi/1272/ZMK/ToothBattallion/88/Tooth088.log'\n",
      " '/home/habi/1272/ZMK/ToothBattallion/89/Tooth089.log'\n",
      " '/home/habi/1272/ZMK/ToothBattallion/9/Tooth009.log'\n",
      " '/home/habi/1272/ZMK/ToothBattallion/90/Tooth090.log'\n",
      " '/home/habi/1272/ZMK/ToothBattallion/91/Tooth091.log'\n",
      " '/home/habi/1272/ZMK/ToothBattallion/92/Tooth092.log'\n",
      " '/home/habi/1272/ZMK/ToothBattallion/93/Tooth093.log'\n",
      " '/home/habi/1272/ZMK/ToothBattallion/94/Tooth094.log'\n",
      " '/home/habi/1272/ZMK/ToothBattallion/95/Tooth095.log'\n",
      " '/home/habi/1272/ZMK/ToothBattallion/96/Tooth096.log'\n",
      " '/home/habi/1272/ZMK/ToothBattallion/97/Tooth097.log'\n",
      " '/home/habi/1272/ZMK/ToothBattallion/98/Tooth098.log'\n",
      " '/home/habi/1272/ZMK/ToothBattallion/99/Tooth099.log']\n",
      "---------- Scanner --------------------\n",
      "['SkyScan 1272']\n",
      "---------- Software --------------------\n",
      "['1.1.19']\n",
      "---------- Voxelsize --------------------\n",
      "[8.559493 9.999986 8.559809 7.327053]\n",
      "---------- Source --------------------\n",
      "['HAMAMATSU_L11871_20']\n",
      "---------- Camera --------------------\n",
      "['XIMEA xiRAY16']\n",
      "---------- Voltage --------------------\n",
      "[80.]\n",
      "---------- Current --------------------\n",
      "[125.]\n",
      "---------- Filter --------------------\n",
      "['Al 1mm']\n",
      "---------- Stacks --------------------\n",
      "[4 5 6]\n",
      "---------- NumProj --------------------\n",
      "[319 482 322 477]\n",
      "---------- CamSize --------------------\n",
      "[(1632, 1092)]\n",
      "---------- RotationStep --------------------\n",
      "[0.6 0.4]\n",
      "---------- RingRemoval --------------------\n",
      "[14]\n",
      "---------- Beamhardening --------------------\n",
      "[0]\n",
      "---------- Exposure --------------------\n",
      "[950]\n",
      "---------- Averaging --------------------\n",
      "[3 2 False]\n",
      "---------- Duration --------------------\n",
      "[1589. 2432. 2385. 2390. 2382. 2378. 2434. 1594. 2428. 2433. 1925. 2431.\n",
      " 1590. 1592. 1591. 1593. 1595. 1464. 2407. 2392. 2391. 2386. 1598. 1599.\n",
      " 1609. 1600. 2354. 2353. 2352. 2388. 2395. 2387. 2396. 2389. 2383. 2384.\n",
      " 2376. 2375. 2370. 2373. 2414. 2427. 2381. 2377. 2379. 1466. 2417. 2372.\n",
      " 2374.]\n",
      "---------- Version --------------------\n",
      "[('NRecon', '1.7.4.6') ('NRecon', '1.7.4.2')]\n"
     ]
    }
   ],
   "source": [
    "for i in Data:\n",
    "    print(10 * '-', i, 20 * '-')\n",
    "    print(Data[i].unique())"
   ]
  },
  {
   "cell_type": "code",
   "execution_count": 389,
   "metadata": {},
   "outputs": [
    {
     "name": "stdout",
     "output_type": "stream",
     "text": [
      "[System]\n",
      "Scanner=SkyScan1272\n",
      "Instrument S/N=15G09089-B\n",
      "Software Version=1.1.19\n",
      "Home Directory=C:\\SkyScan1272\\SkyScan1272\n",
      "Source Type=HAMAMATSU_L11871_20\n",
      "Camera Type=XIMEA xiRAY16\n",
      "Camera Pixel Size (um)=7.4\n",
      "Camera X/Y Ratio=1.0023\n",
      "[User]\n",
      "User Name=haberthu\n",
      "Computer Name=ANAMIC02\n",
      "[Acquisition]\n",
      "Data Directory=D:\\Results\\ZMK\\ToothBattallion\\\\65\n",
      "Filename Prefix=Tooth065~00\n",
      "Filename Index Length=8\n",
      "Number Of Files=  482\n",
      "Number Of Rows= 1092\n",
      "Number Of Columns= 1632\n",
      "Partial Width=OFF\n",
      "Image crop origin X=0\n",
      "Image crop origin Y=0\n",
      "Camera binning=3x3\n",
      "Image Rotation=0.13600\n",
      "Optical Axis (line)=  580\n",
      "Camera to Source (mm)=174.07267\n",
      "Object to Source (mm)=78.41100\n",
      "Source Voltage (kV)=  80\n",
      "Source Current (uA)= 125\n",
      "Image Pixel Size (um)=9.999986\n",
      "Scaled Image Pixel Size (um)=9.999986\n",
      "Image Format=TIFF\n",
      "Depth (bits)=16\n",
      "Reference Intensity=57000\n",
      "Camera position=close\n",
      "Exposure (ms)=950\n",
      "Rotation Step (deg)=0.400\n",
      "Use 360 Rotation=NO\n",
      "Scanning position=36.000 mm\n",
      "Frame Averaging=ON (3)\n",
      "Random Movement=OFF (30)\n",
      "Flat Field Correction=ON\n",
      "Geometrical Correction=ON\n",
      "Filter=Al 1mm\n",
      "Gantry direction=CC\n",
      "Rotation Direction=CC\n",
      "Type of Detector Motion=STEP AND SHOOT\n",
      "Scanning Trajectory=ROUND\n",
      "Number Of Horizontal Offset Positions=1\n",
      "Number of connected scans=5\n",
      "Current scan number=1\n",
      "Number of lines to be reconstructed=731\n",
      "Study Date and Time=05 Jul 2020  03h:54m:18s\n",
      "Scan duration=0h:39m:43s\n",
      "Maximum vertical TS=5.0\n",
      "[Reconstruction]\n",
      "Reconstruction Program=NRecon\n",
      "Program Version=Version: 1.7.4.6\n",
      "Program Home Directory=C:\\SkyScan1272\\SkyScan1272\n",
      "Reconstruction engine=GPUReconServer\n",
      "Engine version=Version: 1.7.4\n",
      "Reconstruction from batch=Yes\n",
      "Postalignment Applied=1\n",
      "Connected Reconstruction (parts)=5\n",
      "Sub-scan post alignment [0]=18.000000\n",
      "Sub-scan post alignment [1]=18.000000\n",
      "Sub-scan post alignment [2]=19.000000\n",
      "Sub-scan post alignment [3]=20.000000\n",
      "Sub-scan post alignment [4]=19.500000\n",
      "Sub-scan scan length [0]=734\n",
      "Sub-scan scan length [1]=733\n",
      "Sub-scan scan length [2]=736\n",
      "Sub-scan scan length [3]=672\n",
      "Sub-scan scan length [4]=731\n",
      "Used extra rotation per scan(deg)= 0.000  0.000  0.000  0.000  0.000\n",
      "Used extra shift in X per scan(micron)= 0.000  4.929  9.794  14.313  19.291\n",
      "Used extra shift in Y per scan(micron)= 0.000  5.681  -18.962  -23.558  -38.543\n",
      "Reconstruction servers= ANAMIC02\n",
      "Dataset Origin=SkyScan1272\n",
      "Dataset Prefix=Tooth065~03\n",
      "Dataset Directory=D:\\Results\\ZMK\\ToothBattallion\\65\n",
      "Output Directory=D:\\Results\\ZMK\\ToothBattallion\\65\\rec\n",
      "Time and Date=06 Jul 2020  15h:54m:37s\n",
      "First Section=429\n",
      "Last Section=2906\n",
      "Reconstruction duration per slice (seconds)=0.396098\n",
      "Total reconstruction time (2204 slices) in seconds=873.000000\n",
      "Section to Section Step=1\n",
      "Sections Count=2478\n",
      "Result File Type=PNG\n",
      "Result File Header Length (bytes)=Unknown: compressed JPG format (100%)\n",
      "Result Image Width (pixels)=1632\n",
      "Result Image Height (pixels)=1632\n",
      "Pixel Size (um)=9.99999\n",
      "Reconstruction Angular Range (deg)=192.80\n",
      "Use 180+=OFF\n",
      "Angular Step (deg)=0.4000\n",
      "Smoothing=0\n",
      "Ring Artifact Correction=14\n",
      "Draw Scales=OFF\n",
      "Object Bigger than FOV=OFF\n",
      "Reconstruction from ROI=OFF\n",
      "Filter cutoff relative to Nyquist frequency=100\n",
      "Filter type=0\n",
      "Filter type description=Hamming (Alpha=0.54)\n",
      "Undersampling factor=1\n",
      "Threshold for defect pixel mask (%)=0\n",
      "Beam Hardening Correction (%)=0\n",
      "CS Static Rotation (deg)=0.00\n",
      "CS Static Rotation Total(deg)=0.00\n",
      "Minimum for CS to Image Conversion=0.000000\n",
      "Maximum for CS to Image Conversion=0.180000\n",
      "HU Calibration=OFF\n",
      "BMP LUT=0\n",
      "Cone-beam Angle Horiz.(deg)=11.882415\n",
      "Cone-beam Angle Vert.(deg)=7.966494\n"
     ]
    },
    {
     "data": {
      "text/plain": [
       "()"
      ]
     },
     "execution_count": 389,
     "metadata": {},
     "output_type": "execute_result"
    }
   ],
   "source": [
    "fulllog(log)"
   ]
  },
  {
   "cell_type": "code",
   "execution_count": null,
   "metadata": {},
   "outputs": [],
   "source": []
  }
 ],
 "metadata": {
  "kernelspec": {
   "display_name": "Python 3",
   "language": "python",
   "name": "python3"
  },
  "language_info": {
   "codemirror_mode": {
    "name": "ipython",
    "version": 3
   },
   "file_extension": ".py",
   "mimetype": "text/x-python",
   "name": "python",
   "nbconvert_exporter": "python",
   "pygments_lexer": "ipython3",
   "version": "3.7.3"
  }
 },
 "nbformat": 4,
 "nbformat_minor": 4
}
