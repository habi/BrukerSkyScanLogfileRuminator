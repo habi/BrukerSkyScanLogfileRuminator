{
 "cells": [
  {
   "cell_type": "markdown",
   "metadata": {},
   "source": [
    "This notebook generates the paragraph about the microCT-scanning from logfiles of the scans."
   ]
  },
  {
   "cell_type": "code",
   "execution_count": 1,
   "metadata": {
    "tags": []
   },
   "outputs": [],
   "source": [
    "import platform\n",
    "import os\n",
    "import pandas\n",
    "import glob"
   ]
  },
  {
   "cell_type": "code",
   "execution_count": 2,
   "metadata": {
    "tags": []
   },
   "outputs": [],
   "source": [
    "from parsing_functions import *"
   ]
  },
  {
   "cell_type": "code",
   "execution_count": 3,
   "metadata": {
    "tags": []
   },
   "outputs": [
    {
     "name": "stdout",
     "output_type": "stream",
     "text": [
      "We are loading all the data from the folder logfiles\n"
     ]
    }
   ],
   "source": [
    "# Different locations if running either on Linux or Windows\n",
    "if 'Linux' in platform.system():\n",
    "    BasePath = os.path.join(os.path.sep, 'home', 'habi', 'research-storage-uct', 'Archiv_Tape')\n",
    "elif 'Windows' in platform.system():\n",
    "    BasePath = os.path.join('R:', os.sep)\n",
    "Root = os.path.join(BasePath, os.sep, 'SomeFolder')\n",
    "Root = 'logfiles'\n",
    "print('We are loading all the data from the folder %s' % Root)"
   ]
  },
  {
   "cell_type": "code",
   "execution_count": 4,
   "metadata": {
    "tags": []
   },
   "outputs": [],
   "source": [
    "# Make us a dataframe for saving all that we need\n",
    "Data = pandas.DataFrame()"
   ]
  },
  {
   "cell_type": "code",
   "execution_count": 5,
   "metadata": {
    "tags": []
   },
   "outputs": [],
   "source": [
    "# Get *all* log files\n",
    "# Using os.walk is way faster than using recursive glob.glob, see DataWrangling.ipynb for details\n",
    "# Not sorting the found logfiles is also making it quicker\n",
    "Data['LogFile'] = [os.path.join(root, name)\n",
    "                   for root, dirs, files in os.walk(Root)\n",
    "                   for name in files\n",
    "                   if name.endswith((\".log\"))]"
   ]
  },
  {
   "cell_type": "code",
   "execution_count": 6,
   "metadata": {
    "tags": []
   },
   "outputs": [
    {
     "data": {
      "text/html": [
       "<div>\n",
       "<style scoped>\n",
       "    .dataframe tbody tr th:only-of-type {\n",
       "        vertical-align: middle;\n",
       "    }\n",
       "\n",
       "    .dataframe tbody tr th {\n",
       "        vertical-align: top;\n",
       "    }\n",
       "\n",
       "    .dataframe thead th {\n",
       "        text-align: right;\n",
       "    }\n",
       "</style>\n",
       "<table border=\"1\" class=\"dataframe\">\n",
       "  <thead>\n",
       "    <tr style=\"text-align: right;\">\n",
       "      <th></th>\n",
       "      <th>LogFile</th>\n",
       "    </tr>\n",
       "  </thead>\n",
       "  <tbody>\n",
       "    <tr>\n",
       "      <th>72</th>\n",
       "      <td>logfiles/tooth-battalion/101/proj/Tooth101~01.log</td>\n",
       "    </tr>\n",
       "    <tr>\n",
       "      <th>23</th>\n",
       "      <td>logfiles/tooth-battalion/51/proj/Tooth051~00.log</td>\n",
       "    </tr>\n",
       "    <tr>\n",
       "      <th>57</th>\n",
       "      <td>logfiles/tooth-battalion/21/proj/Tooth021.log</td>\n",
       "    </tr>\n",
       "    <tr>\n",
       "      <th>43</th>\n",
       "      <td>logfiles/tooth-battalion/1/proj/Tooth001~01.log</td>\n",
       "    </tr>\n",
       "    <tr>\n",
       "      <th>27</th>\n",
       "      <td>logfiles/tooth-battalion/51/proj/Tooth051.log</td>\n",
       "    </tr>\n",
       "  </tbody>\n",
       "</table>\n",
       "</div>"
      ],
      "text/plain": [
       "                                              LogFile\n",
       "72  logfiles/tooth-battalion/101/proj/Tooth101~01.log\n",
       "23   logfiles/tooth-battalion/51/proj/Tooth051~00.log\n",
       "57      logfiles/tooth-battalion/21/proj/Tooth021.log\n",
       "43    logfiles/tooth-battalion/1/proj/Tooth001~01.log\n",
       "27      logfiles/tooth-battalion/51/proj/Tooth051.log"
      ]
     },
     "execution_count": 6,
     "metadata": {},
     "output_type": "execute_result"
    }
   ],
   "source": [
    "# See what we get\n",
    "Data.sample(n=5)"
   ]
  },
  {
   "cell_type": "code",
   "execution_count": 7,
   "metadata": {
    "tags": []
   },
   "outputs": [],
   "source": [
    "log=Data.LogFile[0]"
   ]
  },
  {
   "cell_type": "code",
   "execution_count": 8,
   "metadata": {
    "tags": []
   },
   "outputs": [
    {
     "name": "stdout",
     "output_type": "stream",
     "text": [
      "[System]\n",
      "Scanner=SkyScan2214\n",
      "Instrument S/N=20C18017\n",
      "Software Version=1.8\n",
      "Home Directory=C:\\SkyScan2214\\SkyScan2214 User Software\n",
      "Source Type=Hamamatsu L10711\n",
      "Camera Type=FlatPanel: 2...50um, 140mm max.FOV\n",
      "Camera Pixel Size (um)=74.800\n",
      "Camera X/Y Ratio=1.0030\n",
      "[User]\n",
      "User Name=Skyscan4\n",
      "Computer Name=ANAMIC05\n",
      "[Acquisition]\n",
      "Data Directory=D:\\Results\\EAWAG\\104016\\head\\proj\n",
      "Filename Prefix=104016~02\n",
      "Number Of Files= 1104\n",
      "Number Of Rows=  972\n",
      "Number Of Columns= 1536\n",
      "Filename Index Length=8\n",
      "Partial Width=OFF\n",
      "Image crop origin X=0\n",
      "Image crop origin Y=0\n",
      "Camera binning=2x2\n",
      "Image Rotation=0.19000\n",
      "Optical Axis (line)=  501\n",
      "Object to Source (mm)=27.251\n",
      "Camera to Source (mm)=313.563\n",
      "Source Voltage (kV)=  70\n",
      "Source Current (uA)= 137\n",
      "Source Target Power (W)=6.95\n",
      "Image Pixel Size (um)=13.001449\n",
      "Scaled Image Pixel Size (um)=13.001449\n",
      "Image Format=TIFF\n",
      "Depth (bits)=16\n",
      "Reference Intensity=58000\n",
      "Exposure (ms)=740\n",
      "Rotation Step (deg)=0.200\n",
      "Use 360 Rotation=NO\n",
      "High Aspect Ratio=NO\n",
      "Scanning position=34.572 mm\n",
      "Frame Averaging=OFF (2)\n",
      "Flat Field Correction=ON\n",
      "FF updating interval=158\n",
      "Random Movement=OFF (20)\n",
      "Filter=No Filter\n",
      "Gantry direction=CW\n",
      "Rotation Direction=CW\n",
      "Intrinsic CS rotation in degree=0.0\n",
      "Type of Detector Motion=STEP AND SHOOT\n",
      "Scanning Trajectory=ROUND\n",
      "Number of connected scans=3\n",
      "Current scan number=3\n",
      "Number of lines to be reconstructed=690\n",
      "Source Filament Type=W\n",
      "Source spot size=Large\n",
      "Suggested HU - Calibration=180000\n",
      "Number Of Horizontal Offset Positions=1\n",
      "Study Date and Time=27 Jan 2022  14h:53m:07s\n",
      "Estimated Scan duration=2h:43m:3s\n",
      "Scan duration=0h:38m:58s\n",
      "Maximum vertical TS=0.0\n",
      "Maximum horizontal TS=0.0\n",
      "TS modified at=January27,15:12:06 ---  1104 of 1104 projections\n",
      "TS modified according to=D:\\Results\\EAWAG\\104016\\head\\proj\\104016~02_2DTransform.csv\n",
      "TS modified at level=3\n",
      "[Reconstruction]\n",
      "Pseudo-parallel projection calculated=1\n"
     ]
    },
    {
     "data": {
      "text/plain": [
       "()"
      ]
     },
     "execution_count": 8,
     "metadata": {},
     "output_type": "execute_result"
    }
   ],
   "source": [
    "fulllog(log)"
   ]
  },
  {
   "cell_type": "code",
   "execution_count": 9,
   "metadata": {
    "tags": []
   },
   "outputs": [
    {
     "name": "stdout",
     "output_type": "stream",
     "text": [
      "Scanner=SkyScan2214\n",
      "\n"
     ]
    },
    {
     "data": {
      "text/plain": [
       "'SkyScan 2214'"
      ]
     },
     "execution_count": 9,
     "metadata": {},
     "output_type": "execute_result"
    }
   ],
   "source": [
    "scanner(log, verbose=True)"
   ]
  },
  {
   "cell_type": "code",
   "execution_count": 10,
   "metadata": {
    "tags": []
   },
   "outputs": [
    {
     "name": "stdout",
     "output_type": "stream",
     "text": [
      "Software Version=1.8\n",
      "\n"
     ]
    },
    {
     "data": {
      "text/plain": [
       "'1.8'"
      ]
     },
     "execution_count": 10,
     "metadata": {},
     "output_type": "execute_result"
    }
   ],
   "source": [
    "controlsoftware(log, verbose=True)"
   ]
  },
  {
   "cell_type": "code",
   "execution_count": 11,
   "metadata": {
    "tags": []
   },
   "outputs": [
    {
     "name": "stdout",
     "output_type": "stream",
     "text": [
      "Source Type=Hamamatsu L10711\n",
      "\n"
     ]
    },
    {
     "data": {
      "text/plain": [
       "'Hamamatsu L10711'"
      ]
     },
     "execution_count": 11,
     "metadata": {},
     "output_type": "execute_result"
    }
   ],
   "source": [
    "source(log, verbose=True)"
   ]
  },
  {
   "cell_type": "code",
   "execution_count": 12,
   "metadata": {
    "tags": []
   },
   "outputs": [
    {
     "name": "stdout",
     "output_type": "stream",
     "text": [
      "Camera Type=FlatPanel: 2...50um, 140mm max.FOV\n",
      "\n"
     ]
    },
    {
     "data": {
      "text/plain": [
       "'FlatPanel: 2...50um, 140mm max.FOV'"
      ]
     },
     "execution_count": 12,
     "metadata": {},
     "output_type": "execute_result"
    }
   ],
   "source": [
    "camera(log, verbose=True)"
   ]
  },
  {
   "cell_type": "code",
   "execution_count": 13,
   "metadata": {
    "tags": []
   },
   "outputs": [
    {
     "name": "stdout",
     "output_type": "stream",
     "text": [
      "Source Voltage (kV)=  70\n",
      "\n"
     ]
    },
    {
     "data": {
      "text/plain": [
       "70.0"
      ]
     },
     "execution_count": 13,
     "metadata": {},
     "output_type": "execute_result"
    }
   ],
   "source": [
    "voltage(log, verbose=True)"
   ]
  },
  {
   "cell_type": "code",
   "execution_count": 14,
   "metadata": {
    "tags": []
   },
   "outputs": [
    {
     "name": "stdout",
     "output_type": "stream",
     "text": [
      "Source Current (uA)= 137\n",
      "\n"
     ]
    },
    {
     "data": {
      "text/plain": [
       "137.0"
      ]
     },
     "execution_count": 14,
     "metadata": {},
     "output_type": "execute_result"
    }
   ],
   "source": [
    "current(log, verbose=True)"
   ]
  },
  {
   "cell_type": "code",
   "execution_count": 15,
   "metadata": {
    "tags": []
   },
   "outputs": [
    {
     "name": "stdout",
     "output_type": "stream",
     "text": [
      "Filter=No Filter\n",
      "\n"
     ]
    },
    {
     "data": {
      "text/plain": [
       "False"
      ]
     },
     "execution_count": 15,
     "metadata": {},
     "output_type": "execute_result"
    }
   ],
   "source": [
    "whichfilter(log, verbose=True)"
   ]
  },
  {
   "cell_type": "code",
   "execution_count": 16,
   "metadata": {
    "tags": []
   },
   "outputs": [
    {
     "data": {
      "text/plain": [
       "\u001b[0;31mSignature:\u001b[0m \u001b[0mfulllog\u001b[0m\u001b[0;34m(\u001b[0m\u001b[0mlogfile\u001b[0m\u001b[0;34m)\u001b[0m\u001b[0;34m\u001b[0m\u001b[0;34m\u001b[0m\u001b[0m\n",
       "\u001b[0;31mDocstring:\u001b[0m Print the full log file\n",
       "\u001b[0;31mFile:\u001b[0m      ~/Dev/BrukerSkyScanLogfileRuminator/parsing_functions.py\n",
       "\u001b[0;31mType:\u001b[0m      function"
      ]
     },
     "metadata": {},
     "output_type": "display_data"
    }
   ],
   "source": [
    "fulllog?"
   ]
  },
  {
   "cell_type": "code",
   "execution_count": 17,
   "metadata": {
    "tags": []
   },
   "outputs": [
    {
     "name": "stdout",
     "output_type": "stream",
     "text": [
      "Number Of Files= 1104\n",
      "\n"
     ]
    },
    {
     "data": {
      "text/plain": [
       "1104"
      ]
     },
     "execution_count": 17,
     "metadata": {},
     "output_type": "execute_result"
    }
   ],
   "source": [
    "numproj(log, verbose=True)"
   ]
  },
  {
   "cell_type": "code",
   "execution_count": 18,
   "metadata": {},
   "outputs": [
    {
     "data": {
      "text/plain": [
       "1"
      ]
     },
     "execution_count": 18,
     "metadata": {},
     "output_type": "execute_result"
    }
   ],
   "source": [
    "stacks(log, verbose=True)"
   ]
  },
  {
   "cell_type": "code",
   "execution_count": 19,
   "metadata": {},
   "outputs": [
    {
     "data": {
      "text/plain": [
       "(1536, 972)"
      ]
     },
     "execution_count": 19,
     "metadata": {},
     "output_type": "execute_result"
    }
   ],
   "source": [
    "projectionsize(log)"
   ]
  },
  {
   "cell_type": "code",
   "execution_count": 20,
   "metadata": {},
   "outputs": [
    {
     "name": "stdout",
     "output_type": "stream",
     "text": [
      "Number Of Horizontal Offset Positions=1\n",
      "\n"
     ]
    },
    {
     "data": {
      "text/plain": [
       "False"
      ]
     },
     "execution_count": 20,
     "metadata": {},
     "output_type": "execute_result"
    }
   ],
   "source": [
    "overlapscan(log, verbose=True)"
   ]
  },
  {
   "cell_type": "code",
   "execution_count": 21,
   "metadata": {
    "tags": []
   },
   "outputs": [
    {
     "data": {
      "text/html": [
       "<div>\n",
       "<style scoped>\n",
       "    .dataframe tbody tr th:only-of-type {\n",
       "        vertical-align: middle;\n",
       "    }\n",
       "\n",
       "    .dataframe tbody tr th {\n",
       "        vertical-align: top;\n",
       "    }\n",
       "\n",
       "    .dataframe thead th {\n",
       "        text-align: right;\n",
       "    }\n",
       "</style>\n",
       "<table border=\"1\" class=\"dataframe\">\n",
       "  <thead>\n",
       "    <tr style=\"text-align: right;\">\n",
       "      <th></th>\n",
       "      <th>LogFile</th>\n",
       "    </tr>\n",
       "  </thead>\n",
       "  <tbody>\n",
       "    <tr>\n",
       "      <th>60</th>\n",
       "      <td>logfiles/tooth-battalion/21/proj/Tooth021~04.log</td>\n",
       "    </tr>\n",
       "    <tr>\n",
       "      <th>44</th>\n",
       "      <td>logfiles/tooth-battalion/1/proj/Tooth001~03.log</td>\n",
       "    </tr>\n",
       "    <tr>\n",
       "      <th>86</th>\n",
       "      <td>logfiles/tooth-battalion/81/proj/Tooth081~01.log</td>\n",
       "    </tr>\n",
       "    <tr>\n",
       "      <th>7</th>\n",
       "      <td>logfiles/zebrafish-gills/Swimmer10/rec/Swimmer...</td>\n",
       "    </tr>\n",
       "    <tr>\n",
       "      <th>10</th>\n",
       "      <td>logfiles/zebrafish-gills/Control10/proj/Contro...</td>\n",
       "    </tr>\n",
       "    <tr>\n",
       "      <th>41</th>\n",
       "      <td>logfiles/tooth-battalion/11/proj/Tooth011~01.log</td>\n",
       "    </tr>\n",
       "    <tr>\n",
       "      <th>16</th>\n",
       "      <td>logfiles/tooth-battalion/91/proj/Tooth091~03.log</td>\n",
       "    </tr>\n",
       "    <tr>\n",
       "      <th>12</th>\n",
       "      <td>logfiles/zebrafish-gills/Control10/rec/Control...</td>\n",
       "    </tr>\n",
       "    <tr>\n",
       "      <th>65</th>\n",
       "      <td>logfiles/tooth-battalion/41/proj/Tooth041~00.log</td>\n",
       "    </tr>\n",
       "    <tr>\n",
       "      <th>29</th>\n",
       "      <td>logfiles/tooth-battalion/71/proj/Tooth071~03.log</td>\n",
       "    </tr>\n",
       "  </tbody>\n",
       "</table>\n",
       "</div>"
      ],
      "text/plain": [
       "                                              LogFile\n",
       "60   logfiles/tooth-battalion/21/proj/Tooth021~04.log\n",
       "44    logfiles/tooth-battalion/1/proj/Tooth001~03.log\n",
       "86   logfiles/tooth-battalion/81/proj/Tooth081~01.log\n",
       "7   logfiles/zebrafish-gills/Swimmer10/rec/Swimmer...\n",
       "10  logfiles/zebrafish-gills/Control10/proj/Contro...\n",
       "41   logfiles/tooth-battalion/11/proj/Tooth011~01.log\n",
       "16   logfiles/tooth-battalion/91/proj/Tooth091~03.log\n",
       "12  logfiles/zebrafish-gills/Control10/rec/Control...\n",
       "65   logfiles/tooth-battalion/41/proj/Tooth041~00.log\n",
       "29   logfiles/tooth-battalion/71/proj/Tooth071~03.log"
      ]
     },
     "execution_count": 21,
     "metadata": {},
     "output_type": "execute_result"
    }
   ],
   "source": [
    "Data.sample(n=10)"
   ]
  },
  {
   "cell_type": "code",
   "execution_count": 22,
   "metadata": {
    "tags": []
   },
   "outputs": [],
   "source": [
    "def threesixtyscan(logfile, verbose=False):\n",
    "    with open(logfile, 'r') as f:\n",
    "        for line in f:\n",
    "            if '360 Rotation' in line:\n",
    "                if verbose:\n",
    "                    print(line)\n",
    "                threesixty = line.split('=')[1]\n",
    "                print(threesixty)\n",
    "                if 'YES' in threesixty:\n",
    "                    threesixty = True\n",
    "                elif 'NO' in threesixty:\n",
    "                    threesixty = False\n",
    "    return(threesixty)"
   ]
  },
  {
   "cell_type": "code",
   "execution_count": 23,
   "metadata": {},
   "outputs": [
    {
     "name": "stdout",
     "output_type": "stream",
     "text": [
      "Use 360 Rotation=NO\n",
      "\n",
      "NO\n",
      "\n"
     ]
    },
    {
     "data": {
      "text/plain": [
       "False"
      ]
     },
     "execution_count": 23,
     "metadata": {},
     "output_type": "execute_result"
    }
   ],
   "source": [
    "threesixtyscan(log, verbose=True)"
   ]
  },
  {
   "cell_type": "code",
   "execution_count": 24,
   "metadata": {},
   "outputs": [
    {
     "name": "stdout",
     "output_type": "stream",
     "text": [
      "Rotation Step (deg)=0.200\n",
      "\n"
     ]
    },
    {
     "data": {
      "text/plain": [
       "0.2"
      ]
     },
     "execution_count": 24,
     "metadata": {},
     "output_type": "execute_result"
    }
   ],
   "source": [
    "rotationstep(log, verbose=True)"
   ]
  },
  {
   "cell_type": "code",
   "execution_count": 25,
   "metadata": {},
   "outputs": [
    {
     "name": "stdout",
     "output_type": "stream",
     "text": [
      "Exposure (ms)=740\n",
      "\n"
     ]
    },
    {
     "data": {
      "text/plain": [
       "740"
      ]
     },
     "execution_count": 25,
     "metadata": {},
     "output_type": "execute_result"
    }
   ],
   "source": [
    "exposure(log, verbose=True)"
   ]
  },
  {
   "cell_type": "code",
   "execution_count": 26,
   "metadata": {},
   "outputs": [
    {
     "name": "stdout",
     "output_type": "stream",
     "text": [
      "Frame Averaging=OFF (2)\n",
      "\n"
     ]
    },
    {
     "data": {
      "text/plain": [
       "False"
      ]
     },
     "execution_count": 26,
     "metadata": {},
     "output_type": "execute_result"
    }
   ],
   "source": [
    "averaging(log, verbose=True)"
   ]
  },
  {
   "cell_type": "code",
   "execution_count": 27,
   "metadata": {},
   "outputs": [
    {
     "name": "stdout",
     "output_type": "stream",
     "text": [
      "Scan duration=0h:38m:58s\n",
      "\n"
     ]
    },
    {
     "data": {
      "text/plain": [
       "2338.0"
      ]
     },
     "execution_count": 27,
     "metadata": {},
     "output_type": "execute_result"
    }
   ],
   "source": [
    "duration(log, verbose=True)"
   ]
  },
  {
   "cell_type": "code",
   "execution_count": 28,
   "metadata": {},
   "outputs": [
    {
     "name": "stdout",
     "output_type": "stream",
     "text": [
      "Image Pixel Size (um)=13.001449\n",
      "\n"
     ]
    },
    {
     "data": {
      "text/plain": [
       "13.001449"
      ]
     },
     "execution_count": 28,
     "metadata": {},
     "output_type": "execute_result"
    }
   ],
   "source": [
    "pixelsize(log, verbose=True)"
   ]
  },
  {
   "cell_type": "code",
   "execution_count": 29,
   "metadata": {
    "tags": []
   },
   "outputs": [
    {
     "data": {
      "text/html": [
       "<div>\n",
       "<style scoped>\n",
       "    .dataframe tbody tr th:only-of-type {\n",
       "        vertical-align: middle;\n",
       "    }\n",
       "\n",
       "    .dataframe tbody tr th {\n",
       "        vertical-align: top;\n",
       "    }\n",
       "\n",
       "    .dataframe thead th {\n",
       "        text-align: right;\n",
       "    }\n",
       "</style>\n",
       "<table border=\"1\" class=\"dataframe\">\n",
       "  <thead>\n",
       "    <tr style=\"text-align: right;\">\n",
       "      <th></th>\n",
       "      <th>LogFile</th>\n",
       "    </tr>\n",
       "  </thead>\n",
       "  <tbody>\n",
       "    <tr>\n",
       "      <th>55</th>\n",
       "      <td>logfiles/tooth-battalion/31/rec/Tooth031_rec.log</td>\n",
       "    </tr>\n",
       "    <tr>\n",
       "      <th>51</th>\n",
       "      <td>logfiles/tooth-battalion/31/proj/Tooth031~04.log</td>\n",
       "    </tr>\n",
       "    <tr>\n",
       "      <th>79</th>\n",
       "      <td>logfiles/tooth-battalion/61/proj/Tooth061~03.log</td>\n",
       "    </tr>\n",
       "    <tr>\n",
       "      <th>74</th>\n",
       "      <td>logfiles/tooth-battalion/101/proj/Tooth101~02.log</td>\n",
       "    </tr>\n",
       "    <tr>\n",
       "      <th>54</th>\n",
       "      <td>logfiles/tooth-battalion/31/proj/Tooth031.log</td>\n",
       "    </tr>\n",
       "  </tbody>\n",
       "</table>\n",
       "</div>"
      ],
      "text/plain": [
       "                                              LogFile\n",
       "55   logfiles/tooth-battalion/31/rec/Tooth031_rec.log\n",
       "51   logfiles/tooth-battalion/31/proj/Tooth031~04.log\n",
       "79   logfiles/tooth-battalion/61/proj/Tooth061~03.log\n",
       "74  logfiles/tooth-battalion/101/proj/Tooth101~02.log\n",
       "54      logfiles/tooth-battalion/31/proj/Tooth031.log"
      ]
     },
     "execution_count": 29,
     "metadata": {},
     "output_type": "execute_result"
    }
   ],
   "source": [
    "Data.sample(n=5)"
   ]
  },
  {
   "cell_type": "code",
   "execution_count": 35,
   "metadata": {},
   "outputs": [
    {
     "data": {
      "text/plain": [
       "(None, None)"
      ]
     },
     "execution_count": 35,
     "metadata": {},
     "output_type": "execute_result"
    }
   ],
   "source": [
    "version(log, verbose=True)"
   ]
  },
  {
   "cell_type": "code",
   "execution_count": 36,
   "metadata": {},
   "outputs": [],
   "source": [
    "ringremoval(log, verbose=True)"
   ]
  },
  {
   "cell_type": "code",
   "execution_count": 37,
   "metadata": {},
   "outputs": [],
   "source": [
    "beamhardening(log, verbose=True)"
   ]
  },
  {
   "cell_type": "code",
   "execution_count": 69,
   "metadata": {},
   "outputs": [],
   "source": [
    "Data['Scanner'] = [scanner(log) for log in Data['LogFile']]\n",
    "Data['Software'] = [controlsoftware(log) for log in Data['LogFile']]"
   ]
  },
  {
   "cell_type": "code",
   "execution_count": 70,
   "metadata": {},
   "outputs": [],
   "source": [
    "Data['Voxelsize'] = [pixelsize(log) for log in Data['LogFile']]\n",
    "Data['Voxelsize_rounded'] = [round(vs,1) for vs in Data['Voxelsize']]"
   ]
  },
  {
   "cell_type": "code",
   "execution_count": 71,
   "metadata": {},
   "outputs": [],
   "source": [
    "Data['Source'] = [source(log) for log in Data['LogFile']]\n",
    "Data['Camera'] = [camera(log) for log in Data['LogFile']]"
   ]
  },
  {
   "cell_type": "code",
   "execution_count": 72,
   "metadata": {},
   "outputs": [],
   "source": [
    "Data['Voltage'] = [voltage(log) for log in Data['LogFile']]\n",
    "Data['Current'] = [current(log) for log in Data['LogFile']]\n",
    "Data['Filter'] = [whichfilter(log) for log in Data['LogFile']]"
   ]
  },
  {
   "cell_type": "code",
   "execution_count": 94,
   "metadata": {},
   "outputs": [],
   "source": [
    "Data['Stacks'] = [stacks(log) for log in Data['LogFile']]\n",
    "Data['NumProj'] = [numproj(log) for log in Data['LogFile']]\n",
    "Data['ProjSize'] = [projectionsize(log) for log in Data['LogFile']]\n",
    "Data['RotationStep'] = [rotationstep(log) for log in Data['LogFile']]\n",
    "Data['Wide'] = [overlapscan(log) for log in Data.LogFile]"
   ]
  },
  {
   "cell_type": "code",
   "execution_count": 95,
   "metadata": {},
   "outputs": [],
   "source": [
    "Data['RingRemoval'] = [ringremoval(log) for log in Data['LogFile']]\n",
    "Data['Beamhardening'] = [beamhardening(log) for log in Data['LogFile']]"
   ]
  },
  {
   "cell_type": "code",
   "execution_count": 96,
   "metadata": {},
   "outputs": [],
   "source": [
    "Data['Exposure'] = [exposure(log) for log in Data['LogFile']]\n",
    "Data['Averaging'] = [averaging(log) for log in Data['LogFile']]"
   ]
  },
  {
   "cell_type": "code",
   "execution_count": 97,
   "metadata": {},
   "outputs": [],
   "source": [
    "Data['Duration'] = [duration(log) for log in Data['LogFile']]"
   ]
  },
  {
   "cell_type": "code",
   "execution_count": 98,
   "metadata": {},
   "outputs": [],
   "source": [
    "Data['Version'] = [version(log) for log in Data['LogFile']]"
   ]
  },
  {
   "cell_type": "code",
   "execution_count": 100,
   "metadata": {},
   "outputs": [],
   "source": [
    "Data.to_csv('ScanningDetails.csv')"
   ]
  },
  {
   "cell_type": "code",
   "execution_count": 101,
   "metadata": {},
   "outputs": [
    {
     "data": {
      "text/html": [
       "<div>\n",
       "<style scoped>\n",
       "    .dataframe tbody tr th:only-of-type {\n",
       "        vertical-align: middle;\n",
       "    }\n",
       "\n",
       "    .dataframe tbody tr th {\n",
       "        vertical-align: top;\n",
       "    }\n",
       "\n",
       "    .dataframe thead th {\n",
       "        text-align: right;\n",
       "    }\n",
       "</style>\n",
       "<table border=\"1\" class=\"dataframe\">\n",
       "  <thead>\n",
       "    <tr style=\"text-align: right;\">\n",
       "      <th></th>\n",
       "      <th>LogFile</th>\n",
       "      <th>Scanner</th>\n",
       "      <th>Software</th>\n",
       "      <th>Voxelsize</th>\n",
       "      <th>Voxelsize_rounded</th>\n",
       "      <th>Source</th>\n",
       "      <th>Camera</th>\n",
       "      <th>Voltage</th>\n",
       "      <th>Current</th>\n",
       "      <th>Filter</th>\n",
       "      <th>...</th>\n",
       "      <th>RingRemoval</th>\n",
       "      <th>Beamhardening</th>\n",
       "      <th>NumProj</th>\n",
       "      <th>ProjSize</th>\n",
       "      <th>RotationStep</th>\n",
       "      <th>Wide</th>\n",
       "      <th>Exposure</th>\n",
       "      <th>Averaging</th>\n",
       "      <th>Duration</th>\n",
       "      <th>Version</th>\n",
       "    </tr>\n",
       "  </thead>\n",
       "  <tbody>\n",
       "    <tr>\n",
       "      <th>0</th>\n",
       "      <td>logfiles/cichlids/104016/head/proj/104016~02.log</td>\n",
       "      <td>SkyScan 2214</td>\n",
       "      <td>1.8</td>\n",
       "      <td>13.001449</td>\n",
       "      <td>13.0</td>\n",
       "      <td>Hamamatsu L10711</td>\n",
       "      <td>FlatPanel: 2...50um, 140mm max.FOV</td>\n",
       "      <td>70.0</td>\n",
       "      <td>137.0</td>\n",
       "      <td>False</td>\n",
       "      <td>...</td>\n",
       "      <td>NaN</td>\n",
       "      <td>NaN</td>\n",
       "      <td>1104</td>\n",
       "      <td>(1536, 972)</td>\n",
       "      <td>0.2</td>\n",
       "      <td>False</td>\n",
       "      <td>740</td>\n",
       "      <td>False</td>\n",
       "      <td>2338.0</td>\n",
       "      <td>(None, None)</td>\n",
       "    </tr>\n",
       "    <tr>\n",
       "      <th>1</th>\n",
       "      <td>logfiles/cichlids/104016/head/proj/104016.log</td>\n",
       "      <td>SkyScan 2214</td>\n",
       "      <td>1.8</td>\n",
       "      <td>13.001449</td>\n",
       "      <td>13.0</td>\n",
       "      <td>Hamamatsu L10711</td>\n",
       "      <td>FlatPanel: 2...50um, 140mm max.FOV</td>\n",
       "      <td>70.0</td>\n",
       "      <td>137.0</td>\n",
       "      <td>False</td>\n",
       "      <td>...</td>\n",
       "      <td>0.0</td>\n",
       "      <td>0.0</td>\n",
       "      <td>1104</td>\n",
       "      <td>(1536, 972)</td>\n",
       "      <td>0.2</td>\n",
       "      <td>False</td>\n",
       "      <td>740</td>\n",
       "      <td>False</td>\n",
       "      <td>2359.0</td>\n",
       "      <td>(NRecon, 2.1.0.1)</td>\n",
       "    </tr>\n",
       "    <tr>\n",
       "      <th>2</th>\n",
       "      <td>logfiles/cichlids/104016/head/proj/104016~01.log</td>\n",
       "      <td>SkyScan 2214</td>\n",
       "      <td>1.8</td>\n",
       "      <td>13.001449</td>\n",
       "      <td>13.0</td>\n",
       "      <td>Hamamatsu L10711</td>\n",
       "      <td>FlatPanel: 2...50um, 140mm max.FOV</td>\n",
       "      <td>70.0</td>\n",
       "      <td>137.0</td>\n",
       "      <td>False</td>\n",
       "      <td>...</td>\n",
       "      <td>NaN</td>\n",
       "      <td>NaN</td>\n",
       "      <td>1104</td>\n",
       "      <td>(1536, 972)</td>\n",
       "      <td>0.2</td>\n",
       "      <td>False</td>\n",
       "      <td>740</td>\n",
       "      <td>False</td>\n",
       "      <td>2341.0</td>\n",
       "      <td>(None, None)</td>\n",
       "    </tr>\n",
       "    <tr>\n",
       "      <th>3</th>\n",
       "      <td>logfiles/cichlids/104016/head/proj/104016~00.log</td>\n",
       "      <td>SkyScan 2214</td>\n",
       "      <td>1.8</td>\n",
       "      <td>13.001449</td>\n",
       "      <td>13.0</td>\n",
       "      <td>Hamamatsu L10711</td>\n",
       "      <td>FlatPanel: 2...50um, 140mm max.FOV</td>\n",
       "      <td>70.0</td>\n",
       "      <td>137.0</td>\n",
       "      <td>False</td>\n",
       "      <td>...</td>\n",
       "      <td>NaN</td>\n",
       "      <td>NaN</td>\n",
       "      <td>1104</td>\n",
       "      <td>(1536, 972)</td>\n",
       "      <td>0.2</td>\n",
       "      <td>False</td>\n",
       "      <td>740</td>\n",
       "      <td>False</td>\n",
       "      <td>2359.0</td>\n",
       "      <td>(None, None)</td>\n",
       "    </tr>\n",
       "    <tr>\n",
       "      <th>4</th>\n",
       "      <td>logfiles/cichlids/104016/head/rec/104016_rec.log</td>\n",
       "      <td>SkyScan 2214</td>\n",
       "      <td>1.8</td>\n",
       "      <td>13.001449</td>\n",
       "      <td>13.0</td>\n",
       "      <td>Hamamatsu L10711</td>\n",
       "      <td>FlatPanel: 2...50um, 140mm max.FOV</td>\n",
       "      <td>70.0</td>\n",
       "      <td>137.0</td>\n",
       "      <td>False</td>\n",
       "      <td>...</td>\n",
       "      <td>0.0</td>\n",
       "      <td>0.0</td>\n",
       "      <td>1104</td>\n",
       "      <td>(1536, 972)</td>\n",
       "      <td>0.2</td>\n",
       "      <td>False</td>\n",
       "      <td>740</td>\n",
       "      <td>False</td>\n",
       "      <td>2359.0</td>\n",
       "      <td>(NRecon, 2.1.0.1)</td>\n",
       "    </tr>\n",
       "  </tbody>\n",
       "</table>\n",
       "<p>5 rows × 21 columns</p>\n",
       "</div>"
      ],
      "text/plain": [
       "                                            LogFile       Scanner Software  \\\n",
       "0  logfiles/cichlids/104016/head/proj/104016~02.log  SkyScan 2214      1.8   \n",
       "1     logfiles/cichlids/104016/head/proj/104016.log  SkyScan 2214      1.8   \n",
       "2  logfiles/cichlids/104016/head/proj/104016~01.log  SkyScan 2214      1.8   \n",
       "3  logfiles/cichlids/104016/head/proj/104016~00.log  SkyScan 2214      1.8   \n",
       "4  logfiles/cichlids/104016/head/rec/104016_rec.log  SkyScan 2214      1.8   \n",
       "\n",
       "   Voxelsize  Voxelsize_rounded            Source  \\\n",
       "0  13.001449               13.0  Hamamatsu L10711   \n",
       "1  13.001449               13.0  Hamamatsu L10711   \n",
       "2  13.001449               13.0  Hamamatsu L10711   \n",
       "3  13.001449               13.0  Hamamatsu L10711   \n",
       "4  13.001449               13.0  Hamamatsu L10711   \n",
       "\n",
       "                               Camera  Voltage  Current Filter  ...  \\\n",
       "0  FlatPanel: 2...50um, 140mm max.FOV     70.0    137.0  False  ...   \n",
       "1  FlatPanel: 2...50um, 140mm max.FOV     70.0    137.0  False  ...   \n",
       "2  FlatPanel: 2...50um, 140mm max.FOV     70.0    137.0  False  ...   \n",
       "3  FlatPanel: 2...50um, 140mm max.FOV     70.0    137.0  False  ...   \n",
       "4  FlatPanel: 2...50um, 140mm max.FOV     70.0    137.0  False  ...   \n",
       "\n",
       "   RingRemoval  Beamhardening  NumProj     ProjSize RotationStep   Wide  \\\n",
       "0          NaN            NaN     1104  (1536, 972)          0.2  False   \n",
       "1          0.0            0.0     1104  (1536, 972)          0.2  False   \n",
       "2          NaN            NaN     1104  (1536, 972)          0.2  False   \n",
       "3          NaN            NaN     1104  (1536, 972)          0.2  False   \n",
       "4          0.0            0.0     1104  (1536, 972)          0.2  False   \n",
       "\n",
       "  Exposure  Averaging Duration            Version  \n",
       "0      740      False   2338.0       (None, None)  \n",
       "1      740      False   2359.0  (NRecon, 2.1.0.1)  \n",
       "2      740      False   2341.0       (None, None)  \n",
       "3      740      False   2359.0       (None, None)  \n",
       "4      740      False   2359.0  (NRecon, 2.1.0.1)  \n",
       "\n",
       "[5 rows x 21 columns]"
      ]
     },
     "execution_count": 101,
     "metadata": {},
     "output_type": "execute_result"
    }
   ],
   "source": [
    "Data.head()"
   ]
  },
  {
   "cell_type": "code",
   "execution_count": 102,
   "metadata": {},
   "outputs": [
    {
     "ename": "ImportError",
     "evalue": "Missing optional dependency 'tabulate'.  Use pip or conda to install tabulate.",
     "output_type": "error",
     "traceback": [
      "\u001b[0;31m---------------------------------------------------------------------------\u001b[0m",
      "\u001b[0;31mModuleNotFoundError\u001b[0m                       Traceback (most recent call last)",
      "File \u001b[0;32m~/miniconda3/envs/calegari/lib/python3.11/site-packages/pandas/compat/_optional.py:141\u001b[0m, in \u001b[0;36mimport_optional_dependency\u001b[0;34m(name, extra, errors, min_version)\u001b[0m\n\u001b[1;32m    140\u001b[0m \u001b[38;5;28;01mtry\u001b[39;00m:\n\u001b[0;32m--> 141\u001b[0m     module \u001b[38;5;241m=\u001b[39m \u001b[43mimportlib\u001b[49m\u001b[38;5;241;43m.\u001b[39;49m\u001b[43mimport_module\u001b[49m\u001b[43m(\u001b[49m\u001b[43mname\u001b[49m\u001b[43m)\u001b[49m\n\u001b[1;32m    142\u001b[0m \u001b[38;5;28;01mexcept\u001b[39;00m \u001b[38;5;167;01mImportError\u001b[39;00m:\n",
      "File \u001b[0;32m~/miniconda3/envs/calegari/lib/python3.11/importlib/__init__.py:126\u001b[0m, in \u001b[0;36mimport_module\u001b[0;34m(name, package)\u001b[0m\n\u001b[1;32m    125\u001b[0m         level \u001b[38;5;241m+\u001b[39m\u001b[38;5;241m=\u001b[39m \u001b[38;5;241m1\u001b[39m\n\u001b[0;32m--> 126\u001b[0m \u001b[38;5;28;01mreturn\u001b[39;00m \u001b[43m_bootstrap\u001b[49m\u001b[38;5;241;43m.\u001b[39;49m\u001b[43m_gcd_import\u001b[49m\u001b[43m(\u001b[49m\u001b[43mname\u001b[49m\u001b[43m[\u001b[49m\u001b[43mlevel\u001b[49m\u001b[43m:\u001b[49m\u001b[43m]\u001b[49m\u001b[43m,\u001b[49m\u001b[43m \u001b[49m\u001b[43mpackage\u001b[49m\u001b[43m,\u001b[49m\u001b[43m \u001b[49m\u001b[43mlevel\u001b[49m\u001b[43m)\u001b[49m\n",
      "File \u001b[0;32m<frozen importlib._bootstrap>:1206\u001b[0m, in \u001b[0;36m_gcd_import\u001b[0;34m(name, package, level)\u001b[0m\n",
      "File \u001b[0;32m<frozen importlib._bootstrap>:1178\u001b[0m, in \u001b[0;36m_find_and_load\u001b[0;34m(name, import_)\u001b[0m\n",
      "File \u001b[0;32m<frozen importlib._bootstrap>:1142\u001b[0m, in \u001b[0;36m_find_and_load_unlocked\u001b[0;34m(name, import_)\u001b[0m\n",
      "\u001b[0;31mModuleNotFoundError\u001b[0m: No module named 'tabulate'",
      "\nDuring handling of the above exception, another exception occurred:\n",
      "\u001b[0;31mImportError\u001b[0m                               Traceback (most recent call last)",
      "Cell \u001b[0;32mIn[102], line 1\u001b[0m\n\u001b[0;32m----> 1\u001b[0m \u001b[43mData\u001b[49m\u001b[38;5;241;43m.\u001b[39;49m\u001b[43mto_markdown\u001b[49m\u001b[43m(\u001b[49m\u001b[43m)\u001b[49m\n",
      "File \u001b[0;32m~/miniconda3/envs/calegari/lib/python3.11/site-packages/pandas/core/frame.py:2842\u001b[0m, in \u001b[0;36mDataFrame.to_markdown\u001b[0;34m(self, buf, mode, index, storage_options, **kwargs)\u001b[0m\n\u001b[1;32m   2840\u001b[0m kwargs\u001b[38;5;241m.\u001b[39msetdefault(\u001b[38;5;124m\"\u001b[39m\u001b[38;5;124mtablefmt\u001b[39m\u001b[38;5;124m\"\u001b[39m, \u001b[38;5;124m\"\u001b[39m\u001b[38;5;124mpipe\u001b[39m\u001b[38;5;124m\"\u001b[39m)\n\u001b[1;32m   2841\u001b[0m kwargs\u001b[38;5;241m.\u001b[39msetdefault(\u001b[38;5;124m\"\u001b[39m\u001b[38;5;124mshowindex\u001b[39m\u001b[38;5;124m\"\u001b[39m, index)\n\u001b[0;32m-> 2842\u001b[0m tabulate \u001b[38;5;241m=\u001b[39m \u001b[43mimport_optional_dependency\u001b[49m\u001b[43m(\u001b[49m\u001b[38;5;124;43m\"\u001b[39;49m\u001b[38;5;124;43mtabulate\u001b[39;49m\u001b[38;5;124;43m\"\u001b[39;49m\u001b[43m)\u001b[49m\n\u001b[1;32m   2843\u001b[0m result \u001b[38;5;241m=\u001b[39m tabulate\u001b[38;5;241m.\u001b[39mtabulate(\u001b[38;5;28mself\u001b[39m, \u001b[38;5;241m*\u001b[39m\u001b[38;5;241m*\u001b[39mkwargs)\n\u001b[1;32m   2844\u001b[0m \u001b[38;5;28;01mif\u001b[39;00m buf \u001b[38;5;129;01mis\u001b[39;00m \u001b[38;5;28;01mNone\u001b[39;00m:\n",
      "File \u001b[0;32m~/miniconda3/envs/calegari/lib/python3.11/site-packages/pandas/compat/_optional.py:144\u001b[0m, in \u001b[0;36mimport_optional_dependency\u001b[0;34m(name, extra, errors, min_version)\u001b[0m\n\u001b[1;32m    142\u001b[0m \u001b[38;5;28;01mexcept\u001b[39;00m \u001b[38;5;167;01mImportError\u001b[39;00m:\n\u001b[1;32m    143\u001b[0m     \u001b[38;5;28;01mif\u001b[39;00m errors \u001b[38;5;241m==\u001b[39m \u001b[38;5;124m\"\u001b[39m\u001b[38;5;124mraise\u001b[39m\u001b[38;5;124m\"\u001b[39m:\n\u001b[0;32m--> 144\u001b[0m         \u001b[38;5;28;01mraise\u001b[39;00m \u001b[38;5;167;01mImportError\u001b[39;00m(msg)\n\u001b[1;32m    145\u001b[0m     \u001b[38;5;28;01melse\u001b[39;00m:\n\u001b[1;32m    146\u001b[0m         \u001b[38;5;28;01mreturn\u001b[39;00m \u001b[38;5;28;01mNone\u001b[39;00m\n",
      "\u001b[0;31mImportError\u001b[0m: Missing optional dependency 'tabulate'.  Use pip or conda to install tabulate."
     ]
    }
   ],
   "source": [
    "# Copy-paste this to wherever you want the data in Markdown\n",
    "print(Data.to_markdown())"
   ]
  },
  {
   "cell_type": "code",
   "execution_count": 103,
   "metadata": {
    "tags": []
   },
   "outputs": [
    {
     "ename": "SyntaxError",
     "evalue": "invalid syntax (263294990.py, line 1)",
     "output_type": "error",
     "traceback": [
      "\u001b[0;36m  Cell \u001b[0;32mIn[103], line 1\u001b[0;36m\u001b[0m\n\u001b[0;31m    asdfasdf==\u001b[0m\n\u001b[0m              ^\u001b[0m\n\u001b[0;31mSyntaxError\u001b[0m\u001b[0;31m:\u001b[0m invalid syntax\n"
     ]
    }
   ],
   "source": [
    "asdfasdf=="
   ]
  },
  {
   "cell_type": "markdown",
   "metadata": {},
   "source": [
    "----"
   ]
  },
  {
   "cell_type": "markdown",
   "metadata": {},
   "source": [
    "My microct blurb from http://simp.ly/publish/NBhZhH"
   ]
  },
  {
   "cell_type": "code",
   "execution_count": null,
   "metadata": {},
   "outputs": [],
   "source": [
    "print('Based on the %s log files in %s' % (len(Data), Root))"
   ]
  },
  {
   "cell_type": "code",
   "execution_count": null,
   "metadata": {},
   "outputs": [],
   "source": [
    "\" OR \".join(str(value) for value in Data.Scanner.unique())"
   ]
  },
  {
   "cell_type": "code",
   "execution_count": null,
   "metadata": {},
   "outputs": [],
   "source": [
    "print('After $PREPARATION, the',\n",
    "      len(Data),\n",
    "      'samples were imaged on a Bruker',\n",
    "      \" OR \".join(str(value) for value in Data.Scanner.unique()),\n",
    "      'high-resolution microtomography machine (Control software version',\n",
    "      \" OR \".join(str(value) for value in Data.Software.unique()) + \n",
    "      ', Bruker microCT, Kontich, Belgium).')"
   ]
  },
  {
   "cell_type": "code",
   "execution_count": null,
   "metadata": {},
   "outputs": [],
   "source": [
    "print('The machine is equipped with a',\n",
    "      \" OR \".join(str(value) for value in Data.Source.unique()),\n",
    "      'X-ray source and a',\n",
    "      \" OR \".join(str(value) for value in Data.Camera.unique()),\n",
    "      'camera.')"
   ]
  },
  {
   "cell_type": "code",
   "execution_count": null,
   "metadata": {},
   "outputs": [],
   "source": [
    "# if len(Data.Scanner.unique()) > 1:\n",
    "#     print('more')"
   ]
  },
  {
   "cell_type": "code",
   "execution_count": null,
   "metadata": {},
   "outputs": [],
   "source": [
    "print('The X-ray source was set to a tube voltage of', \n",
    "      \" OR \".join(str(value) for value in Data.Voltage.unique()),\n",
    "      'kV and a tube current of',\n",
    "      \" OR \".join(str(value) for value in Data.Current.unique()),\n",
    "      'µA, the x-ray spectrum was', end=' ')\n",
    "if Data.Filter.unique():\n",
    "    print('filtered by', \" OR \".join(str(value) for value in Data.Filter.unique()), end=' ')\n",
    "else:\n",
    "    print('not filtered', end=' ')\n",
    "print('prior to incidence onto the sample.')"
   ]
  },
  {
   "cell_type": "code",
   "execution_count": null,
   "metadata": {},
   "outputs": [],
   "source": [
    "# TODO: Flip the text of the filter to make it nicer"
   ]
  },
  {
   "cell_type": "code",
   "execution_count": null,
   "metadata": {},
   "outputs": [],
   "source": [
    "Data.Wide.unique()"
   ]
  },
  {
   "cell_type": "code",
   "execution_count": null,
   "metadata": {},
   "outputs": [],
   "source": [
    "print('For each sample, we recorded a set of', end=' ')\n",
    "if Data.Filter.unique():   \n",
    "    print(\" or \".join(str(value) for value in Data.Stacks.unique()),\n",
    "          'stacked scans overlapping the sample height, each stack was recorded with', end=' ')\n",
    "print(\" or \".join(str(value) for value in Data.NumProj.unique()), 'projections of', end=' ')\n",
    "for cs in Data.CamSize.unique():\n",
    "    print(cs[0], end=' ')\n",
    "print('x', end=' ')\n",
    "for cs in Data.CamSize.unique():\n",
    "    print(cs[1], end=' ')\n",
    "print('pixels', end=' ')\n",
    "if Data.Wide.unique():\n",
    "    print('(' + \" or \".join(str(value) for value in Data.Wide.unique()), 'projections stitched laterally)', end=' ')\n",
    "print('at every',\n",
    "      str(\" or \".join(str(value) for value in Data.RotationStep.unique())) + '° over a 180° sample rotation.')"
   ]
  },
  {
   "cell_type": "code",
   "execution_count": null,
   "metadata": {},
   "outputs": [],
   "source": [
    "Data.Exposure.mean()"
   ]
  },
  {
   "cell_type": "code",
   "execution_count": null,
   "metadata": {},
   "outputs": [],
   "source": [
    "print('Every single projection was exposed for',\n",
    "      \" or \".join(str(value) for value in Data.Exposure.unique()),\n",
    "      'ms,',\n",
    "      \" or \".join(str(value) for value in Data.Averaging.unique()),\n",
    "      'projections were averaged to one to greatly reduce image noise.')"
   ]
  },
  {
   "cell_type": "code",
   "execution_count": null,
   "metadata": {},
   "outputs": [],
   "source": [
    "log=Data.LogFile[1]"
   ]
  },
  {
   "cell_type": "code",
   "execution_count": null,
   "metadata": {},
   "outputs": [],
   "source": [
    "print('This resulted in a scan time of approximately ', end='')\n",
    "if duration(log)/3600 > 1:\n",
    "    # Scan took hours\n",
    "    print(timeformat(datetime.timedelta(seconds=duration(log)),\n",
    "                     '{hours} hours and {minutes} minutes'), end=' ')\n",
    "else:\n",
    "    print(timeformat(datetime.timedelta(seconds=duration(log)),\n",
    "                     '{minutes} minutes'), end=' ')\n",
    "if not stacks(log) == 1:\n",
    "    print('per stack and about',\n",
    "          timeformat(stacks(log) * datetime.timedelta(seconds=duration(log)),\n",
    "                     '{hours} hours and {minutes} minutes'), end=' ')\n",
    "print('per sample', end='')\n",
    "if stacks(log) == 1:\n",
    "    print('.')\n",
    "else:\n",
    "    print(' (with', stacks(log), 'stacks).')"
   ]
  },
  {
   "cell_type": "code",
   "execution_count": null,
   "metadata": {},
   "outputs": [],
   "source": [
    "print('In total, we scanned', Data.Stacks.sum(), 'stacks.')\n",
    "print('Each stack took approximately',\n",
    "      Data.Duration.mean() // 60,\n",
    "      'minutes (' + str(datetime.timedelta(seconds=Data.Duration.mean())) + ')')\n",
    "print('In total, we thus scanned for about', \n",
    "      timeformat(Data.Stacks.sum() *\n",
    "                 datetime.timedelta(seconds=Data.Duration.mean()),\n",
    "                 '{days} days, {hours} hours and {minutes} minutes.'))\n",
    "print('At the MIC rate, this would have cost',\n",
    "      int(round(Data.Stacks.sum() * Data.Duration.mean() / 60 / 60 * 75)),\n",
    "      'CHF!')"
   ]
  },
  {
   "cell_type": "code",
   "execution_count": null,
   "metadata": {},
   "outputs": [],
   "source": [
    "print('The projection images were then subsequently reconstructed into a 3D stack',\n",
    "      'of images with',\n",
    "      Data.Version.unique()[0][0],\n",
    "      '(Version',\n",
    "      version(log)[1] + ', Bruker microCT, Kontich Belgium)', end=' ')\n",
    "if ringremoval(log):\n",
    "    print('using a ring artifact correction of',\n",
    "          ringremoval(log), end='')\n",
    "if beamhardening(log):\n",
    "    print(' and a beam hardening correction of',\n",
    "          beamhardening(log),\n",
    "          '%.')\n",
    "else:\n",
    "    print('.')\n",
    "print('The whole process resulted in datasets with an isometric voxel size of',\n",
    "      \" or \".join(str(value) for value in Data.Voxelsize_rounded.unique()),\n",
    "      'µm.')    "
   ]
  },
  {
   "cell_type": "code",
   "execution_count": null,
   "metadata": {},
   "outputs": [],
   "source": [
    "# fulllog(log)"
   ]
  },
  {
   "cell_type": "code",
   "execution_count": null,
   "metadata": {},
   "outputs": [],
   "source": [
    "Data.Voxelsize.mean()"
   ]
  },
  {
   "cell_type": "code",
   "execution_count": null,
   "metadata": {},
   "outputs": [],
   "source": [
    "Data.Beamhardening"
   ]
  },
  {
   "cell_type": "code",
   "execution_count": null,
   "metadata": {},
   "outputs": [],
   "source": []
  }
 ],
 "metadata": {
  "kernelspec": {
   "display_name": "Python 3 (ipykernel)",
   "language": "python",
   "name": "python3"
  },
  "language_info": {
   "codemirror_mode": {
    "name": "ipython",
    "version": 3
   },
   "file_extension": ".py",
   "mimetype": "text/x-python",
   "name": "python",
   "nbconvert_exporter": "python",
   "pygments_lexer": "ipython3",
   "version": "3.11.0"
  }
 },
 "nbformat": 4,
 "nbformat_minor": 4
}
