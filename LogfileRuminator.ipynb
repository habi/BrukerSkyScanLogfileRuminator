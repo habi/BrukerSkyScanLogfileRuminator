{
 "cells": [
  {
   "cell_type": "markdown",
   "metadata": {},
   "source": [
    "This notebook generates the paragraph about the microCT-scanning from logfiles of the scans."
   ]
  },
  {
   "cell_type": "code",
   "execution_count": 182,
   "metadata": {
    "tags": []
   },
   "outputs": [],
   "source": [
    "import platform\n",
    "import os\n",
    "import pandas\n",
    "import glob\n",
    "import numpy"
   ]
  },
  {
   "cell_type": "code",
   "execution_count": 183,
   "metadata": {
    "tags": []
   },
   "outputs": [],
   "source": [
    "from parsing_functions import *"
   ]
  },
  {
   "cell_type": "code",
   "execution_count": 184,
   "metadata": {
    "tags": []
   },
   "outputs": [
    {
     "name": "stdout",
     "output_type": "stream",
     "text": [
      "We are loading all the data from the folder /home/habi/P/Documents/Publications/Ruslan Bone/manubot/content/data\n"
     ]
    }
   ],
   "source": [
    "# Different locations if running either on Linux or Windows\n",
    "if 'Linux' in platform.system():\n",
    "    BasePath = os.path.join(os.path.sep, 'home', 'habi', 'P')\n",
    "elif 'Windows' in platform.system():\n",
    "    BasePath = os.path.join('P:', os.sep)\n",
    "# Use *this* folder for the bone microvasculature manuscript\n",
    "Root = os.path.join(BasePath, 'Documents', 'Publications', 'Ruslan Bone', 'manubot', 'content', 'data')\n",
    "print('We are loading all the data from the folder %s' % Root)"
   ]
  },
  {
   "cell_type": "code",
   "execution_count": 185,
   "metadata": {
    "tags": []
   },
   "outputs": [],
   "source": [
    "# Make us a dataframe for saving all that we need\n",
    "Data = pandas.DataFrame()"
   ]
  },
  {
   "cell_type": "code",
   "execution_count": 186,
   "metadata": {
    "tags": []
   },
   "outputs": [],
   "source": [
    "# Get *all* log files\n",
    "# Using os.walk is way faster than using recursive glob.glob, see DataWrangling.ipynb for details\n",
    "# Not sorting the found logfiles is also making it quicker\n",
    "Data['LogFile'] = [os.path.join(root, name)\n",
    "                   for root, dirs, files in os.walk(Root)\n",
    "                   for name in files\n",
    "                   if name.endswith((\".log\"))]"
   ]
  },
  {
   "cell_type": "code",
   "execution_count": 187,
   "metadata": {
    "tags": []
   },
   "outputs": [
    {
     "name": "stdout",
     "output_type": "stream",
     "text": [
      "We found 54 log files in /home/habi/P/Documents/Publications/Ruslan Bone/manubot/content/data\n"
     ]
    }
   ],
   "source": [
    "print('We found %s log files in %s' % (len(Data), Root))"
   ]
  },
  {
   "cell_type": "markdown",
   "metadata": {},
   "source": [
    "Parse the data from all the log files"
   ]
  },
  {
   "cell_type": "code",
   "execution_count": 188,
   "metadata": {},
   "outputs": [],
   "source": [
    "Data['Scanner'] = [scanner(log) for log in Data['LogFile']]\n",
    "Data['ControlSoftware'] = [controlsoftware(log) for log in Data['LogFile']]"
   ]
  },
  {
   "cell_type": "code",
   "execution_count": 189,
   "metadata": {},
   "outputs": [],
   "source": [
    "Data['Voxelsize'] = [pixelsize(log) for log in Data['LogFile']]\n",
    "Data['Voxelsize_rounded'] = [pixelsize(log,rounded=True) for log in Data['LogFile']]"
   ]
  },
  {
   "cell_type": "code",
   "execution_count": 190,
   "metadata": {},
   "outputs": [],
   "source": [
    "Data['Source'] = [source(log) for log in Data['LogFile']]\n",
    "Data['Camera'] = [camera(log) for log in Data['LogFile']]\n",
    "Data['Exposure'] = [exposuretime(log) for log in Data['LogFile']]\n",
    "Data['Averaging'] = [averaging(log) for log in Data['LogFile']]"
   ]
  },
  {
   "cell_type": "code",
   "execution_count": 191,
   "metadata": {},
   "outputs": [],
   "source": [
    "Data['Voltage'] = [voltage(log) for log in Data['LogFile']]\n",
    "Data['Current'] = [current(log) for log in Data['LogFile']]\n",
    "Data['Filter'] = [whichfilter(log) for log in Data['LogFile']]"
   ]
  },
  {
   "cell_type": "code",
   "execution_count": 192,
   "metadata": {},
   "outputs": [],
   "source": [
    "Data['Stacks'] = [stacks(log) for log in Data['LogFile']]\n",
    "Data['NumProj'] = [numproj(log) for log in Data['LogFile']]\n",
    "Data['ProjSize'] = [projection_size(log) for log in Data['LogFile']]\n",
    "Data['ThreeSixty'] = [threesixtyscan(log) for log in Data['LogFile']]\n",
    "Data['RotationStep'] = [rotationstep(log) for log in Data['LogFile']]\n",
    "Data['Wide'] = [overlapscan(log) for log in Data.LogFile]\n",
    "Data['Duration'] = [duration(log) for log in Data['LogFile']]\n",
    "Data['Date'] = [scandate(log) for log in Data['LogFile']]"
   ]
  },
  {
   "cell_type": "code",
   "execution_count": 193,
   "metadata": {},
   "outputs": [],
   "source": [
    "Data['NRecon'] = [nreconversion(log)[1] for log in Data['LogFile']]\n",
    "Data['RingRemoval'] = [ringremoval(log) for log in Data['LogFile']]\n",
    "Data['Beamhardening'] = [beamhardening(log) for log in Data['LogFile']]\n",
    "Data['DefectPixelMasking'] = [defectpixelmasking(log) for log in Data['LogFile']]\n",
    "Data['GrayValue'] = [reconstruction_grayvalue(log) for log in Data['LogFile']]"
   ]
  },
  {
   "cell_type": "code",
   "execution_count": 194,
   "metadata": {},
   "outputs": [],
   "source": [
    "Data['RecSize'] = [reconstruction_size(log) for log in Data['LogFile']]\n",
    "Data['ROI'] = [region_of_interest(log, verbose=False) for log in Data['LogFile']]"
   ]
  },
  {
   "cell_type": "code",
   "execution_count": 195,
   "metadata": {},
   "outputs": [],
   "source": [
    "Data['Duration'] = [duration(log) for log in Data['LogFile']]\n",
    "Data['Date'] = [scandate(log) for log in Data['LogFile']]"
   ]
  },
  {
   "cell_type": "markdown",
   "metadata": {},
   "source": [
    "----"
   ]
  },
  {
   "cell_type": "markdown",
   "metadata": {},
   "source": [
    "Now that we loaded the data, we customize the standard log file parser notebook for the microvasculature manuscript."
   ]
  },
  {
   "cell_type": "code",
   "execution_count": 196,
   "metadata": {},
   "outputs": [],
   "source": [
    "# Extract folder name\n",
    "Data['Folder'] = [os.path.dirname(f) for f in Data['LogFile']]"
   ]
  },
  {
   "cell_type": "code",
   "execution_count": 197,
   "metadata": {},
   "outputs": [],
   "source": [
    "# Generate sample name to then match to figure number\n",
    "# We bluntly split the path at the `os.path.sep` and user the first item of this separated list\n",
    "Data['Sample'] = [(foldername[len(Root)+1:]).split(os.path.sep)[0] for foldername in Data['Folder']]"
   ]
  },
  {
   "cell_type": "code",
   "execution_count": 198,
   "metadata": {},
   "outputs": [],
   "source": [
    "def match_to_figure(samplename):\n",
    "    figurenumber = None\n",
    "    if 'Israel' in samplename:\n",
    "        figurenumber = 1\n",
    "    elif '11O' in samplename:\n",
    "        # Some are named 11OKT, some 11Okt\n",
    "        figurenumber = 2\n",
    "    elif 'c1m5' in samplename:\n",
    "        figurenumber = 3\n",
    "    elif '0_99' in samplename:\n",
    "        figurenumber = 4    \n",
    "    elif 'Vreni' in samplename:\n",
    "        figurenumber = 5\n",
    "    elif '_sample4' in samplename:\n",
    "        figurenumber = 6\n",
    "    elif 'Mouse_1EAR' in samplename:\n",
    "        figurenumber = 7\n",
    "    return(str(figurenumber))"
   ]
  },
  {
   "cell_type": "code",
   "execution_count": 199,
   "metadata": {},
   "outputs": [],
   "source": [
    "# Map sample names to our figures \n",
    "Data['Figure'] = [match_to_figure(s) for s in Data['Sample']]"
   ]
  },
  {
   "cell_type": "code",
   "execution_count": 200,
   "metadata": {},
   "outputs": [],
   "source": [
    "# Sort dataframe by figure number\n",
    "Data.sort_values(by=['Figure', 'Sample'], inplace=True)\n",
    "# Reset dataframe index\n",
    "Data = Data.reset_index(drop=True)"
   ]
  },
  {
   "cell_type": "code",
   "execution_count": 201,
   "metadata": {},
   "outputs": [],
   "source": [
    "# Cull irrelevant beginning of path from logfile\n",
    "Data['LogFile'] = [lf[len(Root)+1:] for lf in Data['LogFile']]"
   ]
  },
  {
   "cell_type": "code",
   "execution_count": 202,
   "metadata": {},
   "outputs": [],
   "source": [
    "# Cull irrelevant beginning of path from logfile\n",
    "Data['Folder'] = [folder.split('data')[1] for folder in Data['Folder']]"
   ]
  },
  {
   "cell_type": "code",
   "execution_count": 203,
   "metadata": {},
   "outputs": [
    {
     "data": {
      "text/html": [
       "<div>\n",
       "<style scoped>\n",
       "    .dataframe tbody tr th:only-of-type {\n",
       "        vertical-align: middle;\n",
       "    }\n",
       "\n",
       "    .dataframe tbody tr th {\n",
       "        vertical-align: top;\n",
       "    }\n",
       "\n",
       "    .dataframe thead th {\n",
       "        text-align: right;\n",
       "    }\n",
       "</style>\n",
       "<table border=\"1\" class=\"dataframe\">\n",
       "  <thead>\n",
       "    <tr style=\"text-align: right;\">\n",
       "      <th></th>\n",
       "      <th>LogFile</th>\n",
       "      <th>Scanner</th>\n",
       "      <th>ControlSoftware</th>\n",
       "      <th>Voxelsize</th>\n",
       "      <th>Voxelsize_rounded</th>\n",
       "      <th>Source</th>\n",
       "      <th>Camera</th>\n",
       "      <th>Exposure</th>\n",
       "      <th>Averaging</th>\n",
       "      <th>Voltage</th>\n",
       "      <th>...</th>\n",
       "      <th>NRecon</th>\n",
       "      <th>RingRemoval</th>\n",
       "      <th>Beamhardening</th>\n",
       "      <th>DefectPixelMasking</th>\n",
       "      <th>GrayValue</th>\n",
       "      <th>RecSize</th>\n",
       "      <th>ROI</th>\n",
       "      <th>Folder</th>\n",
       "      <th>Sample</th>\n",
       "      <th>Figure</th>\n",
       "    </tr>\n",
       "  </thead>\n",
       "  <tbody>\n",
       "    <tr>\n",
       "      <th>37</th>\n",
       "      <td>Vreni_Jaw_Jul19_AL1mm-Cu02mm_100kV_9um_OFFSET_...</td>\n",
       "      <td>SkyScan 1273</td>\n",
       "      <td>1.1</td>\n",
       "      <td>9.000382</td>\n",
       "      <td>9.0</td>\n",
       "      <td>Hamamatsu L9181-02</td>\n",
       "      <td>DEXELA-2315[v1], S/N 32960</td>\n",
       "      <td>225</td>\n",
       "      <td>5</td>\n",
       "      <td>100.0</td>\n",
       "      <td>...</td>\n",
       "      <td>None</td>\n",
       "      <td>NaN</td>\n",
       "      <td>NaN</td>\n",
       "      <td>None</td>\n",
       "      <td>NaN</td>\n",
       "      <td>(None, None)</td>\n",
       "      <td>False</td>\n",
       "      <td>/Vreni_Jaw_Jul19_AL1mm-Cu02mm_100kV_9um_OFFSET...</td>\n",
       "      <td>Vreni_Jaw_Jul19_AL1mm-Cu02mm_100kV_9um_OFFSET_</td>\n",
       "      <td>5</td>\n",
       "    </tr>\n",
       "  </tbody>\n",
       "</table>\n",
       "<p>1 rows × 30 columns</p>\n",
       "</div>"
      ],
      "text/plain": [
       "                                              LogFile       Scanner  \\\n",
       "37  Vreni_Jaw_Jul19_AL1mm-Cu02mm_100kV_9um_OFFSET_...  SkyScan 1273   \n",
       "\n",
       "   ControlSoftware  Voxelsize  Voxelsize_rounded              Source  \\\n",
       "37             1.1   9.000382                9.0  Hamamatsu L9181-02   \n",
       "\n",
       "                        Camera  Exposure  Averaging  Voltage  ...  NRecon  \\\n",
       "37  DEXELA-2315[v1], S/N 32960       225          5    100.0  ...    None   \n",
       "\n",
       "   RingRemoval  Beamhardening  DefectPixelMasking GrayValue       RecSize  \\\n",
       "37         NaN            NaN                None       NaN  (None, None)   \n",
       "\n",
       "      ROI                                             Folder  \\\n",
       "37  False  /Vreni_Jaw_Jul19_AL1mm-Cu02mm_100kV_9um_OFFSET...   \n",
       "\n",
       "                                            Sample Figure  \n",
       "37  Vreni_Jaw_Jul19_AL1mm-Cu02mm_100kV_9um_OFFSET_      5  \n",
       "\n",
       "[1 rows x 30 columns]"
      ]
     },
     "execution_count": 203,
     "metadata": {},
     "output_type": "execute_result"
    }
   ],
   "source": [
    "Data.sample()"
   ]
  },
  {
   "cell_type": "code",
   "execution_count": 204,
   "metadata": {},
   "outputs": [],
   "source": [
    "# Save out relevant columns of the dataframe as csv for adding to the supplementary materials\n",
    "# With renamed column names\n",
    "Data[['Figure', 'Sample', 'Scanner', 'ControlSoftware', 'Date',\n",
    "      'Voxelsize_rounded', 'Source', 'Voltage', 'Current', 'Filter', 'ProjSize', 'ThreeSixty', 'RotationStep',\n",
    "      'Averaging', 'Exposure', 'Stacks', 'Wide', 'Duration',\n",
    "      'NRecon', 'RingRemoval', 'Beamhardening', 'LogFile'\n",
    "     ]].to_csv(os.path.join(Root, 'ScanningDetails.csv'),\n",
    "               index=False,\n",
    "               header=['Figure', 'Sample name', 'Scanner', 'Control software version', 'Scan date',\n",
    "                       'Voxelsize [μm]', 'X-ray source', 'Source voltage [kV]', 'Source current [μA]',\n",
    "                       'Filter', 'Projection size', '360°-scan', 'Rotation step [°]', 'Frame averaging',\n",
    "                       'Exposure time [ms]', 'Stacked scans', 'Overlap scans',\n",
    "                       'Scan duration [s]',\n",
    "                       'NRecon version', 'Ring removal correction', 'Beam hardening correction',\n",
    "                       'Log file'\n",
    "                     ])\n",
    "# This csv file is nicely shown online on GitHub"
   ]
  },
  {
   "cell_type": "code",
   "execution_count": 205,
   "metadata": {},
   "outputs": [],
   "source": [
    "# Save out as .xlsx sheet, too\n",
    "# This Excel sheet is not uploaded to Github, but makes it easy to quickly look at it\n",
    "Data[['Figure', 'Sample', 'Scanner', 'ControlSoftware', 'Date',\n",
    "      'Voxelsize_rounded', 'Source', 'Voltage', 'Current', 'Filter', 'ProjSize', 'ThreeSixty', 'RotationStep',\n",
    "      'Averaging', 'Exposure', 'Stacks', 'Wide', 'Duration',\n",
    "      'NRecon', 'RingRemoval', 'Beamhardening', 'LogFile'\n",
    "     ]].to_excel(os.path.join(Root, 'ScanningDetails.xlsx'),\n",
    "               index=False,\n",
    "               header=['Figure', 'Sample name', 'Scanner', 'Control software version', 'Scan date',\n",
    "                       'Voxelsize [μm]', 'X-ray source', 'Source voltage [kV]', 'Source current [μA]',\n",
    "                       'Filter', 'Projection size', '360°-scan', 'Rotation step [°]', 'Frame averaging',\n",
    "                       'Exposure time [ms]', 'Stacked scans', 'Overlap scans',\n",
    "                       'Scan duration [s]',\n",
    "                       'NRecon version', 'Ring removal correction', 'Beam hardening correction',\n",
    "                       'Log file'\n",
    "                     ])"
   ]
  },
  {
   "cell_type": "markdown",
   "metadata": {},
   "source": [
    "----\n",
    "Now that we loaded all the relevant data from the log files, we can produce some text.\n",
    "Copy-paste this text into the manuscript and edit accordingly."
   ]
  },
  {
   "cell_type": "code",
   "execution_count": 210,
   "metadata": {},
   "outputs": [
    {
     "data": {
      "text/plain": [
       "array(['/Mouse_Israel_C2_2.98um_LeftLeg/proj',\n",
       "       '/EDTA3_Tage_11OKT17_Al025um_3_18um/proj',\n",
       "       '/Maus_Hinterbein1_thirdScan_EDTA3plus4Tage_11Okt2017_Al025um_3_18um/proj',\n",
       "       '/Maus_Hinterbein_11OKT17_Al025um_3_18um/proj',\n",
       "       '/c1m5_1_65um_al025/proj', '/c1m5_1_65um_al025/rec',\n",
       "       '/Mouse_kiefer_0_99um_VOI/VOI_01',\n",
       "       '/Mouse_kiefer_0_99um_VOI/VOI_02',\n",
       "       '/Vreni_Jaw_Jul19_AL1mm-Cu02mm_100kV_9um_OFFSET_/proj',\n",
       "       '/Vreni_Jaw_Jul19_AL1mm-Cu02mm_100kV_9um_OFFSET_/proj/Rec 03NOV2020',\n",
       "       '/Vreni_Jaw_Jul20_AL1mm-Cu02mm_100kV_21um/proj',\n",
       "       '/Vreni_Jaw_Jul20_AL1mm-Cu02mm_100kV_21um/rec',\n",
       "       '/Ruslan_sample4_2214/proj', '/Ruslan_sample4_2214/rec',\n",
       "       '/Mouse_1EAR_05SEP2023_molars_1_4um_50kV_CCD_nof/proj',\n",
       "       '/Mouse_1EAR_05SEP2023_molars_1_4um_90kV_CCD_Al05/proj'],\n",
       "      dtype=object)"
      ]
     },
     "execution_count": 210,
     "metadata": {},
     "output_type": "execute_result"
    }
   ],
   "source": [
    "Data.Folder.unique()"
   ]
  },
  {
   "cell_type": "code",
   "execution_count": 217,
   "metadata": {},
   "outputs": [
    {
     "name": "stdout",
     "output_type": "stream",
     "text": [
      "vvvvvvvvvvvvvvvvvvvvvvvvvvvvvvvvvvvvvvvv 1 vvvvvvvvvvvvvvvvvvvvvvvvvvvvvvvvvvvvvvvv\n",
      "The 3 scans for Figure 1 were performed on a ['SkyScan 1172 (Version F)']: with control software version ['1.5 (build 26)'].\n",
      "The scans are:\n",
      "- /Mouse_Israel_C2_2.98um_LeftLeg/proj\n",
      "- /Mouse_Israel_C2_2.98um_LeftLeg/proj\n",
      "- /Mouse_Israel_C2_2.98um_LeftLeg/proj\n",
      "The X-ray source was set to a tube voltage of 49.0 kV and a tube current of 200.0 µA.\n",
      "For each scan, we acquired [7202] projections. Projection images were recorded over a sample rotation of 360°, with one projection acquired at every [0.05]° and [3] projections being averaged for noise reduction.\n",
      "Each projection image with a size of [(4000, 2672)] pixels was exposed for [985] ms.\n",
      "This resulted in datasets with an isometric voxel size of [2.99] μm.\n",
      "^^^^^^^^^^^^^^^^^^^^^^^^^^^^^^^^^^^^^^^^ 1 ^^^^^^^^^^^^^^^^^^^^^^^^^^^^^^^^^^^^^^^^\n",
      "vvvvvvvvvvvvvvvvvvvvvvvvvvvvvvvvvvvvvvvv 2 vvvvvvvvvvvvvvvvvvvvvvvvvvvvvvvvvvvvvvvv\n",
      "The 17 scans for Figure 2 were performed on a ['SkyScan 1172 (Version F)']: with control software version ['1.5 (build 23)'].\n",
      "The scans are:\n",
      "- /EDTA3_Tage_11OKT17_Al025um_3_18um/proj\n",
      "- /EDTA3_Tage_11OKT17_Al025um_3_18um/proj\n",
      "- /EDTA3_Tage_11OKT17_Al025um_3_18um/proj\n",
      "- /EDTA3_Tage_11OKT17_Al025um_3_18um/proj\n",
      "- /EDTA3_Tage_11OKT17_Al025um_3_18um/proj\n",
      "- /Maus_Hinterbein1_thirdScan_EDTA3plus4Tage_11Okt2017_Al025um_3_18um/proj\n",
      "- /Maus_Hinterbein1_thirdScan_EDTA3plus4Tage_11Okt2017_Al025um_3_18um/proj\n",
      "- /Maus_Hinterbein1_thirdScan_EDTA3plus4Tage_11Okt2017_Al025um_3_18um/proj\n",
      "- /Maus_Hinterbein1_thirdScan_EDTA3plus4Tage_11Okt2017_Al025um_3_18um/proj\n",
      "- /Maus_Hinterbein1_thirdScan_EDTA3plus4Tage_11Okt2017_Al025um_3_18um/proj\n",
      "- /Maus_Hinterbein1_thirdScan_EDTA3plus4Tage_11Okt2017_Al025um_3_18um/proj\n",
      "- /Maus_Hinterbein1_thirdScan_EDTA3plus4Tage_11Okt2017_Al025um_3_18um/proj\n",
      "- /Maus_Hinterbein_11OKT17_Al025um_3_18um/proj\n",
      "- /Maus_Hinterbein_11OKT17_Al025um_3_18um/proj\n",
      "- /Maus_Hinterbein_11OKT17_Al025um_3_18um/proj\n",
      "- /Maus_Hinterbein_11OKT17_Al025um_3_18um/proj\n",
      "- /Maus_Hinterbein_11OKT17_Al025um_3_18um/proj\n",
      "The X-ray source was set to a tube voltage of 59.0 kV and a tube current of 167.0 µA, the x-ray spectrum was filtered by Al0.25mm prior to incidence onto the sample.\n",
      "For each scan, we acquired [1991] projections. Projection images were recorded over a sample rotation of 180°, with one projection acquired at every [0.1]° and [2] projections being averaged for noise reduction.\n",
      "Each projection image with a size of [(4000, 2672)] pixels was exposed for [1740] ms.\n",
      "This resulted in datasets with an isometric voxel size of [3.19] μm.\n",
      "^^^^^^^^^^^^^^^^^^^^^^^^^^^^^^^^^^^^^^^^ 2 ^^^^^^^^^^^^^^^^^^^^^^^^^^^^^^^^^^^^^^^^\n",
      "vvvvvvvvvvvvvvvvvvvvvvvvvvvvvvvvvvvvvvvv 3 vvvvvvvvvvvvvvvvvvvvvvvvvvvvvvvvvvvvvvvv\n",
      "The 7 scans for Figure 3 were performed on a ['SkyScan 1272']: with control software version ['1.1.19'].\n",
      "The scans are:\n",
      "- /c1m5_1_65um_al025/proj\n",
      "- /c1m5_1_65um_al025/proj\n",
      "- /c1m5_1_65um_al025/proj\n",
      "- /c1m5_1_65um_al025/proj\n",
      "- /c1m5_1_65um_al025/proj\n",
      "- /c1m5_1_65um_al025/proj\n",
      "- /c1m5_1_65um_al025/rec\n",
      "The X-ray source was set to a tube voltage of 60.0 kV and a tube current of 166.0 µA, the x-ray spectrum was filtered by Al 0.25mm prior to incidence onto the sample.\n",
      "For each scan, we acquired [1878] projections. Projection images were recorded over a sample rotation of 180°, with one projection acquired at every [0.1]° and [3] projections being averaged for noise reduction.\n",
      "Each projection image with a size of [(4904, 3280)] pixels was exposed for [2800] ms.\n",
      "This resulted in datasets with an isometric voxel size of [1.650005] μm.\n",
      "^^^^^^^^^^^^^^^^^^^^^^^^^^^^^^^^^^^^^^^^ 3 ^^^^^^^^^^^^^^^^^^^^^^^^^^^^^^^^^^^^^^^^\n",
      "vvvvvvvvvvvvvvvvvvvvvvvvvvvvvvvvvvvvvvvv 4 vvvvvvvvvvvvvvvvvvvvvvvvvvvvvvvvvvvvvvvv\n",
      "The 2 scans for Figure 4 were performed on a ['SkyScan 1172 (Version F)']: with control software version ['1.5 (build 23)'].\n",
      "The scans are:\n",
      "- /Mouse_kiefer_0_99um_VOI/VOI_01\n",
      "- /Mouse_kiefer_0_99um_VOI/VOI_02\n",
      "The X-ray source was set to a tube voltage of 80.0 kV and a tube current of 124.0 µA, the x-ray spectrum was filtered by Al 0.5 mm prior to incidence onto the sample.\n",
      "For each scan, we acquired [3602] projections. Projection images were recorded over a sample rotation of 360°, with one projection acquired at every [0.1]° and [4] projections being averaged for noise reduction.\n",
      "Each projection image with a size of [(4000, 2672)] pixels was exposed for [6260] ms.\n",
      "This resulted in datasets with an isometric voxel size of [1.] μm.\n",
      "^^^^^^^^^^^^^^^^^^^^^^^^^^^^^^^^^^^^^^^^ 4 ^^^^^^^^^^^^^^^^^^^^^^^^^^^^^^^^^^^^^^^^\n",
      "vvvvvvvvvvvvvvvvvvvvvvvvvvvvvvvvvvvvvvvv 5 vvvvvvvvvvvvvvvvvvvvvvvvvvvvvvvvvvvvvvvv\n",
      "The 18 scans for Figure 5 were performed on a ['SkyScan 1273']: with control software version ['1.1'].\n",
      "The scans are:\n",
      "- /Vreni_Jaw_Jul19_AL1mm-Cu02mm_100kV_9um_OFFSET_/proj\n",
      "- /Vreni_Jaw_Jul19_AL1mm-Cu02mm_100kV_9um_OFFSET_/proj\n",
      "- /Vreni_Jaw_Jul19_AL1mm-Cu02mm_100kV_9um_OFFSET_/proj\n",
      "- /Vreni_Jaw_Jul19_AL1mm-Cu02mm_100kV_9um_OFFSET_/proj\n",
      "- /Vreni_Jaw_Jul19_AL1mm-Cu02mm_100kV_9um_OFFSET_/proj\n",
      "- /Vreni_Jaw_Jul19_AL1mm-Cu02mm_100kV_9um_OFFSET_/proj\n",
      "- /Vreni_Jaw_Jul19_AL1mm-Cu02mm_100kV_9um_OFFSET_/proj\n",
      "- /Vreni_Jaw_Jul19_AL1mm-Cu02mm_100kV_9um_OFFSET_/proj\n",
      "- /Vreni_Jaw_Jul19_AL1mm-Cu02mm_100kV_9um_OFFSET_/proj\n",
      "- /Vreni_Jaw_Jul19_AL1mm-Cu02mm_100kV_9um_OFFSET_/proj\n",
      "- /Vreni_Jaw_Jul19_AL1mm-Cu02mm_100kV_9um_OFFSET_/proj/Rec 03NOV2020\n",
      "- /Vreni_Jaw_Jul20_AL1mm-Cu02mm_100kV_21um/proj\n",
      "- /Vreni_Jaw_Jul20_AL1mm-Cu02mm_100kV_21um/proj\n",
      "- /Vreni_Jaw_Jul20_AL1mm-Cu02mm_100kV_21um/proj\n",
      "- /Vreni_Jaw_Jul20_AL1mm-Cu02mm_100kV_21um/proj\n",
      "- /Vreni_Jaw_Jul20_AL1mm-Cu02mm_100kV_21um/proj\n",
      "- /Vreni_Jaw_Jul20_AL1mm-Cu02mm_100kV_21um/proj\n",
      "- /Vreni_Jaw_Jul20_AL1mm-Cu02mm_100kV_21um/rec\n",
      "The X-ray source was set to a tube voltage of 100.0 kV and a tube current of 80.0 µA, the x-ray spectrum was filtered by Al1mm+Cu0.2mm prior to incidence onto the sample.\n",
      "For each scan, we acquired [2401 3601] projections. Projection images were recorded over a sample rotation of 360°, with one projection acquired at every [0.15 0.1 ]° and [5] projections being averaged for noise reduction.\n",
      "[2 False] projections were stitched to cover the full extent of the sample\n",
      "Each projection image with a size of [(4832, 1944) (3072, 1944)] pixels was exposed for [225] ms.\n",
      "This resulted in datasets with an isometric voxel size of [ 9.000382 21.000194] μm.\n",
      "^^^^^^^^^^^^^^^^^^^^^^^^^^^^^^^^^^^^^^^^ 5 ^^^^^^^^^^^^^^^^^^^^^^^^^^^^^^^^^^^^^^^^\n",
      "vvvvvvvvvvvvvvvvvvvvvvvvvvvvvvvvvvvvvvvv 6 vvvvvvvvvvvvvvvvvvvvvvvvvvvvvvvvvvvvvvvv\n",
      "The 5 scans for Figure 6 were performed on a ['SkyScan 2214']: with control software version ['1.0.0'].\n",
      "The scans are:\n",
      "- /Ruslan_sample4_2214/proj\n",
      "- /Ruslan_sample4_2214/proj\n",
      "- /Ruslan_sample4_2214/proj\n",
      "- /Ruslan_sample4_2214/proj\n",
      "- /Ruslan_sample4_2214/rec\n",
      "The X-ray source was set to a tube voltage of 100.0 kV and a tube current of 100.0 µA, the x-ray spectrum was filtered by Cu 1mm prior to incidence onto the sample.\n",
      "For each scan, we acquired [2001] projections. Projection images were recorded over a sample rotation of 360°, with one projection acquired at every [0.18]° and [4] projections being averaged for noise reduction.\n",
      "Each projection image with a size of [(2929, 1944)] pixels was exposed for [1080] ms.\n",
      "This resulted in datasets with an isometric voxel size of [8.000292] μm.\n",
      "^^^^^^^^^^^^^^^^^^^^^^^^^^^^^^^^^^^^^^^^ 6 ^^^^^^^^^^^^^^^^^^^^^^^^^^^^^^^^^^^^^^^^\n",
      "vvvvvvvvvvvvvvvvvvvvvvvvvvvvvvvvvvvvvvvv 7 vvvvvvvvvvvvvvvvvvvvvvvvvvvvvvvvvvvvvvvv\n",
      "The 2 scans for Figure 7 were performed on a ['SkyScan 2214']: with control software version ['1.8'].\n",
      "The scans are:\n",
      "- /Mouse_1EAR_05SEP2023_molars_1_4um_50kV_CCD_nof/proj\n",
      "- /Mouse_1EAR_05SEP2023_molars_1_4um_90kV_CCD_Al05/proj\n",
      "The X-ray source was set to a tube voltage of 50.0 OR 90.0 kV and a tube current of 120.0 OR 100.0 µA.\n",
      "For each scan, we acquired [3601] projections. Projection images were recorded over a sample rotation of 360°, with one projection acquired at every [0.1]° and [7] projections being averaged for noise reduction.\n",
      "Each projection image with a size of [(4032, 2688)] pixels was exposed for 6025 ms (on average).\n",
      "This resulted in datasets with an isometric voxel size of [1.40007] μm.\n",
      "^^^^^^^^^^^^^^^^^^^^^^^^^^^^^^^^^^^^^^^^ 7 ^^^^^^^^^^^^^^^^^^^^^^^^^^^^^^^^^^^^^^^^\n"
     ]
    }
   ],
   "source": [
    "# Print relevant data for each figure\n",
    "for figure in Data.Figure.unique():\n",
    "    print(40*'v', figure, 40*'v')\n",
    "    print('The %s scans for Figure %s' % (len(Data[Data.Figure == figure]), figure), end=' ')\n",
    "    print('were performed on a %s:' % Data[Data.Figure == figure].Scanner.unique(), end=' ')\n",
    "    print('with control software version %s.' % Data[Data.Figure == figure].ControlSoftware.unique())\n",
    "    print('The scans are:')\n",
    "    for folder in Data[Data.Figure == figure].Folder:\n",
    "        print('- %s' % folder)\n",
    "    print('The X-ray source was set to a tube voltage of',\n",
    "          \" OR \".join(str(value) for value in Data[Data.Figure == figure].Voltage.unique()),\n",
    "          'kV and a tube current of',\n",
    "          \" OR \".join(str(value) for value in Data[Data.Figure == figure].Current.unique()),\n",
    "          'µA', end='')\n",
    "    if Data[Data.Figure == figure].Filter.unique()[0]:  \n",
    "        print(', the x-ray spectrum was filtered by',\n",
    "              \" OR \".join(str(value) for value in Data[Data.Figure == figure].Filter.unique()),\n",
    "              'prior to incidence onto the sample.')\n",
    "    else:\n",
    "        print('.')\n",
    "    print('For each scan, we acquired %s projections.' % Data[Data.Figure == figure].NumProj.unique(), end=' ')\n",
    "    print('Projection images were recorded over a sample rotation of', end=' ')\n",
    "    if Data[Data.Figure == figure].ThreeSixty.unique():\n",
    "        print('360°', end=', ')\n",
    "    else:\n",
    "        print('180°', end=', ')\n",
    "    print('with one projection acquired at every %s° and' % Data[Data.Figure == figure].RotationStep.unique(), end=' ')\n",
    "    print('%s projections being averaged for noise reduction.' % Data[Data.Figure == figure].Averaging.unique())\n",
    "    if len(Data[Data.Figure == figure].Wide.unique()) > 1:\n",
    "        print('%s projections were stitched to cover the full extent of the sample' % Data[Data.Figure == figure].Wide.unique())\n",
    "    else:\n",
    "        if Data[Data.Figure == figure].Wide.unique():\n",
    "            print(Data[Data.Figure == figure].Wide.unique())\n",
    "    print('Each projection image with a size of %s pixels' % Data[Data.Figure == figure].ProjSize.unique(), end= ' ')\n",
    "    if len(Data[Data.Figure == figure].Exposure.unique()) > 1:\n",
    "        print('was exposed for %s ms (on average).' % (round(numpy.mean(Data[Data.Figure == figure].Exposure.unique()))))\n",
    "    else:\n",
    "        print('was exposed for %s ms.' % Data[Data.Figure == figure].Exposure.unique())\n",
    "    print('This resulted in datasets with an isometric voxel size of %s μm.' % Data[Data.Figure == figure].Voxelsize.unique())\n",
    "    print(40*'^', figure, 40*'^')"
   ]
  }
 ],
 "metadata": {
  "kernelspec": {
   "display_name": "Python 3 (ipykernel)",
   "language": "python",
   "name": "python3"
  },
  "language_info": {
   "codemirror_mode": {
    "name": "ipython",
    "version": 3
   },
   "file_extension": ".py",
   "mimetype": "text/x-python",
   "name": "python",
   "nbconvert_exporter": "python",
   "pygments_lexer": "ipython3",
   "version": "3.13.0"
  }
 },
 "nbformat": 4,
 "nbformat_minor": 4
}
