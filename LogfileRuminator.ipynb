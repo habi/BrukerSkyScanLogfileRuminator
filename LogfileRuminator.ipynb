{
 "cells": [
  {
   "cell_type": "markdown",
   "metadata": {},
   "source": [
    "This notebook generates the paragraph about the microCT-scanning from logfiles of the scans."
   ]
  },
  {
   "cell_type": "code",
   "execution_count": 2,
   "metadata": {
    "tags": []
   },
   "outputs": [],
   "source": [
    "import platform\n",
    "import os\n",
    "import pandas\n",
    "import glob"
   ]
  },
  {
   "cell_type": "code",
   "execution_count": 3,
   "metadata": {
    "tags": []
   },
   "outputs": [],
   "source": [
    "from parsing_functions import *"
   ]
  },
  {
   "cell_type": "code",
   "execution_count": 4,
   "metadata": {
    "tags": []
   },
   "outputs": [
    {
     "name": "stdout",
     "output_type": "stream",
     "text": [
      "We are loading all the data from the folder logfiles\n"
     ]
    }
   ],
   "source": [
    "# Different locations if running either on Linux or Windows\n",
    "if 'Linux' in platform.system():\n",
    "    BasePath = os.path.join(os.path.sep, 'home', 'habi', 'research-storage-uct', 'Archiv_Tape')\n",
    "elif 'Windows' in platform.system():\n",
    "    BasePath = os.path.join('R:', os.sep)\n",
    "Root = os.path.join(BasePath, os.sep, 'SomeFolder')\n",
    "Root = 'logfiles'\n",
    "print('We are loading all the data from the folder %s' % Root)"
   ]
  },
  {
   "cell_type": "code",
   "execution_count": 5,
   "metadata": {
    "tags": []
   },
   "outputs": [],
   "source": [
    "# Make us a dataframe for saving all that we need\n",
    "Data = pandas.DataFrame()"
   ]
  },
  {
   "cell_type": "code",
   "execution_count": 6,
   "metadata": {
    "tags": []
   },
   "outputs": [],
   "source": [
    "# Get *all* log files\n",
    "# Using os.walk is way faster than using recursive glob.glob, see DataWrangling.ipynb for details\n",
    "# Not sorting the found logfiles is also making it quicker\n",
    "Data['LogFile'] = [os.path.join(root, name)\n",
    "                   for root, dirs, files in os.walk(Root)\n",
    "                   for name in files\n",
    "                   if name.endswith((\".log\"))]"
   ]
  },
  {
   "cell_type": "code",
   "execution_count": 7,
   "metadata": {
    "tags": []
   },
   "outputs": [
    {
     "data": {
      "text/html": [
       "<div>\n",
       "<style scoped>\n",
       "    .dataframe tbody tr th:only-of-type {\n",
       "        vertical-align: middle;\n",
       "    }\n",
       "\n",
       "    .dataframe tbody tr th {\n",
       "        vertical-align: top;\n",
       "    }\n",
       "\n",
       "    .dataframe thead th {\n",
       "        text-align: right;\n",
       "    }\n",
       "</style>\n",
       "<table border=\"1\" class=\"dataframe\">\n",
       "  <thead>\n",
       "    <tr style=\"text-align: right;\">\n",
       "      <th></th>\n",
       "      <th>LogFile</th>\n",
       "    </tr>\n",
       "  </thead>\n",
       "  <tbody>\n",
       "    <tr>\n",
       "      <th>64</th>\n",
       "      <td>logfiles/tooth-battalion/71/proj/Tooth071~03.log</td>\n",
       "    </tr>\n",
       "    <tr>\n",
       "      <th>88</th>\n",
       "      <td>logfiles/zebrafish-gills/Swimmer10/proj/Swimme...</td>\n",
       "    </tr>\n",
       "    <tr>\n",
       "      <th>17</th>\n",
       "      <td>logfiles/tooth-battalion/101/rec/Tooth101_rec.log</td>\n",
       "    </tr>\n",
       "    <tr>\n",
       "      <th>1</th>\n",
       "      <td>logfiles/cichlids/104016/head/proj/104016~00.log</td>\n",
       "    </tr>\n",
       "    <tr>\n",
       "      <th>70</th>\n",
       "      <td>logfiles/tooth-battalion/81/proj/Tooth081~02.log</td>\n",
       "    </tr>\n",
       "  </tbody>\n",
       "</table>\n",
       "</div>"
      ],
      "text/plain": [
       "                                              LogFile\n",
       "64   logfiles/tooth-battalion/71/proj/Tooth071~03.log\n",
       "88  logfiles/zebrafish-gills/Swimmer10/proj/Swimme...\n",
       "17  logfiles/tooth-battalion/101/rec/Tooth101_rec.log\n",
       "1    logfiles/cichlids/104016/head/proj/104016~00.log\n",
       "70   logfiles/tooth-battalion/81/proj/Tooth081~02.log"
      ]
     },
     "execution_count": 7,
     "metadata": {},
     "output_type": "execute_result"
    }
   ],
   "source": [
    "# See what we get\n",
    "Data.sample(n=5)"
   ]
  },
  {
   "cell_type": "code",
   "execution_count": 8,
   "metadata": {
    "tags": []
   },
   "outputs": [],
   "source": [
    "log=Data.LogFile[0]"
   ]
  },
  {
   "cell_type": "code",
   "execution_count": 9,
   "metadata": {
    "tags": []
   },
   "outputs": [
    {
     "name": "stdout",
     "output_type": "stream",
     "text": [
      "[System]\n",
      "Scanner=SkyScan2214\n",
      "Instrument S/N=20C18017\n",
      "Software Version=1.8\n",
      "Home Directory=C:\\SkyScan2214\\SkyScan2214 User Software\n",
      "Source Type=Hamamatsu L10711\n",
      "Camera Type=FlatPanel: 2...50um, 140mm max.FOV\n",
      "Camera Pixel Size (um)=74.800\n",
      "Camera X/Y Ratio=1.0030\n",
      "[User]\n",
      "User Name=Skyscan4\n",
      "Computer Name=ANAMIC05\n",
      "[Acquisition]\n",
      "Data Directory=D:\\Results\\EAWAG\\104016\\head\\proj\n",
      "Filename Prefix=104016~00\n",
      "Number Of Files= 1104\n",
      "Number Of Rows=  972\n",
      "Number Of Columns= 1536\n",
      "Filename Index Length=8\n",
      "Partial Width=OFF\n",
      "Image crop origin X=0\n",
      "Image crop origin Y=0\n",
      "Camera binning=2x2\n",
      "Image Rotation=0.19000\n",
      "Optical Axis (line)=  501\n",
      "Object to Source (mm)=27.251\n",
      "Camera to Source (mm)=313.563\n",
      "Source Voltage (kV)=  70\n",
      "Source Current (uA)= 137\n",
      "Source Target Power (W)=6.93\n",
      "Image Pixel Size (um)=13.001449\n",
      "Scaled Image Pixel Size (um)=13.001449\n",
      "Image Format=TIFF\n",
      "Depth (bits)=16\n",
      "Reference Intensity=58000\n",
      "Exposure (ms)=740\n",
      "Rotation Step (deg)=0.200\n",
      "Use 360 Rotation=NO\n",
      "High Aspect Ratio=NO\n",
      "Scanning position=16.577 mm\n",
      "Frame Averaging=OFF (2)\n",
      "Flat Field Correction=ON\n",
      "FF updating interval=158\n",
      "Random Movement=OFF (20)\n",
      "Filter=No Filter\n",
      "Gantry direction=CW\n",
      "Rotation Direction=CW\n",
      "Intrinsic CS rotation in degree=0.0\n",
      "Type of Detector Motion=STEP AND SHOOT\n",
      "Scanning Trajectory=ROUND\n",
      "Number of connected scans=3\n",
      "Current scan number=1\n",
      "Number of lines to be reconstructed=690\n",
      "Source Filament Type=W\n",
      "Source spot size=Large\n",
      "Suggested HU - Calibration=180000\n",
      "Number Of Horizontal Offset Positions=1\n",
      "Study Date and Time=27 Jan 2022  13h:32m:59s\n",
      "Estimated Scan duration=2h:43m:3s\n",
      "Scan duration=0h:39m:19s\n",
      "Maximum vertical TS=5.0\n",
      "[Reconstruction]\n",
      "Reconstruction Program=NRecon\n",
      "Program Version=Version: 2.1.0.1\n",
      "Program Home Directory=C:\\SkyScan2214\\SkyScan2214 User Software\n",
      "Reconstruction engine=GPUReconServer\n",
      "Engine version=Version: 2.1.0\n",
      "Reconstruction from batch=Yes\n",
      "Postalignment Applied=1\n",
      "Reconstructed using oversize-option=No\n",
      "Connected Reconstruction (parts)=3\n",
      "Oversize-option Bitmap=9\n",
      "Sub-scan post alignment [0]=13.000000\n",
      "Sub-scan post alignment [1]=8.000000\n",
      "Sub-scan post alignment [2]=2.500000\n",
      "Sub-scan scan length [0]=687\n",
      "Sub-scan scan length [1]=688\n",
      "Sub-scan scan length [2]=690\n",
      "Reconstruction servers= ANAMIC05\n",
      "Dataset Origin=SkyScan2214\n",
      "Dataset Prefix=104016~02\n",
      "Dataset Directory=D:\\Results\\EAWAG\\104016\\head\\proj\n",
      "Output Directory=D:\\Results\\EAWAG\\104016\\head\\rec\n",
      "Time and Date=27 Jan 2022  16h:44m:54s\n",
      "First Section=301\n",
      "Last Section=2189\n",
      "Reconstruction duration per slice (seconds)=0.060484\n",
      "Total reconstruction time (1984 slices) in seconds=120.000000\n",
      "Heel Effect Correction On=0\n",
      "Section to Section Step=1\n",
      "Sections Count=1889\n",
      "Result File Type=PNG\n",
      "Result File Header Length (bytes)=Unknown: compressed JPG format (100%)\n",
      "Result Image Width (pixels)=1488\n",
      "Result Image Height (pixels)=864\n",
      "Pixel Size (um)=13.00145\n",
      "Reconstruction Angular Range (deg)=220.80\n",
      "Use 180+=OFF\n",
      "Angular Step (deg)=0.2000\n",
      "Smoothing=0\n",
      "Ring Artifact Correction=0\n",
      "Draw Scales=OFF\n",
      "Object Bigger than FOV=OFF\n",
      "Reconstruction from ROI=ON\n",
      "ROI Top (pixels)=1187\n",
      "ROI Bottom (pixels)=322\n",
      "ROI Left (pixels)=23\n",
      "ROI Right (pixels)=1514\n",
      "ROI reference length=1536\n",
      "Filter cutoff relative to Nyquist frequency=100\n",
      "Filter type=0\n",
      "Filter type description=Hamming (Alpha=0.54)\n",
      "Undersampling factor=1\n",
      "Threshold for defect pixel mask (%)=0\n",
      "Beam Hardening Correction (%)=0\n",
      "CS Static Rotation (deg)=238.77\n",
      "CS Static Rotation Total(deg)=238.77\n",
      "Minimum for CS to Image Conversion=0.000000\n",
      "Maximum for CS to Image Conversion=0.165210\n",
      "HU Calibration=OFF\n",
      "BMP LUT=0\n",
      "Cone-beam Angle Horiz.(deg)=40.246952\n",
      "Cone-beam Angle Vert.(deg)=26.109026\n"
     ]
    },
    {
     "data": {
      "text/plain": [
       "()"
      ]
     },
     "execution_count": 9,
     "metadata": {},
     "output_type": "execute_result"
    }
   ],
   "source": [
    "fulllog(log)"
   ]
  },
  {
   "cell_type": "code",
   "execution_count": 10,
   "metadata": {
    "tags": []
   },
   "outputs": [
    {
     "name": "stdout",
     "output_type": "stream",
     "text": [
      "Scanner=SkyScan2214\n",
      "\n"
     ]
    },
    {
     "data": {
      "text/plain": [
       "'SkyScan 2214'"
      ]
     },
     "execution_count": 10,
     "metadata": {},
     "output_type": "execute_result"
    }
   ],
   "source": [
    "scanner(log, verbose=True)"
   ]
  },
  {
   "cell_type": "code",
   "execution_count": 11,
   "metadata": {
    "tags": []
   },
   "outputs": [
    {
     "name": "stdout",
     "output_type": "stream",
     "text": [
      "Software Version=1.8\n",
      "\n"
     ]
    },
    {
     "data": {
      "text/plain": [
       "'1.8'"
      ]
     },
     "execution_count": 11,
     "metadata": {},
     "output_type": "execute_result"
    }
   ],
   "source": [
    "controlsoftware(log, verbose=True)"
   ]
  },
  {
   "cell_type": "code",
   "execution_count": 12,
   "metadata": {
    "tags": []
   },
   "outputs": [
    {
     "name": "stdout",
     "output_type": "stream",
     "text": [
      "Source Type=Hamamatsu L10711\n",
      "\n"
     ]
    },
    {
     "data": {
      "text/plain": [
       "'Hamamatsu L10711'"
      ]
     },
     "execution_count": 12,
     "metadata": {},
     "output_type": "execute_result"
    }
   ],
   "source": [
    "source(log, verbose=True)"
   ]
  },
  {
   "cell_type": "code",
   "execution_count": 13,
   "metadata": {
    "tags": []
   },
   "outputs": [
    {
     "name": "stdout",
     "output_type": "stream",
     "text": [
      "Camera Type=FlatPanel: 2...50um, 140mm max.FOV\n",
      "\n"
     ]
    },
    {
     "data": {
      "text/plain": [
       "'FlatPanel: 2...50um, 140mm max.FOV'"
      ]
     },
     "execution_count": 13,
     "metadata": {},
     "output_type": "execute_result"
    }
   ],
   "source": [
    "camera(log, verbose=True)"
   ]
  },
  {
   "cell_type": "code",
   "execution_count": 14,
   "metadata": {
    "tags": []
   },
   "outputs": [
    {
     "name": "stdout",
     "output_type": "stream",
     "text": [
      "Source Voltage (kV)=  70\n",
      "\n"
     ]
    },
    {
     "data": {
      "text/plain": [
       "70.0"
      ]
     },
     "execution_count": 14,
     "metadata": {},
     "output_type": "execute_result"
    }
   ],
   "source": [
    "voltage(log, verbose=True)"
   ]
  },
  {
   "cell_type": "code",
   "execution_count": 15,
   "metadata": {
    "tags": []
   },
   "outputs": [
    {
     "name": "stdout",
     "output_type": "stream",
     "text": [
      "Source Current (uA)= 137\n",
      "\n"
     ]
    },
    {
     "data": {
      "text/plain": [
       "137.0"
      ]
     },
     "execution_count": 15,
     "metadata": {},
     "output_type": "execute_result"
    }
   ],
   "source": [
    "current(log, verbose=True)"
   ]
  },
  {
   "cell_type": "code",
   "execution_count": 16,
   "metadata": {
    "tags": []
   },
   "outputs": [
    {
     "name": "stdout",
     "output_type": "stream",
     "text": [
      "Filter=No Filter\n",
      "\n"
     ]
    },
    {
     "data": {
      "text/plain": [
       "False"
      ]
     },
     "execution_count": 16,
     "metadata": {},
     "output_type": "execute_result"
    }
   ],
   "source": [
    "whichfilter(log, verbose=True)"
   ]
  },
  {
   "cell_type": "code",
   "execution_count": 17,
   "metadata": {
    "tags": []
   },
   "outputs": [
    {
     "name": "stdout",
     "output_type": "stream",
     "text": [
      "Number Of Files= 1104\n",
      "\n"
     ]
    },
    {
     "data": {
      "text/plain": [
       "1104"
      ]
     },
     "execution_count": 17,
     "metadata": {},
     "output_type": "execute_result"
    }
   ],
   "source": [
    "numproj(log, verbose=True)"
   ]
  },
  {
   "cell_type": "code",
   "execution_count": 18,
   "metadata": {},
   "outputs": [
    {
     "name": "stdout",
     "output_type": "stream",
     "text": [
      "Sub-scan post alignment [0]=13.000000\n",
      "\n",
      "Sub-scan post alignment [1]=8.000000\n",
      "\n",
      "Sub-scan post alignment [2]=2.500000\n",
      "\n",
      "Sub-scan scan length [0]=687\n",
      "\n",
      "Sub-scan scan length [1]=688\n",
      "\n",
      "Sub-scan scan length [2]=690\n",
      "\n"
     ]
    },
    {
     "data": {
      "text/plain": [
       "1"
      ]
     },
     "execution_count": 18,
     "metadata": {},
     "output_type": "execute_result"
    }
   ],
   "source": [
    "stacks(log, verbose=True)"
   ]
  },
  {
   "cell_type": "code",
   "execution_count": 25,
   "metadata": {},
   "outputs": [
    {
     "data": {
      "text/plain": [
       "(1536, 972)"
      ]
     },
     "execution_count": 25,
     "metadata": {},
     "output_type": "execute_result"
    }
   ],
   "source": [
    "projection_size(log)"
   ]
  },
  {
   "cell_type": "code",
   "execution_count": 26,
   "metadata": {},
   "outputs": [
    {
     "name": "stdout",
     "output_type": "stream",
     "text": [
      "Number Of Horizontal Offset Positions=1\n",
      "\n"
     ]
    },
    {
     "data": {
      "text/plain": [
       "False"
      ]
     },
     "execution_count": 26,
     "metadata": {},
     "output_type": "execute_result"
    }
   ],
   "source": [
    "overlapscan(log, verbose=True)"
   ]
  },
  {
   "cell_type": "code",
   "execution_count": 27,
   "metadata": {},
   "outputs": [
    {
     "name": "stdout",
     "output_type": "stream",
     "text": [
      "Use 360 Rotation=NO\n",
      "\n"
     ]
    },
    {
     "data": {
      "text/plain": [
       "False"
      ]
     },
     "execution_count": 27,
     "metadata": {},
     "output_type": "execute_result"
    }
   ],
   "source": [
    "threesixtyscan(log, verbose=True)"
   ]
  },
  {
   "cell_type": "code",
   "execution_count": 28,
   "metadata": {},
   "outputs": [
    {
     "name": "stdout",
     "output_type": "stream",
     "text": [
      "Rotation Step (deg)=0.200\n",
      "\n"
     ]
    },
    {
     "data": {
      "text/plain": [
       "0.2"
      ]
     },
     "execution_count": 28,
     "metadata": {},
     "output_type": "execute_result"
    }
   ],
   "source": [
    "rotationstep(log, verbose=True)"
   ]
  },
  {
   "cell_type": "code",
   "execution_count": 29,
   "metadata": {},
   "outputs": [
    {
     "name": "stdout",
     "output_type": "stream",
     "text": [
      "Exposure (ms)=740\n",
      "\n"
     ]
    },
    {
     "data": {
      "text/plain": [
       "740"
      ]
     },
     "execution_count": 29,
     "metadata": {},
     "output_type": "execute_result"
    }
   ],
   "source": [
    "exposure(log, verbose=True)"
   ]
  },
  {
   "cell_type": "code",
   "execution_count": 30,
   "metadata": {},
   "outputs": [
    {
     "name": "stdout",
     "output_type": "stream",
     "text": [
      "Frame Averaging=OFF (2)\n",
      "\n"
     ]
    },
    {
     "data": {
      "text/plain": [
       "False"
      ]
     },
     "execution_count": 30,
     "metadata": {},
     "output_type": "execute_result"
    }
   ],
   "source": [
    "averaging(log, verbose=True)"
   ]
  },
  {
   "cell_type": "code",
   "execution_count": 31,
   "metadata": {},
   "outputs": [
    {
     "name": "stdout",
     "output_type": "stream",
     "text": [
      "Scan duration=0h:39m:19s\n",
      "\n"
     ]
    },
    {
     "data": {
      "text/plain": [
       "2359.0"
      ]
     },
     "execution_count": 31,
     "metadata": {},
     "output_type": "execute_result"
    }
   ],
   "source": [
    "duration(log, verbose=True)"
   ]
  },
  {
   "cell_type": "code",
   "execution_count": 32,
   "metadata": {},
   "outputs": [
    {
     "name": "stdout",
     "output_type": "stream",
     "text": [
      "Found \"date\" line: Study Date and Time=27 Jan 2022  13h:32m:59s\n",
      "The date string is: 27 Jan 2022 13h:32m:59s\n",
      "Parsed to: 2022-01-27 13:32:59\n"
     ]
    },
    {
     "data": {
      "text/plain": [
       "Timestamp('2022-01-27 13:32:59')"
      ]
     },
     "execution_count": 32,
     "metadata": {},
     "output_type": "execute_result"
    }
   ],
   "source": [
    "scandate(log, verbose=True)"
   ]
  },
  {
   "cell_type": "code",
   "execution_count": 33,
   "metadata": {},
   "outputs": [
    {
     "name": "stdout",
     "output_type": "stream",
     "text": [
      "Image Pixel Size (um)=13.001449\n",
      "\n"
     ]
    },
    {
     "data": {
      "text/plain": [
       "13.001449"
      ]
     },
     "execution_count": 33,
     "metadata": {},
     "output_type": "execute_result"
    }
   ],
   "source": [
    "pixelsize(log, verbose=True)"
   ]
  },
  {
   "cell_type": "code",
   "execution_count": 34,
   "metadata": {},
   "outputs": [
    {
     "name": "stdout",
     "output_type": "stream",
     "text": [
      "Reconstruction Program=NRecon\n",
      "\n",
      "Program Version=Version: 2.1.0.1\n",
      "\n"
     ]
    },
    {
     "data": {
      "text/plain": [
       "('NRecon', '2.1.0.1')"
      ]
     },
     "execution_count": 34,
     "metadata": {},
     "output_type": "execute_result"
    }
   ],
   "source": [
    "nreconversion(log, verbose=True)"
   ]
  },
  {
   "cell_type": "code",
   "execution_count": 35,
   "metadata": {},
   "outputs": [
    {
     "name": "stdout",
     "output_type": "stream",
     "text": [
      "Ring Artifact Correction=0\n",
      "\n"
     ]
    },
    {
     "data": {
      "text/plain": [
       "0"
      ]
     },
     "execution_count": 35,
     "metadata": {},
     "output_type": "execute_result"
    }
   ],
   "source": [
    "ringremoval(log, verbose=True)"
   ]
  },
  {
   "cell_type": "code",
   "execution_count": 36,
   "metadata": {},
   "outputs": [
    {
     "name": "stdout",
     "output_type": "stream",
     "text": [
      "Beam Hardening Correction (%)=0\n",
      "\n"
     ]
    },
    {
     "data": {
      "text/plain": [
       "0"
      ]
     },
     "execution_count": 36,
     "metadata": {},
     "output_type": "execute_result"
    }
   ],
   "source": [
    "beamhardening(log, verbose=True)"
   ]
  },
  {
   "cell_type": "code",
   "execution_count": 37,
   "metadata": {},
   "outputs": [],
   "source": [
    "Data['Scanner'] = [scanner(log) for log in Data['LogFile']]\n",
    "Data['Software'] = [controlsoftware(log) for log in Data['LogFile']]"
   ]
  },
  {
   "cell_type": "code",
   "execution_count": 38,
   "metadata": {},
   "outputs": [],
   "source": [
    "Data['Voxelsize'] = [pixelsize(log) for log in Data['LogFile']]\n",
    "Data['Voxelsize_rounded'] = [pixelsize(log,rounded=True) for log in Data['LogFile']]"
   ]
  },
  {
   "cell_type": "code",
   "execution_count": 39,
   "metadata": {},
   "outputs": [],
   "source": [
    "Data['Source'] = [source(log) for log in Data['LogFile']]\n",
    "Data['Camera'] = [camera(log) for log in Data['LogFile']]\n",
    "Data['Exposure'] = [exposure(log) for log in Data['LogFile']]\n",
    "Data['Averaging'] = [averaging(log) for log in Data['LogFile']]"
   ]
  },
  {
   "cell_type": "code",
   "execution_count": 40,
   "metadata": {},
   "outputs": [],
   "source": [
    "Data['Voltage'] = [voltage(log) for log in Data['LogFile']]\n",
    "Data['Current'] = [current(log) for log in Data['LogFile']]\n",
    "Data['Filter'] = [whichfilter(log) for log in Data['LogFile']]"
   ]
  },
  {
   "cell_type": "code",
   "execution_count": 41,
   "metadata": {},
   "outputs": [],
   "source": [
    "Data['Stacks'] = [stacks(log) for log in Data['LogFile']]\n",
    "Data['NumProj'] = [numproj(log) for log in Data['LogFile']]\n",
    "Data['ProjSize'] = [projection_size(log) for log in Data['LogFile']]\n",
    "Data['RotationStep'] = [rotationstep(log) for log in Data['LogFile']]\n",
    "Data['Wide'] = [overlapscan(log) for log in Data.LogFile]"
   ]
  },
  {
   "cell_type": "code",
   "execution_count": 42,
   "metadata": {},
   "outputs": [],
   "source": [
    "Data['NReconVersion'] = [nreconversion(log) for log in Data['LogFile']]\n",
    "Data['LargerThanFOV'] = [larger_than_fov(log) for log in Data['LogFile']]\n",
    "Data['RingRemoval'] = [ringremoval(log) for log in Data['LogFile']]\n",
    "Data['Beamhardening'] = [beamhardening(log) for log in Data['LogFile']]\n",
    "Data['DefectPixelMasking'] = [defectpixelmasking(log) for log in Data['LogFile']]\n",
    "Data['GrayValue'] = [reconstruction_grayvalue(log) for log in Data['LogFile']]"
   ]
  },
  {
   "cell_type": "code",
   "execution_count": 43,
   "metadata": {},
   "outputs": [],
   "source": [
    "Data['RecSize'] = [reconstruction_size(log) for log in Data['LogFile']]\n",
    "Data['ROI'] = [region_of_interest(log, verbose=False) for log in Data['LogFile']]"
   ]
  },
  {
   "cell_type": "code",
   "execution_count": 44,
   "metadata": {},
   "outputs": [
    {
     "data": {
      "text/html": [
       "<div>\n",
       "<style scoped>\n",
       "    .dataframe tbody tr th:only-of-type {\n",
       "        vertical-align: middle;\n",
       "    }\n",
       "\n",
       "    .dataframe tbody tr th {\n",
       "        vertical-align: top;\n",
       "    }\n",
       "\n",
       "    .dataframe thead th {\n",
       "        text-align: right;\n",
       "    }\n",
       "</style>\n",
       "<table border=\"1\" class=\"dataframe\">\n",
       "  <thead>\n",
       "    <tr style=\"text-align: right;\">\n",
       "      <th></th>\n",
       "      <th>LogFile</th>\n",
       "      <th>ROI</th>\n",
       "    </tr>\n",
       "  </thead>\n",
       "  <tbody>\n",
       "    <tr>\n",
       "      <th>0</th>\n",
       "      <td>logfiles/cichlids/104016/head/proj/104016.log</td>\n",
       "      <td>(1187, 322, 23, 1514)</td>\n",
       "    </tr>\n",
       "    <tr>\n",
       "      <th>1</th>\n",
       "      <td>logfiles/cichlids/104016/head/proj/104016~00.log</td>\n",
       "      <td>False</td>\n",
       "    </tr>\n",
       "    <tr>\n",
       "      <th>2</th>\n",
       "      <td>logfiles/cichlids/104016/head/proj/104016~01.log</td>\n",
       "      <td>False</td>\n",
       "    </tr>\n",
       "    <tr>\n",
       "      <th>3</th>\n",
       "      <td>logfiles/cichlids/104016/head/proj/104016~02.log</td>\n",
       "      <td>False</td>\n",
       "    </tr>\n",
       "    <tr>\n",
       "      <th>4</th>\n",
       "      <td>logfiles/cichlids/104016/head/rec/104016_rec.log</td>\n",
       "      <td>(1187, 322, 23, 1514)</td>\n",
       "    </tr>\n",
       "    <tr>\n",
       "      <th>...</th>\n",
       "      <td>...</td>\n",
       "      <td>...</td>\n",
       "    </tr>\n",
       "    <tr>\n",
       "      <th>86</th>\n",
       "      <td>logfiles/zebrafish-gills/Swimmer01/proj/Swimme...</td>\n",
       "      <td>(3095, 568, 1640, 4167)</td>\n",
       "    </tr>\n",
       "    <tr>\n",
       "      <th>87</th>\n",
       "      <td>logfiles/zebrafish-gills/Swimmer01/rec/Swimmer...</td>\n",
       "      <td>(3095, 568, 1640, 4167)</td>\n",
       "    </tr>\n",
       "    <tr>\n",
       "      <th>88</th>\n",
       "      <td>logfiles/zebrafish-gills/Swimmer10/proj/Swimme...</td>\n",
       "      <td>(3082, 1562, 982, 3032)</td>\n",
       "    </tr>\n",
       "    <tr>\n",
       "      <th>89</th>\n",
       "      <td>logfiles/zebrafish-gills/Swimmer10/proj/Swimme...</td>\n",
       "      <td>(3082, 1562, 982, 3032)</td>\n",
       "    </tr>\n",
       "    <tr>\n",
       "      <th>90</th>\n",
       "      <td>logfiles/zebrafish-gills/Swimmer10/rec/Swimmer...</td>\n",
       "      <td>(3082, 1562, 982, 3032)</td>\n",
       "    </tr>\n",
       "  </tbody>\n",
       "</table>\n",
       "<p>91 rows × 2 columns</p>\n",
       "</div>"
      ],
      "text/plain": [
       "                                              LogFile                      ROI\n",
       "0       logfiles/cichlids/104016/head/proj/104016.log    (1187, 322, 23, 1514)\n",
       "1    logfiles/cichlids/104016/head/proj/104016~00.log                    False\n",
       "2    logfiles/cichlids/104016/head/proj/104016~01.log                    False\n",
       "3    logfiles/cichlids/104016/head/proj/104016~02.log                    False\n",
       "4    logfiles/cichlids/104016/head/rec/104016_rec.log    (1187, 322, 23, 1514)\n",
       "..                                                ...                      ...\n",
       "86  logfiles/zebrafish-gills/Swimmer01/proj/Swimme...  (3095, 568, 1640, 4167)\n",
       "87  logfiles/zebrafish-gills/Swimmer01/rec/Swimmer...  (3095, 568, 1640, 4167)\n",
       "88  logfiles/zebrafish-gills/Swimmer10/proj/Swimme...  (3082, 1562, 982, 3032)\n",
       "89  logfiles/zebrafish-gills/Swimmer10/proj/Swimme...  (3082, 1562, 982, 3032)\n",
       "90  logfiles/zebrafish-gills/Swimmer10/rec/Swimmer...  (3082, 1562, 982, 3032)\n",
       "\n",
       "[91 rows x 2 columns]"
      ]
     },
     "execution_count": 44,
     "metadata": {},
     "output_type": "execute_result"
    }
   ],
   "source": [
    "Data[['LogFile', 'ROI']]"
   ]
  },
  {
   "cell_type": "code",
   "execution_count": 45,
   "metadata": {},
   "outputs": [],
   "source": [
    "Data['Duration'] = [duration(log) for log in Data['LogFile']]\n",
    "Data['Date'] = [scandate(log) for log in Data['LogFile']]"
   ]
  },
  {
   "cell_type": "code",
   "execution_count": 46,
   "metadata": {},
   "outputs": [
    {
     "data": {
      "text/html": [
       "<div>\n",
       "<style scoped>\n",
       "    .dataframe tbody tr th:only-of-type {\n",
       "        vertical-align: middle;\n",
       "    }\n",
       "\n",
       "    .dataframe tbody tr th {\n",
       "        vertical-align: top;\n",
       "    }\n",
       "\n",
       "    .dataframe thead th {\n",
       "        text-align: right;\n",
       "    }\n",
       "</style>\n",
       "<table border=\"1\" class=\"dataframe\">\n",
       "  <thead>\n",
       "    <tr style=\"text-align: right;\">\n",
       "      <th></th>\n",
       "      <th>LogFile</th>\n",
       "      <th>Scanner</th>\n",
       "      <th>Software</th>\n",
       "      <th>Voxelsize</th>\n",
       "      <th>Voxelsize_rounded</th>\n",
       "      <th>Source</th>\n",
       "      <th>Camera</th>\n",
       "      <th>Exposure</th>\n",
       "      <th>Averaging</th>\n",
       "      <th>Voltage</th>\n",
       "      <th>...</th>\n",
       "      <th>NReconVersion</th>\n",
       "      <th>LargerThanFOV</th>\n",
       "      <th>RingRemoval</th>\n",
       "      <th>Beamhardening</th>\n",
       "      <th>DefectPixelMasking</th>\n",
       "      <th>GrayValue</th>\n",
       "      <th>RecSize</th>\n",
       "      <th>ROI</th>\n",
       "      <th>Duration</th>\n",
       "      <th>Date</th>\n",
       "    </tr>\n",
       "  </thead>\n",
       "  <tbody>\n",
       "    <tr>\n",
       "      <th>0</th>\n",
       "      <td>logfiles/cichlids/104016/head/proj/104016.log</td>\n",
       "      <td>SkyScan 2214</td>\n",
       "      <td>1.8</td>\n",
       "      <td>13.001449</td>\n",
       "      <td>13.00</td>\n",
       "      <td>Hamamatsu L10711</td>\n",
       "      <td>FlatPanel: 2...50um, 140mm max.FOV</td>\n",
       "      <td>740</td>\n",
       "      <td>False</td>\n",
       "      <td>70.0</td>\n",
       "      <td>...</td>\n",
       "      <td>(NRecon, 2.1.0.1)</td>\n",
       "      <td>False</td>\n",
       "      <td>0</td>\n",
       "      <td>0</td>\n",
       "      <td>0</td>\n",
       "      <td>0.165210</td>\n",
       "      <td>(1488, 864)</td>\n",
       "      <td>(1187, 322, 23, 1514)</td>\n",
       "      <td>2359.0</td>\n",
       "      <td>2022-01-27 13:32:59</td>\n",
       "    </tr>\n",
       "    <tr>\n",
       "      <th>1</th>\n",
       "      <td>logfiles/cichlids/104016/head/proj/104016~00.log</td>\n",
       "      <td>SkyScan 2214</td>\n",
       "      <td>1.8</td>\n",
       "      <td>13.001449</td>\n",
       "      <td>13.00</td>\n",
       "      <td>Hamamatsu L10711</td>\n",
       "      <td>FlatPanel: 2...50um, 140mm max.FOV</td>\n",
       "      <td>740</td>\n",
       "      <td>False</td>\n",
       "      <td>70.0</td>\n",
       "      <td>...</td>\n",
       "      <td>(None, None)</td>\n",
       "      <td>None</td>\n",
       "      <td>False</td>\n",
       "      <td>False</td>\n",
       "      <td>False</td>\n",
       "      <td>NaN</td>\n",
       "      <td>(None, None)</td>\n",
       "      <td>False</td>\n",
       "      <td>2359.0</td>\n",
       "      <td>2022-01-27 13:32:59</td>\n",
       "    </tr>\n",
       "    <tr>\n",
       "      <th>2</th>\n",
       "      <td>logfiles/cichlids/104016/head/proj/104016~01.log</td>\n",
       "      <td>SkyScan 2214</td>\n",
       "      <td>1.8</td>\n",
       "      <td>13.001449</td>\n",
       "      <td>13.00</td>\n",
       "      <td>Hamamatsu L10711</td>\n",
       "      <td>FlatPanel: 2...50um, 140mm max.FOV</td>\n",
       "      <td>740</td>\n",
       "      <td>False</td>\n",
       "      <td>70.0</td>\n",
       "      <td>...</td>\n",
       "      <td>(None, None)</td>\n",
       "      <td>None</td>\n",
       "      <td>False</td>\n",
       "      <td>False</td>\n",
       "      <td>False</td>\n",
       "      <td>NaN</td>\n",
       "      <td>(None, None)</td>\n",
       "      <td>False</td>\n",
       "      <td>2341.0</td>\n",
       "      <td>2022-01-27 14:13:04</td>\n",
       "    </tr>\n",
       "    <tr>\n",
       "      <th>3</th>\n",
       "      <td>logfiles/cichlids/104016/head/proj/104016~02.log</td>\n",
       "      <td>SkyScan 2214</td>\n",
       "      <td>1.8</td>\n",
       "      <td>13.001449</td>\n",
       "      <td>13.00</td>\n",
       "      <td>Hamamatsu L10711</td>\n",
       "      <td>FlatPanel: 2...50um, 140mm max.FOV</td>\n",
       "      <td>740</td>\n",
       "      <td>False</td>\n",
       "      <td>70.0</td>\n",
       "      <td>...</td>\n",
       "      <td>(None, None)</td>\n",
       "      <td>None</td>\n",
       "      <td>False</td>\n",
       "      <td>False</td>\n",
       "      <td>False</td>\n",
       "      <td>NaN</td>\n",
       "      <td>(None, None)</td>\n",
       "      <td>False</td>\n",
       "      <td>2338.0</td>\n",
       "      <td>2022-01-27 14:53:07</td>\n",
       "    </tr>\n",
       "    <tr>\n",
       "      <th>4</th>\n",
       "      <td>logfiles/cichlids/104016/head/rec/104016_rec.log</td>\n",
       "      <td>SkyScan 2214</td>\n",
       "      <td>1.8</td>\n",
       "      <td>13.001449</td>\n",
       "      <td>13.00</td>\n",
       "      <td>Hamamatsu L10711</td>\n",
       "      <td>FlatPanel: 2...50um, 140mm max.FOV</td>\n",
       "      <td>740</td>\n",
       "      <td>False</td>\n",
       "      <td>70.0</td>\n",
       "      <td>...</td>\n",
       "      <td>(NRecon, 2.1.0.1)</td>\n",
       "      <td>False</td>\n",
       "      <td>0</td>\n",
       "      <td>0</td>\n",
       "      <td>0</td>\n",
       "      <td>0.165210</td>\n",
       "      <td>(1488, 864)</td>\n",
       "      <td>(1187, 322, 23, 1514)</td>\n",
       "      <td>2359.0</td>\n",
       "      <td>2022-01-27 13:32:59</td>\n",
       "    </tr>\n",
       "    <tr>\n",
       "      <th>...</th>\n",
       "      <td>...</td>\n",
       "      <td>...</td>\n",
       "      <td>...</td>\n",
       "      <td>...</td>\n",
       "      <td>...</td>\n",
       "      <td>...</td>\n",
       "      <td>...</td>\n",
       "      <td>...</td>\n",
       "      <td>...</td>\n",
       "      <td>...</td>\n",
       "      <td>...</td>\n",
       "      <td>...</td>\n",
       "      <td>...</td>\n",
       "      <td>...</td>\n",
       "      <td>...</td>\n",
       "      <td>...</td>\n",
       "      <td>...</td>\n",
       "      <td>...</td>\n",
       "      <td>...</td>\n",
       "      <td>...</td>\n",
       "      <td>...</td>\n",
       "    </tr>\n",
       "    <tr>\n",
       "      <th>86</th>\n",
       "      <td>logfiles/zebrafish-gills/Swimmer01/proj/Swimme...</td>\n",
       "      <td>SkyScan 1272</td>\n",
       "      <td>1.1.9</td>\n",
       "      <td>1.650028</td>\n",
       "      <td>1.65</td>\n",
       "      <td>Hamamatsu L11871_20</td>\n",
       "      <td>XIMEA xiRAY16</td>\n",
       "      <td>1898</td>\n",
       "      <td>6</td>\n",
       "      <td>50.0</td>\n",
       "      <td>...</td>\n",
       "      <td>(NRecon, 1.7.1.0)</td>\n",
       "      <td>False</td>\n",
       "      <td>20</td>\n",
       "      <td>10</td>\n",
       "      <td>0</td>\n",
       "      <td>0.192730</td>\n",
       "      <td>(2524, 2524)</td>\n",
       "      <td>(3095, 568, 1640, 4167)</td>\n",
       "      <td>50684.0</td>\n",
       "      <td>2018-02-22 07:18:31</td>\n",
       "    </tr>\n",
       "    <tr>\n",
       "      <th>87</th>\n",
       "      <td>logfiles/zebrafish-gills/Swimmer01/rec/Swimmer...</td>\n",
       "      <td>SkyScan 1272</td>\n",
       "      <td>1.1.9</td>\n",
       "      <td>1.650028</td>\n",
       "      <td>1.65</td>\n",
       "      <td>Hamamatsu L11871_20</td>\n",
       "      <td>XIMEA xiRAY16</td>\n",
       "      <td>1898</td>\n",
       "      <td>6</td>\n",
       "      <td>50.0</td>\n",
       "      <td>...</td>\n",
       "      <td>(NRecon, 1.7.1.0)</td>\n",
       "      <td>False</td>\n",
       "      <td>20</td>\n",
       "      <td>10</td>\n",
       "      <td>0</td>\n",
       "      <td>0.192730</td>\n",
       "      <td>(2524, 2524)</td>\n",
       "      <td>(3095, 568, 1640, 4167)</td>\n",
       "      <td>50684.0</td>\n",
       "      <td>2018-02-22 07:18:31</td>\n",
       "    </tr>\n",
       "    <tr>\n",
       "      <th>88</th>\n",
       "      <td>logfiles/zebrafish-gills/Swimmer10/proj/Swimme...</td>\n",
       "      <td>SkyScan 1172 (Version F)</td>\n",
       "      <td>1.5 (build 26)</td>\n",
       "      <td>1.660000</td>\n",
       "      <td>1.66</td>\n",
       "      <td>Hamamatsu 100/250</td>\n",
       "      <td>Hamamatsu C9300 11Mp</td>\n",
       "      <td>2005</td>\n",
       "      <td>6</td>\n",
       "      <td>48.0</td>\n",
       "      <td>...</td>\n",
       "      <td>(NRecon, 1.7.1.0)</td>\n",
       "      <td>False</td>\n",
       "      <td>20</td>\n",
       "      <td>0</td>\n",
       "      <td>0</td>\n",
       "      <td>0.221641</td>\n",
       "      <td>(2048, 1520)</td>\n",
       "      <td>(3082, 1562, 982, 3032)</td>\n",
       "      <td>64281.0</td>\n",
       "      <td>2018-06-13 05:44:25</td>\n",
       "    </tr>\n",
       "    <tr>\n",
       "      <th>89</th>\n",
       "      <td>logfiles/zebrafish-gills/Swimmer10/proj/Swimme...</td>\n",
       "      <td>SkyScan 1172 (Version F)</td>\n",
       "      <td>1.5 (build 26)</td>\n",
       "      <td>1.660000</td>\n",
       "      <td>1.66</td>\n",
       "      <td>Hamamatsu 100/250</td>\n",
       "      <td>Hamamatsu C9300 11Mp</td>\n",
       "      <td>2005</td>\n",
       "      <td>6</td>\n",
       "      <td>48.0</td>\n",
       "      <td>...</td>\n",
       "      <td>(NRecon, 1.7.1.0)</td>\n",
       "      <td>False</td>\n",
       "      <td>20</td>\n",
       "      <td>0</td>\n",
       "      <td>0</td>\n",
       "      <td>0.221641</td>\n",
       "      <td>(2048, 1520)</td>\n",
       "      <td>(3082, 1562, 982, 3032)</td>\n",
       "      <td>64281.0</td>\n",
       "      <td>2018-06-13 05:44:25</td>\n",
       "    </tr>\n",
       "    <tr>\n",
       "      <th>90</th>\n",
       "      <td>logfiles/zebrafish-gills/Swimmer10/rec/Swimmer...</td>\n",
       "      <td>SkyScan 1172 (Version F)</td>\n",
       "      <td>1.5 (build 26)</td>\n",
       "      <td>1.660000</td>\n",
       "      <td>1.66</td>\n",
       "      <td>Hamamatsu 100/250</td>\n",
       "      <td>Hamamatsu C9300 11Mp</td>\n",
       "      <td>2005</td>\n",
       "      <td>6</td>\n",
       "      <td>48.0</td>\n",
       "      <td>...</td>\n",
       "      <td>(NRecon, 1.7.1.0)</td>\n",
       "      <td>False</td>\n",
       "      <td>20</td>\n",
       "      <td>0</td>\n",
       "      <td>0</td>\n",
       "      <td>0.221641</td>\n",
       "      <td>(2048, 1520)</td>\n",
       "      <td>(3082, 1562, 982, 3032)</td>\n",
       "      <td>64281.0</td>\n",
       "      <td>2018-06-13 05:44:25</td>\n",
       "    </tr>\n",
       "  </tbody>\n",
       "</table>\n",
       "<p>91 rows × 27 columns</p>\n",
       "</div>"
      ],
      "text/plain": [
       "                                              LogFile  \\\n",
       "0       logfiles/cichlids/104016/head/proj/104016.log   \n",
       "1    logfiles/cichlids/104016/head/proj/104016~00.log   \n",
       "2    logfiles/cichlids/104016/head/proj/104016~01.log   \n",
       "3    logfiles/cichlids/104016/head/proj/104016~02.log   \n",
       "4    logfiles/cichlids/104016/head/rec/104016_rec.log   \n",
       "..                                                ...   \n",
       "86  logfiles/zebrafish-gills/Swimmer01/proj/Swimme...   \n",
       "87  logfiles/zebrafish-gills/Swimmer01/rec/Swimmer...   \n",
       "88  logfiles/zebrafish-gills/Swimmer10/proj/Swimme...   \n",
       "89  logfiles/zebrafish-gills/Swimmer10/proj/Swimme...   \n",
       "90  logfiles/zebrafish-gills/Swimmer10/rec/Swimmer...   \n",
       "\n",
       "                     Scanner        Software  Voxelsize  Voxelsize_rounded  \\\n",
       "0               SkyScan 2214             1.8  13.001449              13.00   \n",
       "1               SkyScan 2214             1.8  13.001449              13.00   \n",
       "2               SkyScan 2214             1.8  13.001449              13.00   \n",
       "3               SkyScan 2214             1.8  13.001449              13.00   \n",
       "4               SkyScan 2214             1.8  13.001449              13.00   \n",
       "..                       ...             ...        ...                ...   \n",
       "86              SkyScan 1272           1.1.9   1.650028               1.65   \n",
       "87              SkyScan 1272           1.1.9   1.650028               1.65   \n",
       "88  SkyScan 1172 (Version F)  1.5 (build 26)   1.660000               1.66   \n",
       "89  SkyScan 1172 (Version F)  1.5 (build 26)   1.660000               1.66   \n",
       "90  SkyScan 1172 (Version F)  1.5 (build 26)   1.660000               1.66   \n",
       "\n",
       "                 Source                              Camera  Exposure  \\\n",
       "0      Hamamatsu L10711  FlatPanel: 2...50um, 140mm max.FOV       740   \n",
       "1      Hamamatsu L10711  FlatPanel: 2...50um, 140mm max.FOV       740   \n",
       "2      Hamamatsu L10711  FlatPanel: 2...50um, 140mm max.FOV       740   \n",
       "3      Hamamatsu L10711  FlatPanel: 2...50um, 140mm max.FOV       740   \n",
       "4      Hamamatsu L10711  FlatPanel: 2...50um, 140mm max.FOV       740   \n",
       "..                  ...                                 ...       ...   \n",
       "86  Hamamatsu L11871_20                       XIMEA xiRAY16      1898   \n",
       "87  Hamamatsu L11871_20                       XIMEA xiRAY16      1898   \n",
       "88    Hamamatsu 100/250                Hamamatsu C9300 11Mp      2005   \n",
       "89    Hamamatsu 100/250                Hamamatsu C9300 11Mp      2005   \n",
       "90    Hamamatsu 100/250                Hamamatsu C9300 11Mp      2005   \n",
       "\n",
       "   Averaging  Voltage  ...      NReconVersion LargerThanFOV  RingRemoval  \\\n",
       "0      False     70.0  ...  (NRecon, 2.1.0.1)         False            0   \n",
       "1      False     70.0  ...       (None, None)          None        False   \n",
       "2      False     70.0  ...       (None, None)          None        False   \n",
       "3      False     70.0  ...       (None, None)          None        False   \n",
       "4      False     70.0  ...  (NRecon, 2.1.0.1)         False            0   \n",
       "..       ...      ...  ...                ...           ...          ...   \n",
       "86         6     50.0  ...  (NRecon, 1.7.1.0)         False           20   \n",
       "87         6     50.0  ...  (NRecon, 1.7.1.0)         False           20   \n",
       "88         6     48.0  ...  (NRecon, 1.7.1.0)         False           20   \n",
       "89         6     48.0  ...  (NRecon, 1.7.1.0)         False           20   \n",
       "90         6     48.0  ...  (NRecon, 1.7.1.0)         False           20   \n",
       "\n",
       "    Beamhardening DefectPixelMasking  GrayValue       RecSize  \\\n",
       "0               0                  0   0.165210   (1488, 864)   \n",
       "1           False              False        NaN  (None, None)   \n",
       "2           False              False        NaN  (None, None)   \n",
       "3           False              False        NaN  (None, None)   \n",
       "4               0                  0   0.165210   (1488, 864)   \n",
       "..            ...                ...        ...           ...   \n",
       "86             10                  0   0.192730  (2524, 2524)   \n",
       "87             10                  0   0.192730  (2524, 2524)   \n",
       "88              0                  0   0.221641  (2048, 1520)   \n",
       "89              0                  0   0.221641  (2048, 1520)   \n",
       "90              0                  0   0.221641  (2048, 1520)   \n",
       "\n",
       "                        ROI Duration                Date  \n",
       "0     (1187, 322, 23, 1514)   2359.0 2022-01-27 13:32:59  \n",
       "1                     False   2359.0 2022-01-27 13:32:59  \n",
       "2                     False   2341.0 2022-01-27 14:13:04  \n",
       "3                     False   2338.0 2022-01-27 14:53:07  \n",
       "4     (1187, 322, 23, 1514)   2359.0 2022-01-27 13:32:59  \n",
       "..                      ...      ...                 ...  \n",
       "86  (3095, 568, 1640, 4167)  50684.0 2018-02-22 07:18:31  \n",
       "87  (3095, 568, 1640, 4167)  50684.0 2018-02-22 07:18:31  \n",
       "88  (3082, 1562, 982, 3032)  64281.0 2018-06-13 05:44:25  \n",
       "89  (3082, 1562, 982, 3032)  64281.0 2018-06-13 05:44:25  \n",
       "90  (3082, 1562, 982, 3032)  64281.0 2018-06-13 05:44:25  \n",
       "\n",
       "[91 rows x 27 columns]"
      ]
     },
     "execution_count": 46,
     "metadata": {},
     "output_type": "execute_result"
    }
   ],
   "source": [
    "Data"
   ]
  },
  {
   "cell_type": "code",
   "execution_count": 47,
   "metadata": {},
   "outputs": [],
   "source": [
    "Data.to_csv('ScanningDetails.csv')"
   ]
  },
  {
   "cell_type": "code",
   "execution_count": 48,
   "metadata": {},
   "outputs": [
    {
     "ename": "ImportError",
     "evalue": "Missing optional dependency 'tabulate'.  Use pip or conda to install tabulate.",
     "output_type": "error",
     "traceback": [
      "\u001b[0;31m---------------------------------------------------------------------------\u001b[0m",
      "\u001b[0;31mModuleNotFoundError\u001b[0m                       Traceback (most recent call last)",
      "File \u001b[0;32m~/miniconda3/envs/tiziana/lib/python3.10/site-packages/pandas/compat/_optional.py:142\u001b[0m, in \u001b[0;36mimport_optional_dependency\u001b[0;34m(name, extra, errors, min_version)\u001b[0m\n\u001b[1;32m    141\u001b[0m \u001b[38;5;28;01mtry\u001b[39;00m:\n\u001b[0;32m--> 142\u001b[0m     module \u001b[38;5;241m=\u001b[39m \u001b[43mimportlib\u001b[49m\u001b[38;5;241;43m.\u001b[39;49m\u001b[43mimport_module\u001b[49m\u001b[43m(\u001b[49m\u001b[43mname\u001b[49m\u001b[43m)\u001b[49m\n\u001b[1;32m    143\u001b[0m \u001b[38;5;28;01mexcept\u001b[39;00m \u001b[38;5;167;01mImportError\u001b[39;00m:\n",
      "File \u001b[0;32m~/miniconda3/envs/tiziana/lib/python3.10/importlib/__init__.py:126\u001b[0m, in \u001b[0;36mimport_module\u001b[0;34m(name, package)\u001b[0m\n\u001b[1;32m    125\u001b[0m         level \u001b[38;5;241m+\u001b[39m\u001b[38;5;241m=\u001b[39m \u001b[38;5;241m1\u001b[39m\n\u001b[0;32m--> 126\u001b[0m \u001b[38;5;28;01mreturn\u001b[39;00m \u001b[43m_bootstrap\u001b[49m\u001b[38;5;241;43m.\u001b[39;49m\u001b[43m_gcd_import\u001b[49m\u001b[43m(\u001b[49m\u001b[43mname\u001b[49m\u001b[43m[\u001b[49m\u001b[43mlevel\u001b[49m\u001b[43m:\u001b[49m\u001b[43m]\u001b[49m\u001b[43m,\u001b[49m\u001b[43m \u001b[49m\u001b[43mpackage\u001b[49m\u001b[43m,\u001b[49m\u001b[43m \u001b[49m\u001b[43mlevel\u001b[49m\u001b[43m)\u001b[49m\n",
      "File \u001b[0;32m<frozen importlib._bootstrap>:1050\u001b[0m, in \u001b[0;36m_gcd_import\u001b[0;34m(name, package, level)\u001b[0m\n",
      "File \u001b[0;32m<frozen importlib._bootstrap>:1027\u001b[0m, in \u001b[0;36m_find_and_load\u001b[0;34m(name, import_)\u001b[0m\n",
      "File \u001b[0;32m<frozen importlib._bootstrap>:1004\u001b[0m, in \u001b[0;36m_find_and_load_unlocked\u001b[0;34m(name, import_)\u001b[0m\n",
      "\u001b[0;31mModuleNotFoundError\u001b[0m: No module named 'tabulate'",
      "\nDuring handling of the above exception, another exception occurred:\n",
      "\u001b[0;31mImportError\u001b[0m                               Traceback (most recent call last)",
      "Cell \u001b[0;32mIn[48], line 2\u001b[0m\n\u001b[1;32m      1\u001b[0m \u001b[38;5;66;03m# Copy-paste this to wherever you want the data in Markdown\u001b[39;00m\n\u001b[0;32m----> 2\u001b[0m \u001b[38;5;28mprint\u001b[39m(\u001b[43mData\u001b[49m\u001b[38;5;241;43m.\u001b[39;49m\u001b[43mto_markdown\u001b[49m\u001b[43m(\u001b[49m\u001b[43m)\u001b[49m)\n",
      "File \u001b[0;32m~/miniconda3/envs/tiziana/lib/python3.10/site-packages/pandas/core/frame.py:2756\u001b[0m, in \u001b[0;36mDataFrame.to_markdown\u001b[0;34m(self, buf, mode, index, storage_options, **kwargs)\u001b[0m\n\u001b[1;32m   2754\u001b[0m kwargs\u001b[38;5;241m.\u001b[39msetdefault(\u001b[38;5;124m\"\u001b[39m\u001b[38;5;124mtablefmt\u001b[39m\u001b[38;5;124m\"\u001b[39m, \u001b[38;5;124m\"\u001b[39m\u001b[38;5;124mpipe\u001b[39m\u001b[38;5;124m\"\u001b[39m)\n\u001b[1;32m   2755\u001b[0m kwargs\u001b[38;5;241m.\u001b[39msetdefault(\u001b[38;5;124m\"\u001b[39m\u001b[38;5;124mshowindex\u001b[39m\u001b[38;5;124m\"\u001b[39m, index)\n\u001b[0;32m-> 2756\u001b[0m tabulate \u001b[38;5;241m=\u001b[39m \u001b[43mimport_optional_dependency\u001b[49m\u001b[43m(\u001b[49m\u001b[38;5;124;43m\"\u001b[39;49m\u001b[38;5;124;43mtabulate\u001b[39;49m\u001b[38;5;124;43m\"\u001b[39;49m\u001b[43m)\u001b[49m\n\u001b[1;32m   2757\u001b[0m result \u001b[38;5;241m=\u001b[39m tabulate\u001b[38;5;241m.\u001b[39mtabulate(\u001b[38;5;28mself\u001b[39m, \u001b[38;5;241m*\u001b[39m\u001b[38;5;241m*\u001b[39mkwargs)\n\u001b[1;32m   2758\u001b[0m \u001b[38;5;28;01mif\u001b[39;00m buf \u001b[38;5;129;01mis\u001b[39;00m \u001b[38;5;28;01mNone\u001b[39;00m:\n",
      "File \u001b[0;32m~/miniconda3/envs/tiziana/lib/python3.10/site-packages/pandas/compat/_optional.py:145\u001b[0m, in \u001b[0;36mimport_optional_dependency\u001b[0;34m(name, extra, errors, min_version)\u001b[0m\n\u001b[1;32m    143\u001b[0m \u001b[38;5;28;01mexcept\u001b[39;00m \u001b[38;5;167;01mImportError\u001b[39;00m:\n\u001b[1;32m    144\u001b[0m     \u001b[38;5;28;01mif\u001b[39;00m errors \u001b[38;5;241m==\u001b[39m \u001b[38;5;124m\"\u001b[39m\u001b[38;5;124mraise\u001b[39m\u001b[38;5;124m\"\u001b[39m:\n\u001b[0;32m--> 145\u001b[0m         \u001b[38;5;28;01mraise\u001b[39;00m \u001b[38;5;167;01mImportError\u001b[39;00m(msg)\n\u001b[1;32m    146\u001b[0m     \u001b[38;5;28;01mreturn\u001b[39;00m \u001b[38;5;28;01mNone\u001b[39;00m\n\u001b[1;32m    148\u001b[0m \u001b[38;5;66;03m# Handle submodules: if we have submodule, grab parent module from sys.modules\u001b[39;00m\n",
      "\u001b[0;31mImportError\u001b[0m: Missing optional dependency 'tabulate'.  Use pip or conda to install tabulate."
     ]
    }
   ],
   "source": [
    "# Copy-paste this to wherever you want the data in Markdown\n",
    "print(Data.to_markdown())"
   ]
  },
  {
   "cell_type": "code",
   "execution_count": null,
   "metadata": {},
   "outputs": [],
   "source": []
  },
  {
   "cell_type": "code",
   "execution_count": null,
   "metadata": {
    "tags": []
   },
   "outputs": [],
   "source": [
    "STOPHERE=="
   ]
  },
  {
   "cell_type": "markdown",
   "metadata": {},
   "source": [
    "----"
   ]
  },
  {
   "cell_type": "markdown",
   "metadata": {},
   "source": [
    "My microct blurb from http://simp.ly/publish/NBhZhH"
   ]
  },
  {
   "cell_type": "code",
   "execution_count": null,
   "metadata": {},
   "outputs": [],
   "source": [
    "print('Based on the %s log files in %s' % (len(Data), Root))"
   ]
  },
  {
   "cell_type": "code",
   "execution_count": null,
   "metadata": {},
   "outputs": [],
   "source": [
    "\" OR \".join(str(value) for value in Data.Scanner.unique())"
   ]
  },
  {
   "cell_type": "code",
   "execution_count": null,
   "metadata": {},
   "outputs": [],
   "source": [
    "print('After $PREPARATION, the',\n",
    "      len(Data),\n",
    "      'samples were imaged on a Bruker',\n",
    "      \" OR \".join(str(value) for value in Data.Scanner.unique()),\n",
    "      'high-resolution microtomography machine (Control software version',\n",
    "      \" OR \".join(str(value) for value in Data.Software.unique()) + \n",
    "      ', Bruker microCT, Kontich, Belgium).')"
   ]
  },
  {
   "cell_type": "code",
   "execution_count": null,
   "metadata": {},
   "outputs": [],
   "source": [
    "print('The machine is equipped with a',\n",
    "      \" OR \".join(str(value) for value in Data.Source.unique()),\n",
    "      'X-ray source and a',\n",
    "      \" OR \".join(str(value) for value in Data.Camera.unique()),\n",
    "      'camera.')"
   ]
  },
  {
   "cell_type": "code",
   "execution_count": null,
   "metadata": {},
   "outputs": [],
   "source": [
    "# if len(Data.Scanner.unique()) > 1:\n",
    "#     print('more')"
   ]
  },
  {
   "cell_type": "code",
   "execution_count": null,
   "metadata": {},
   "outputs": [],
   "source": [
    "print('The X-ray source was set to a tube voltage of', \n",
    "      \" OR \".join(str(value) for value in Data.Voltage.unique()),\n",
    "      'kV and a tube current of',\n",
    "      \" OR \".join(str(value) for value in Data.Current.unique()),\n",
    "      'µA, the x-ray spectrum was', end=' ')\n",
    "if Data.Filter.unique():\n",
    "    print('filtered by', \" OR \".join(str(value) for value in Data.Filter.unique()), end=' ')\n",
    "else:\n",
    "    print('not filtered', end=' ')\n",
    "print('prior to incidence onto the sample.')"
   ]
  },
  {
   "cell_type": "code",
   "execution_count": null,
   "metadata": {},
   "outputs": [],
   "source": [
    "# TODO: Flip the text of the filter to make it nicer"
   ]
  },
  {
   "cell_type": "code",
   "execution_count": null,
   "metadata": {},
   "outputs": [],
   "source": [
    "Data.Wide.unique()"
   ]
  },
  {
   "cell_type": "code",
   "execution_count": null,
   "metadata": {},
   "outputs": [],
   "source": [
    "print('For each sample, we recorded a set of', end=' ')\n",
    "if Data.Filter.unique():   \n",
    "    print(\" or \".join(str(value) for value in Data.Stacks.unique()),\n",
    "          'stacked scans overlapping the sample height, each stack was recorded with', end=' ')\n",
    "print(\" or \".join(str(value) for value in Data.NumProj.unique()), 'projections of', end=' ')\n",
    "for cs in Data.CamSize.unique():\n",
    "    print(cs[0], end=' ')\n",
    "print('x', end=' ')\n",
    "for cs in Data.CamSize.unique():\n",
    "    print(cs[1], end=' ')\n",
    "print('pixels', end=' ')\n",
    "if Data.Wide.unique():\n",
    "    print('(' + \" or \".join(str(value) for value in Data.Wide.unique()), 'projections stitched laterally)', end=' ')\n",
    "print('at every',\n",
    "      str(\" or \".join(str(value) for value in Data.RotationStep.unique())) + '° over a 180° sample rotation.')"
   ]
  },
  {
   "cell_type": "code",
   "execution_count": null,
   "metadata": {},
   "outputs": [],
   "source": [
    "Data.Exposure.mean()"
   ]
  },
  {
   "cell_type": "code",
   "execution_count": null,
   "metadata": {},
   "outputs": [],
   "source": [
    "print('Every single projection was exposed for',\n",
    "      \" or \".join(str(value) for value in Data.Exposure.unique()),\n",
    "      'ms,',\n",
    "      \" or \".join(str(value) for value in Data.Averaging.unique()),\n",
    "      'projections were averaged to one to greatly reduce image noise.')"
   ]
  },
  {
   "cell_type": "code",
   "execution_count": null,
   "metadata": {},
   "outputs": [],
   "source": [
    "log=Data.LogFile[1]"
   ]
  },
  {
   "cell_type": "code",
   "execution_count": null,
   "metadata": {},
   "outputs": [],
   "source": [
    "print('This resulted in a scan time of approximately ', end='')\n",
    "if duration(log)/3600 > 1:\n",
    "    # Scan took hours\n",
    "    print(timeformat(datetime.timedelta(seconds=duration(log)),\n",
    "                     '{hours} hours and {minutes} minutes'), end=' ')\n",
    "else:\n",
    "    print(timeformat(datetime.timedelta(seconds=duration(log)),\n",
    "                     '{minutes} minutes'), end=' ')\n",
    "if not stacks(log) == 1:\n",
    "    print('per stack and about',\n",
    "          timeformat(stacks(log) * datetime.timedelta(seconds=duration(log)),\n",
    "                     '{hours} hours and {minutes} minutes'), end=' ')\n",
    "print('per sample', end='')\n",
    "if stacks(log) == 1:\n",
    "    print('.')\n",
    "else:\n",
    "    print(' (with', stacks(log), 'stacks).')"
   ]
  },
  {
   "cell_type": "code",
   "execution_count": null,
   "metadata": {},
   "outputs": [],
   "source": [
    "print('In total, we scanned', Data.Stacks.sum(), 'stacks.')\n",
    "print('Each stack took approximately',\n",
    "      Data.Duration.mean() // 60,\n",
    "      'minutes (' + str(datetime.timedelta(seconds=Data.Duration.mean())) + ')')\n",
    "print('In total, we thus scanned for about', \n",
    "      timeformat(Data.Stacks.sum() *\n",
    "                 datetime.timedelta(seconds=Data.Duration.mean()),\n",
    "                 '{days} days, {hours} hours and {minutes} minutes.'))\n",
    "print('At the MIC rate, this would have cost',\n",
    "      int(round(Data.Stacks.sum() * Data.Duration.mean() / 60 / 60 * 75)),\n",
    "      'CHF!')"
   ]
  },
  {
   "cell_type": "code",
   "execution_count": null,
   "metadata": {},
   "outputs": [],
   "source": [
    "print('The projection images were then subsequently reconstructed into a 3D stack',\n",
    "      'of images with',\n",
    "      Data.NReconVersion.unique()[0][0],\n",
    "      '(Version',\n",
    "      nreconversion(log)[1] + ', Bruker microCT, Kontich Belgium)', end=' ')\n",
    "if ringremoval(log):\n",
    "    print('using a ring artifact correction of',\n",
    "          ringremoval(log), end='')\n",
    "if beamhardening(log):\n",
    "    print(' and a beam hardening correction of',\n",
    "          beamhardening(log),\n",
    "          '%.')\n",
    "else:\n",
    "    print('.')\n",
    "print('The whole process resulted in datasets with an isometric voxel size of',\n",
    "      \" or \".join(str(value) for value in Data.Voxelsize_rounded.unique()),\n",
    "      'µm.')    "
   ]
  },
  {
   "cell_type": "code",
   "execution_count": null,
   "metadata": {},
   "outputs": [],
   "source": [
    "# fulllog(log)"
   ]
  },
  {
   "cell_type": "code",
   "execution_count": null,
   "metadata": {},
   "outputs": [],
   "source": [
    "Data.Voxelsize.mean()"
   ]
  },
  {
   "cell_type": "code",
   "execution_count": null,
   "metadata": {},
   "outputs": [],
   "source": [
    "Data.Beamhardening"
   ]
  },
  {
   "cell_type": "code",
   "execution_count": null,
   "metadata": {},
   "outputs": [],
   "source": []
  }
 ],
 "metadata": {
  "kernelspec": {
   "display_name": "Python 3 (ipykernel)",
   "language": "python",
   "name": "python3"
  },
  "language_info": {
   "codemirror_mode": {
    "name": "ipython",
    "version": 3
   },
   "file_extension": ".py",
   "mimetype": "text/x-python",
   "name": "python",
   "nbconvert_exporter": "python",
   "pygments_lexer": "ipython3",
   "version": "3.10.12"
  }
 },
 "nbformat": 4,
 "nbformat_minor": 4
}
