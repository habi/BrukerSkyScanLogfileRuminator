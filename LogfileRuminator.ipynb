{
 "cells": [
  {
   "cell_type": "markdown",
   "metadata": {},
   "source": [
    "This notebook generates the paragraph about the microCT-scanning from logfiles of the scans."
   ]
  },
  {
   "cell_type": "code",
   "execution_count": null,
   "metadata": {
    "tags": []
   },
   "outputs": [],
   "source": [
    "import platform\n",
    "import os\n",
    "import pandas\n",
    "import glob"
   ]
  },
  {
   "cell_type": "code",
   "execution_count": null,
   "metadata": {
    "tags": []
   },
   "outputs": [],
   "source": [
    "from parsing_functions import *"
   ]
  },
  {
   "cell_type": "code",
   "execution_count": null,
   "metadata": {
    "tags": []
   },
   "outputs": [],
   "source": [
    "# Different locations if running either on Linux or Windows\n",
    "if 'Linux' in platform.system():\n",
    "    BasePath = os.path.join(os.path.sep, 'home', 'habi', 'research-storage-uct', 'Archiv_Tape')\n",
    "elif 'Windows' in platform.system():\n",
    "    BasePath = os.path.join('R:', os.sep)\n",
    "Root = os.path.join(BasePath, os.sep, 'SomeFolder')\n",
    "Root = 'logfiles'\n",
    "print('We are loading all the data from the folder %s' % Root)"
   ]
  },
  {
   "cell_type": "code",
   "execution_count": null,
   "metadata": {
    "tags": []
   },
   "outputs": [],
   "source": [
    "# Make us a dataframe for saving all that we need\n",
    "Data = pandas.DataFrame()"
   ]
  },
  {
   "cell_type": "code",
   "execution_count": null,
   "metadata": {
    "tags": []
   },
   "outputs": [],
   "source": [
    "# Get *all* log files\n",
    "# Using os.walk is way faster than using recursive glob.glob, see DataWrangling.ipynb for details\n",
    "# Not sorting the found logfiles is also making it quicker\n",
    "Data['LogFile'] = [os.path.join(root, name)\n",
    "                   for root, dirs, files in os.walk(Root)\n",
    "                   for name in files\n",
    "                   if name.endswith((\".log\"))]"
   ]
  },
  {
   "cell_type": "code",
   "execution_count": null,
   "metadata": {
    "tags": []
   },
   "outputs": [],
   "source": [
    "# See what we get\n",
    "Data.sample(n=5)"
   ]
  },
  {
   "cell_type": "code",
   "execution_count": null,
   "metadata": {
    "tags": []
   },
   "outputs": [],
   "source": [
    "log=Data.LogFile[0]"
   ]
  },
  {
   "cell_type": "code",
   "execution_count": null,
   "metadata": {
    "tags": []
   },
   "outputs": [],
   "source": [
    "fulllog(log)"
   ]
  },
  {
   "cell_type": "code",
   "execution_count": null,
   "metadata": {
    "tags": []
   },
   "outputs": [],
   "source": [
    "scanner(log, verbose=True)"
   ]
  },
  {
   "cell_type": "code",
   "execution_count": null,
   "metadata": {
    "tags": []
   },
   "outputs": [],
   "source": [
    "controlsoftware(log, verbose=True)"
   ]
  },
  {
   "cell_type": "code",
   "execution_count": null,
   "metadata": {
    "tags": []
   },
   "outputs": [],
   "source": [
    "source(log, verbose=True)"
   ]
  },
  {
   "cell_type": "code",
   "execution_count": null,
   "metadata": {
    "tags": []
   },
   "outputs": [],
   "source": [
    "camera(log, verbose=True)"
   ]
  },
  {
   "cell_type": "code",
   "execution_count": null,
   "metadata": {
    "tags": []
   },
   "outputs": [],
   "source": [
    "voltage(log, verbose=True)"
   ]
  },
  {
   "cell_type": "code",
   "execution_count": null,
   "metadata": {
    "tags": []
   },
   "outputs": [],
   "source": [
    "current(log, verbose=True)"
   ]
  },
  {
   "cell_type": "code",
   "execution_count": null,
   "metadata": {
    "tags": []
   },
   "outputs": [],
   "source": [
    "whichfilter(log, verbose=True)"
   ]
  },
  {
   "cell_type": "code",
   "execution_count": null,
   "metadata": {
    "tags": []
   },
   "outputs": [],
   "source": [
    "fulllog?"
   ]
  },
  {
   "cell_type": "code",
   "execution_count": null,
   "metadata": {
    "tags": []
   },
   "outputs": [],
   "source": [
    "numproj(log, verbose=True)"
   ]
  },
  {
   "cell_type": "code",
   "execution_count": null,
   "metadata": {},
   "outputs": [],
   "source": [
    "stacks(log, verbose=True)"
   ]
  },
  {
   "cell_type": "code",
   "execution_count": null,
   "metadata": {},
   "outputs": [],
   "source": [
    "projectionsize(log)"
   ]
  },
  {
   "cell_type": "code",
   "execution_count": null,
   "metadata": {},
   "outputs": [],
   "source": [
    "overlapscan(log, verbose=True)"
   ]
  },
  {
   "cell_type": "code",
   "execution_count": null,
   "metadata": {
    "tags": []
   },
   "outputs": [],
   "source": [
    "Data.sample(n=10)"
   ]
  },
  {
   "cell_type": "code",
   "execution_count": null,
   "metadata": {
    "tags": []
   },
   "outputs": [],
   "source": [
    "def threesixtyscan(logfile, verbose=False):\n",
    "    with open(logfile, 'r') as f:\n",
    "        for line in f:\n",
    "            if '360 Rotation' in line:\n",
    "                if verbose:\n",
    "                    print(line)\n",
    "                threesixty = line.split('=')[1]\n",
    "                print(threesixty)\n",
    "                if 'YES' in threesixty:\n",
    "                    threesixty = True\n",
    "                elif 'NO' in threesixty:\n",
    "                    threesixty = False\n",
    "    return(threesixty)"
   ]
  },
  {
   "cell_type": "code",
   "execution_count": null,
   "metadata": {},
   "outputs": [],
   "source": [
    "threesixtyscan(log, verbose=True)"
   ]
  },
  {
   "cell_type": "code",
   "execution_count": null,
   "metadata": {},
   "outputs": [],
   "source": [
    "rotationstep(log, verbose=True)"
   ]
  },
  {
   "cell_type": "code",
   "execution_count": null,
   "metadata": {},
   "outputs": [],
   "source": [
    "exposure(log, verbose=True)"
   ]
  },
  {
   "cell_type": "code",
   "execution_count": null,
   "metadata": {},
   "outputs": [],
   "source": [
    "averaging(log, verbose=True)"
   ]
  },
  {
   "cell_type": "code",
   "execution_count": null,
   "metadata": {},
   "outputs": [],
   "source": [
    "duration(log, verbose=True)"
   ]
  },
  {
   "cell_type": "code",
   "execution_count": null,
   "metadata": {},
   "outputs": [],
   "source": [
    "pixelsize(log, verbose=True)"
   ]
  },
  {
   "cell_type": "code",
   "execution_count": null,
   "metadata": {
    "tags": []
   },
   "outputs": [],
   "source": [
    "Data.sample(n=5)"
   ]
  },
  {
   "cell_type": "code",
   "execution_count": null,
   "metadata": {},
   "outputs": [],
   "source": [
    "version(log, verbose=True)"
   ]
  },
  {
   "cell_type": "code",
   "execution_count": null,
   "metadata": {},
   "outputs": [],
   "source": [
    "ringremoval(log, verbose=True)"
   ]
  },
  {
   "cell_type": "code",
   "execution_count": null,
   "metadata": {},
   "outputs": [],
   "source": [
    "beamhardening(log, verbose=True)"
   ]
  },
  {
   "cell_type": "code",
   "execution_count": null,
   "metadata": {},
   "outputs": [],
   "source": [
    "Data['Scanner'] = [scanner(log) for log in Data['LogFile']]\n",
    "Data['Software'] = [controlsoftware(log) for log in Data['LogFile']]"
   ]
  },
  {
   "cell_type": "code",
   "execution_count": null,
   "metadata": {},
   "outputs": [],
   "source": [
    "Data['Voxelsize'] = [pixelsize(log) for log in Data['LogFile']]\n",
    "Data['Voxelsize_rounded'] = [pixelsize(log,rounded=True) for log in Data['LogFile']]"
   ]
  },
  {
   "cell_type": "code",
   "execution_count": null,
   "metadata": {},
   "outputs": [],
   "source": [
    "Data['Source'] = [source(log) for log in Data['LogFile']]\n",
    "Data['Camera'] = [camera(log) for log in Data['LogFile']]"
   ]
  },
  {
   "cell_type": "code",
   "execution_count": null,
   "metadata": {},
   "outputs": [],
   "source": [
    "Data['Voltage'] = [voltage(log) for log in Data['LogFile']]\n",
    "Data['Current'] = [current(log) for log in Data['LogFile']]\n",
    "Data['Filter'] = [whichfilter(log) for log in Data['LogFile']]"
   ]
  },
  {
   "cell_type": "code",
   "execution_count": null,
   "metadata": {},
   "outputs": [],
   "source": [
    "Data['Stacks'] = [stacks(log) for log in Data['LogFile']]\n",
    "Data['NumProj'] = [numproj(log) for log in Data['LogFile']]\n",
    "Data['ProjSize'] = [projectionsize(log) for log in Data['LogFile']]\n",
    "Data['RotationStep'] = [rotationstep(log) for log in Data['LogFile']]\n",
    "Data['Wide'] = [overlapscan(log) for log in Data.LogFile]"
   ]
  },
  {
   "cell_type": "code",
   "execution_count": null,
   "metadata": {},
   "outputs": [],
   "source": [
    "Data['RingRemoval'] = [ringremoval(log) for log in Data['LogFile']]\n",
    "Data['Beamhardening'] = [beamhardening(log) for log in Data['LogFile']]"
   ]
  },
  {
   "cell_type": "code",
   "execution_count": null,
   "metadata": {},
   "outputs": [],
   "source": [
    "Data['Exposure'] = [exposure(log) for log in Data['LogFile']]\n",
    "Data['Averaging'] = [averaging(log) for log in Data['LogFile']]"
   ]
  },
  {
   "cell_type": "code",
   "execution_count": null,
   "metadata": {},
   "outputs": [],
   "source": [
    "Data['Duration'] = [duration(log) for log in Data['LogFile']]"
   ]
  },
  {
   "cell_type": "code",
   "execution_count": null,
   "metadata": {},
   "outputs": [],
   "source": [
    "Data['Version'] = [version(log) for log in Data['LogFile']]"
   ]
  },
  {
   "cell_type": "code",
   "execution_count": null,
   "metadata": {},
   "outputs": [],
   "source": [
    "Data.to_csv('ScanningDetails.csv')"
   ]
  },
  {
   "cell_type": "code",
   "execution_count": null,
   "metadata": {},
   "outputs": [],
   "source": [
    "Data.sample(n=10)"
   ]
  },
  {
   "cell_type": "code",
   "execution_count": null,
   "metadata": {},
   "outputs": [],
   "source": [
    "# Copy-paste this to wherever you want the data in Markdown\n",
    "print(Data.to_markdown())"
   ]
  },
  {
   "cell_type": "code",
   "execution_count": null,
   "metadata": {},
   "outputs": [],
   "source": []
  },
  {
   "cell_type": "code",
   "execution_count": null,
   "metadata": {
    "tags": []
   },
   "outputs": [],
   "source": [
    "STOPHERE=="
   ]
  },
  {
   "cell_type": "markdown",
   "metadata": {},
   "source": [
    "----"
   ]
  },
  {
   "cell_type": "markdown",
   "metadata": {},
   "source": [
    "My microct blurb from http://simp.ly/publish/NBhZhH"
   ]
  },
  {
   "cell_type": "code",
   "execution_count": null,
   "metadata": {},
   "outputs": [],
   "source": [
    "print('Based on the %s log files in %s' % (len(Data), Root))"
   ]
  },
  {
   "cell_type": "code",
   "execution_count": null,
   "metadata": {},
   "outputs": [],
   "source": [
    "\" OR \".join(str(value) for value in Data.Scanner.unique())"
   ]
  },
  {
   "cell_type": "code",
   "execution_count": null,
   "metadata": {},
   "outputs": [],
   "source": [
    "print('After $PREPARATION, the',\n",
    "      len(Data),\n",
    "      'samples were imaged on a Bruker',\n",
    "      \" OR \".join(str(value) for value in Data.Scanner.unique()),\n",
    "      'high-resolution microtomography machine (Control software version',\n",
    "      \" OR \".join(str(value) for value in Data.Software.unique()) + \n",
    "      ', Bruker microCT, Kontich, Belgium).')"
   ]
  },
  {
   "cell_type": "code",
   "execution_count": null,
   "metadata": {},
   "outputs": [],
   "source": [
    "print('The machine is equipped with a',\n",
    "      \" OR \".join(str(value) for value in Data.Source.unique()),\n",
    "      'X-ray source and a',\n",
    "      \" OR \".join(str(value) for value in Data.Camera.unique()),\n",
    "      'camera.')"
   ]
  },
  {
   "cell_type": "code",
   "execution_count": null,
   "metadata": {},
   "outputs": [],
   "source": [
    "# if len(Data.Scanner.unique()) > 1:\n",
    "#     print('more')"
   ]
  },
  {
   "cell_type": "code",
   "execution_count": null,
   "metadata": {},
   "outputs": [],
   "source": [
    "print('The X-ray source was set to a tube voltage of', \n",
    "      \" OR \".join(str(value) for value in Data.Voltage.unique()),\n",
    "      'kV and a tube current of',\n",
    "      \" OR \".join(str(value) for value in Data.Current.unique()),\n",
    "      'µA, the x-ray spectrum was', end=' ')\n",
    "if Data.Filter.unique():\n",
    "    print('filtered by', \" OR \".join(str(value) for value in Data.Filter.unique()), end=' ')\n",
    "else:\n",
    "    print('not filtered', end=' ')\n",
    "print('prior to incidence onto the sample.')"
   ]
  },
  {
   "cell_type": "code",
   "execution_count": null,
   "metadata": {},
   "outputs": [],
   "source": [
    "# TODO: Flip the text of the filter to make it nicer"
   ]
  },
  {
   "cell_type": "code",
   "execution_count": null,
   "metadata": {},
   "outputs": [],
   "source": [
    "Data.Wide.unique()"
   ]
  },
  {
   "cell_type": "code",
   "execution_count": null,
   "metadata": {},
   "outputs": [],
   "source": [
    "print('For each sample, we recorded a set of', end=' ')\n",
    "if Data.Filter.unique():   \n",
    "    print(\" or \".join(str(value) for value in Data.Stacks.unique()),\n",
    "          'stacked scans overlapping the sample height, each stack was recorded with', end=' ')\n",
    "print(\" or \".join(str(value) for value in Data.NumProj.unique()), 'projections of', end=' ')\n",
    "for cs in Data.CamSize.unique():\n",
    "    print(cs[0], end=' ')\n",
    "print('x', end=' ')\n",
    "for cs in Data.CamSize.unique():\n",
    "    print(cs[1], end=' ')\n",
    "print('pixels', end=' ')\n",
    "if Data.Wide.unique():\n",
    "    print('(' + \" or \".join(str(value) for value in Data.Wide.unique()), 'projections stitched laterally)', end=' ')\n",
    "print('at every',\n",
    "      str(\" or \".join(str(value) for value in Data.RotationStep.unique())) + '° over a 180° sample rotation.')"
   ]
  },
  {
   "cell_type": "code",
   "execution_count": null,
   "metadata": {},
   "outputs": [],
   "source": [
    "Data.Exposure.mean()"
   ]
  },
  {
   "cell_type": "code",
   "execution_count": null,
   "metadata": {},
   "outputs": [],
   "source": [
    "print('Every single projection was exposed for',\n",
    "      \" or \".join(str(value) for value in Data.Exposure.unique()),\n",
    "      'ms,',\n",
    "      \" or \".join(str(value) for value in Data.Averaging.unique()),\n",
    "      'projections were averaged to one to greatly reduce image noise.')"
   ]
  },
  {
   "cell_type": "code",
   "execution_count": null,
   "metadata": {},
   "outputs": [],
   "source": [
    "log=Data.LogFile[1]"
   ]
  },
  {
   "cell_type": "code",
   "execution_count": null,
   "metadata": {},
   "outputs": [],
   "source": [
    "print('This resulted in a scan time of approximately ', end='')\n",
    "if duration(log)/3600 > 1:\n",
    "    # Scan took hours\n",
    "    print(timeformat(datetime.timedelta(seconds=duration(log)),\n",
    "                     '{hours} hours and {minutes} minutes'), end=' ')\n",
    "else:\n",
    "    print(timeformat(datetime.timedelta(seconds=duration(log)),\n",
    "                     '{minutes} minutes'), end=' ')\n",
    "if not stacks(log) == 1:\n",
    "    print('per stack and about',\n",
    "          timeformat(stacks(log) * datetime.timedelta(seconds=duration(log)),\n",
    "                     '{hours} hours and {minutes} minutes'), end=' ')\n",
    "print('per sample', end='')\n",
    "if stacks(log) == 1:\n",
    "    print('.')\n",
    "else:\n",
    "    print(' (with', stacks(log), 'stacks).')"
   ]
  },
  {
   "cell_type": "code",
   "execution_count": null,
   "metadata": {},
   "outputs": [],
   "source": [
    "print('In total, we scanned', Data.Stacks.sum(), 'stacks.')\n",
    "print('Each stack took approximately',\n",
    "      Data.Duration.mean() // 60,\n",
    "      'minutes (' + str(datetime.timedelta(seconds=Data.Duration.mean())) + ')')\n",
    "print('In total, we thus scanned for about', \n",
    "      timeformat(Data.Stacks.sum() *\n",
    "                 datetime.timedelta(seconds=Data.Duration.mean()),\n",
    "                 '{days} days, {hours} hours and {minutes} minutes.'))\n",
    "print('At the MIC rate, this would have cost',\n",
    "      int(round(Data.Stacks.sum() * Data.Duration.mean() / 60 / 60 * 75)),\n",
    "      'CHF!')"
   ]
  },
  {
   "cell_type": "code",
   "execution_count": null,
   "metadata": {},
   "outputs": [],
   "source": [
    "print('The projection images were then subsequently reconstructed into a 3D stack',\n",
    "      'of images with',\n",
    "      Data.Version.unique()[0][0],\n",
    "      '(Version',\n",
    "      version(log)[1] + ', Bruker microCT, Kontich Belgium)', end=' ')\n",
    "if ringremoval(log):\n",
    "    print('using a ring artifact correction of',\n",
    "          ringremoval(log), end='')\n",
    "if beamhardening(log):\n",
    "    print(' and a beam hardening correction of',\n",
    "          beamhardening(log),\n",
    "          '%.')\n",
    "else:\n",
    "    print('.')\n",
    "print('The whole process resulted in datasets with an isometric voxel size of',\n",
    "      \" or \".join(str(value) for value in Data.Voxelsize_rounded.unique()),\n",
    "      'µm.')    "
   ]
  },
  {
   "cell_type": "code",
   "execution_count": null,
   "metadata": {},
   "outputs": [],
   "source": [
    "# fulllog(log)"
   ]
  },
  {
   "cell_type": "code",
   "execution_count": null,
   "metadata": {},
   "outputs": [],
   "source": [
    "Data.Voxelsize.mean()"
   ]
  },
  {
   "cell_type": "code",
   "execution_count": null,
   "metadata": {},
   "outputs": [],
   "source": [
    "Data.Beamhardening"
   ]
  },
  {
   "cell_type": "code",
   "execution_count": null,
   "metadata": {},
   "outputs": [],
   "source": []
  }
 ],
 "metadata": {
  "kernelspec": {
   "display_name": "Python 3 (ipykernel)",
   "language": "python",
   "name": "python3"
  },
  "language_info": {
   "codemirror_mode": {
    "name": "ipython",
    "version": 3
   },
   "file_extension": ".py",
   "mimetype": "text/x-python",
   "name": "python",
   "nbconvert_exporter": "python",
   "pygments_lexer": "ipython3",
   "version": "3.11.0"
  }
 },
 "nbformat": 4,
 "nbformat_minor": 4
}
