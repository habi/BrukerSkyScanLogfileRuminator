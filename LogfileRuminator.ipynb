{
 "cells": [
  {
   "cell_type": "markdown",
   "metadata": {},
   "source": [
    "This notebook generates the paragraph about the microCT-scanning from logfiles of the scans."
   ]
  },
  {
   "cell_type": "code",
   "execution_count": 16,
   "metadata": {
    "tags": []
   },
   "outputs": [],
   "source": [
    "import platform\n",
    "import os\n",
    "import pandas\n",
    "import glob"
   ]
  },
  {
   "cell_type": "code",
   "execution_count": 12,
   "metadata": {
    "tags": []
   },
   "outputs": [],
   "source": [
    "from parsing_functions import *"
   ]
  },
  {
   "cell_type": "code",
   "execution_count": 20,
   "metadata": {
    "tags": []
   },
   "outputs": [
    {
     "name": "stdout",
     "output_type": "stream",
     "text": [
      "We are loading all the data from the folder logfiles\n"
     ]
    }
   ],
   "source": [
    "# Different locations if running either on Linux or Windows\n",
    "if 'Linux' in platform.system():\n",
    "    BasePath = os.path.join(os.path.sep, 'home', 'habi', '2214')\n",
    "elif 'Windows' in platform.system():\n",
    "    BasePath = os.path.join('N:', os.sep)\n",
    "Root = os.path.join(BasePath, os.sep, 'asdf')\n",
    "Root = 'logfiles'\n",
    "print('We are loading all the data from the folder %s' % Root)"
   ]
  },
  {
   "cell_type": "code",
   "execution_count": 21,
   "metadata": {
    "tags": []
   },
   "outputs": [],
   "source": [
    "# Make us a dataframe for saving all that we need\n",
    "Data = pandas.DataFrame()"
   ]
  },
  {
   "cell_type": "code",
   "execution_count": 22,
   "metadata": {
    "tags": []
   },
   "outputs": [],
   "source": [
    "# Get *all* log files\n",
    "# Using os.walk is way faster than using recursive glob.glob, see DataWrangling.ipynb for details\n",
    "# Not sorting the found logfiles is also making it quicker\n",
    "Data['LogFile'] = [os.path.join(root, name)\n",
    "                   for root, dirs, files in os.walk(Root)\n",
    "                   for name in files\n",
    "                   if name.endswith((\".log\"))]"
   ]
  },
  {
   "cell_type": "code",
   "execution_count": 23,
   "metadata": {
    "tags": []
   },
   "outputs": [
    {
     "data": {
      "text/html": [
       "<div>\n",
       "<style scoped>\n",
       "    .dataframe tbody tr th:only-of-type {\n",
       "        vertical-align: middle;\n",
       "    }\n",
       "\n",
       "    .dataframe tbody tr th {\n",
       "        vertical-align: top;\n",
       "    }\n",
       "\n",
       "    .dataframe thead th {\n",
       "        text-align: right;\n",
       "    }\n",
       "</style>\n",
       "<table border=\"1\" class=\"dataframe\">\n",
       "  <thead>\n",
       "    <tr style=\"text-align: right;\">\n",
       "      <th></th>\n",
       "      <th>LogFile</th>\n",
       "    </tr>\n",
       "  </thead>\n",
       "  <tbody>\n",
       "    <tr>\n",
       "      <th>0</th>\n",
       "      <td>logfiles/cichlids/103637/proj/103637~01.log</td>\n",
       "    </tr>\n",
       "    <tr>\n",
       "      <th>1</th>\n",
       "      <td>logfiles/cichlids/103637/proj/103637.log</td>\n",
       "    </tr>\n",
       "    <tr>\n",
       "      <th>2</th>\n",
       "      <td>logfiles/cichlids/103637/proj/103637~02.log</td>\n",
       "    </tr>\n",
       "    <tr>\n",
       "      <th>3</th>\n",
       "      <td>logfiles/cichlids/103637/proj/103637~00.log</td>\n",
       "    </tr>\n",
       "    <tr>\n",
       "      <th>4</th>\n",
       "      <td>logfiles/cichlids/103637/rec/103637_rec.log</td>\n",
       "    </tr>\n",
       "    <tr>\n",
       "      <th>...</th>\n",
       "      <td>...</td>\n",
       "    </tr>\n",
       "    <tr>\n",
       "      <th>1264</th>\n",
       "      <td>logfiles/tooth-battalion/81/proj/Tooth081~01.log</td>\n",
       "    </tr>\n",
       "    <tr>\n",
       "      <th>1265</th>\n",
       "      <td>logfiles/tooth-battalion/81/proj/Tooth081~04.log</td>\n",
       "    </tr>\n",
       "    <tr>\n",
       "      <th>1266</th>\n",
       "      <td>logfiles/tooth-battalion/81/proj/Tooth081~00.log</td>\n",
       "    </tr>\n",
       "    <tr>\n",
       "      <th>1267</th>\n",
       "      <td>logfiles/tooth-battalion/81/proj/Tooth081.log</td>\n",
       "    </tr>\n",
       "    <tr>\n",
       "      <th>1268</th>\n",
       "      <td>logfiles/tooth-battalion/81/rec/Tooth081_rec.log</td>\n",
       "    </tr>\n",
       "  </tbody>\n",
       "</table>\n",
       "<p>1269 rows × 1 columns</p>\n",
       "</div>"
      ],
      "text/plain": [
       "                                               LogFile\n",
       "0          logfiles/cichlids/103637/proj/103637~01.log\n",
       "1             logfiles/cichlids/103637/proj/103637.log\n",
       "2          logfiles/cichlids/103637/proj/103637~02.log\n",
       "3          logfiles/cichlids/103637/proj/103637~00.log\n",
       "4          logfiles/cichlids/103637/rec/103637_rec.log\n",
       "...                                                ...\n",
       "1264  logfiles/tooth-battalion/81/proj/Tooth081~01.log\n",
       "1265  logfiles/tooth-battalion/81/proj/Tooth081~04.log\n",
       "1266  logfiles/tooth-battalion/81/proj/Tooth081~00.log\n",
       "1267     logfiles/tooth-battalion/81/proj/Tooth081.log\n",
       "1268  logfiles/tooth-battalion/81/rec/Tooth081_rec.log\n",
       "\n",
       "[1269 rows x 1 columns]"
      ]
     },
     "execution_count": 23,
     "metadata": {},
     "output_type": "execute_result"
    }
   ],
   "source": [
    "Data"
   ]
  },
  {
   "cell_type": "code",
   "execution_count": 25,
   "metadata": {
    "tags": []
   },
   "outputs": [
    {
     "name": "stdout",
     "output_type": "stream",
     "text": [
      "[System]\n",
      "Scanner=SkyScan1272\n",
      "Instrument S/N=15G09089-B\n",
      "Software Version=1.4\n",
      "Home Directory=C:\\SkyScan1272\\SkyScan1272\n",
      "Source Type=HAMAMATSU_L11871_20\n",
      "Camera Type=XIMEA xiRAY16\n",
      "Camera Pixel Size (um)=7.4\n",
      "Camera X/Y Ratio=1.0023\n",
      "[User]\n",
      "User Name=haberthu\n",
      "Computer Name=ANAMIC02\n",
      "[Acquisition]\n",
      "Data Directory=D:\\Results\\EAWAG\\103637\\proj\n",
      "Filename Prefix=103637~01\n",
      "Filename Index Length=8\n",
      "Number Of Files= 1921\n",
      "Number Of Rows= 3280\n",
      "Number Of Columns= 4904\n",
      "Partial Width=OFF\n",
      "Image crop origin X=0\n",
      "Image crop origin Y=0\n",
      "Camera binning=1x1\n",
      "Image Rotation=-0.08200\n",
      "Optical Axis (line)= 1740\n",
      "Camera to Source (mm)=174.07267\n",
      "Object to Source (mm)=82.33100\n",
      "Source Voltage (kV)=  60\n",
      "Source Current (uA)= 166\n",
      "Image Pixel Size (um)=3.499972\n",
      "Scaled Image Pixel Size (um)=3.499972\n",
      "Image Format=TIFF\n",
      "Depth (bits)=16\n",
      "Reference Intensity=57000\n",
      "Camera position=Close\n",
      "Exposure (ms)=1981\n",
      "Rotation Step (deg)=0.100\n",
      "Use 360 Rotation=NO\n",
      "Scanning position=15.049 mm\n",
      "Frame Averaging=ON (3)\n",
      "Random Movement=OFF (30)\n",
      "Flat Field Correction=ON\n",
      "FF updating interval=275\n",
      "Geometrical Correction=ON\n",
      "Filter=Al 0.25mm\n",
      "Gantry direction=CC\n",
      "Rotation Direction=CC\n",
      "Type of Detector Motion=STEP AND SHOOT\n",
      "Scanning Trajectory=ROUND\n",
      "Beam position=0\n",
      "Skip extra frame=On\n",
      "Source spot size=Small\n",
      "Number Of Horizontal Offset Positions=1\n",
      "Number of connected scans=3\n",
      "Current scan number=2\n",
      "Number of lines to be reconstructed=2000\n",
      "Study Date and Time=23 Nov 2021  19h:55m:32s\n",
      "Scan duration=5h:22m:20s\n",
      "Maximum vertical TS=1.0\n",
      "Maximum horizontal TS=3.0\n",
      "TS modified at=November27,11:41:15 ---  1921 of 1921 projections\n",
      "TS modified according to=D:\\Results\\EAWAG\\103637\\proj\\103637~01_TS.csv\n",
      "TS modified at level=2\n",
      "Extra Image Shift In X suggested (micron)=-7.109745\n",
      "Extra Image Shift In Y suggested (micron)=-21.546476\n",
      "Extra CS Rotation suggested (deg)=-0.104893\n",
      "[Reconstruction]\n",
      "Pseudo-parallel projection calculated=1\n"
     ]
    },
    {
     "data": {
      "text/plain": [
       "()"
      ]
     },
     "execution_count": 25,
     "metadata": {},
     "output_type": "execute_result"
    }
   ],
   "source": [
    "fulllog(Data.LogFile[0])"
   ]
  },
  {
   "cell_type": "code",
   "execution_count": null,
   "metadata": {},
   "outputs": [],
   "source": []
  },
  {
   "cell_type": "markdown",
   "metadata": {},
   "source": [
    "We can also select a folder and go through *each* subfolder there..."
   ]
  },
  {
   "cell_type": "code",
   "execution_count": 22,
   "metadata": {},
   "outputs": [
    {
     "name": "stdout",
     "output_type": "stream",
     "text": [
      "We are loading all the data from /home/habi/research-storage-uct/Archiv_Tape/*Melly*\n"
     ]
    }
   ],
   "source": [
    "# Different locations if running either on Linux or Windows\n",
    "if 'Linux' in platform.system():\n",
    "    BasePath = os.path.join(os.sep, 'home', 'habi', 'research-storage-uct', 'Archiv_Tape')\n",
    "#     BasePath = os.path.join(os.sep, 'home', 'habi', '1272')\n",
    "else:\n",
    "    BasePath = os.path.join('R:\\\\')\n",
    "# Jean\n",
    "Root = os.path.join(BasePath, 'Rabbit-Grenoble')\n",
    "# ZMK\n",
    "Root = os.path.join(BasePath, 'ZahnmedizinischeKlinik', 'ToothBattallion')\n",
    "Root = os.path.join(BasePath, 'ZMK', 'ToothBattallion')\n",
    "# Christian\n",
    "Root = os.path.join(BasePath, 'Lung*Muehlfeld')\n",
    "# Tim/Ludovic\n",
    "Root = os.path.join(BasePath, '*Melly*')\n",
    "print('We are loading all the data from %s' % Root)"
   ]
  },
  {
   "cell_type": "code",
   "execution_count": 102,
   "metadata": {},
   "outputs": [],
   "source": [
    "# Make us a dataframe for saving all that we need\n",
    "Data = pandas.DataFrame()"
   ]
  },
  {
   "cell_type": "code",
   "execution_count": 103,
   "metadata": {},
   "outputs": [],
   "source": [
    "# Look only for folders: https://stackoverflow.com/a/38216530\n",
    "# Jean\n",
    "# Data['Folder'] = sorted(glob.glob(os.path.join(Root, '**', 'Ra*' + os.path.sep)))\n",
    "# ZMK\n",
    "# Data['Folder'] = sorted(glob.glob(os.path.join(Root, '*' + os.path.sep)))\n",
    "# Christian\n",
    "# Data['Folder'] = sorted(glob.glob(os.path.join(Root, '19*' + os.path.sep)))\n",
    "# Tim/Ludovic\n",
    "Data['Folder'] = sorted(glob.glob(os.path.join(Root, 'Rat[67]*' + os.path.sep)))\n",
    "Data['Scan'] = [os.path.basename(os.path.split(f)[0]) for f in Data['Folder']]"
   ]
  },
  {
   "cell_type": "code",
   "execution_count": 104,
   "metadata": {},
   "outputs": [
    {
     "data": {
      "text/html": [
       "<div>\n",
       "<style scoped>\n",
       "    .dataframe tbody tr th:only-of-type {\n",
       "        vertical-align: middle;\n",
       "    }\n",
       "\n",
       "    .dataframe tbody tr th {\n",
       "        vertical-align: top;\n",
       "    }\n",
       "\n",
       "    .dataframe thead th {\n",
       "        text-align: right;\n",
       "    }\n",
       "</style>\n",
       "<table border=\"1\" class=\"dataframe\">\n",
       "  <thead>\n",
       "    <tr style=\"text-align: right;\">\n",
       "      <th></th>\n",
       "      <th>Folder</th>\n",
       "      <th>Scan</th>\n",
       "    </tr>\n",
       "  </thead>\n",
       "  <tbody>\n",
       "    <tr>\n",
       "      <td>0</td>\n",
       "      <td>/home/habi/research-storage-uct/Archiv_Tape/He...</td>\n",
       "      <td>Rat60</td>\n",
       "    </tr>\n",
       "    <tr>\n",
       "      <td>1</td>\n",
       "      <td>/home/habi/research-storage-uct/Archiv_Tape/He...</td>\n",
       "      <td>Rat61</td>\n",
       "    </tr>\n",
       "    <tr>\n",
       "      <td>2</td>\n",
       "      <td>/home/habi/research-storage-uct/Archiv_Tape/He...</td>\n",
       "      <td>Rat62</td>\n",
       "    </tr>\n",
       "    <tr>\n",
       "      <td>3</td>\n",
       "      <td>/home/habi/research-storage-uct/Archiv_Tape/He...</td>\n",
       "      <td>Rat63</td>\n",
       "    </tr>\n",
       "    <tr>\n",
       "      <td>4</td>\n",
       "      <td>/home/habi/research-storage-uct/Archiv_Tape/He...</td>\n",
       "      <td>Rat64</td>\n",
       "    </tr>\n",
       "  </tbody>\n",
       "</table>\n",
       "</div>"
      ],
      "text/plain": [
       "                                              Folder   Scan\n",
       "0  /home/habi/research-storage-uct/Archiv_Tape/He...  Rat60\n",
       "1  /home/habi/research-storage-uct/Archiv_Tape/He...  Rat61\n",
       "2  /home/habi/research-storage-uct/Archiv_Tape/He...  Rat62\n",
       "3  /home/habi/research-storage-uct/Archiv_Tape/He...  Rat63\n",
       "4  /home/habi/research-storage-uct/Archiv_Tape/He...  Rat64"
      ]
     },
     "execution_count": 104,
     "metadata": {},
     "output_type": "execute_result"
    }
   ],
   "source": [
    "Data.head()"
   ]
  },
  {
   "cell_type": "code",
   "execution_count": 105,
   "metadata": {},
   "outputs": [],
   "source": [
    "# glob.glob(os.path.join(BasePath\n",
    "#                        , '*' + os.path.sep))"
   ]
  },
  {
   "cell_type": "code",
   "execution_count": 106,
   "metadata": {},
   "outputs": [
    {
     "name": "stdout",
     "output_type": "stream",
     "text": [
      "We have 12 folders to work with\n"
     ]
    }
   ],
   "source": [
    "# Grab a bunch of log files from a folder\n",
    "# We could do it in a list comprehension, but then it fails if we're still scanning a tooth\n",
    "# Data['LogFile'] = [sorted(glob.glob(os.path.join(f, '*.log')))[0] for f in Data['Folder']]\n",
    "for c, row in Data.iterrows():\n",
    "    try:\n",
    "        # Jean & Christian\n",
    "        # Data.at[c,'LogFile'] = sorted(glob.glob(os.path.join(row['Folder'], 'proj', '*.log')))[0]\n",
    "        # ZMK\n",
    "        # Data.at[c,'LogFile'] = sorted(glob.glob(os.path.join(row['Folder'], '*.log')))[0]\n",
    "        # Tim/Ludovic\n",
    "        Data.at[c,'LogFile'] = sorted(glob.glob(os.path.join(row['Folder'], 'overview', 'proj', '*.log')))[0]        \n",
    "    except IndexError:\n",
    "        print('No logfile found in %s, removing the folder' % row.Folder)\n",
    "        Data.at[c,'LogFile'] = 'scanning'\n",
    "Data = Data[Data['LogFile'] != 'scanning']\n",
    "Data.reset_index(drop=True, inplace=True)\n",
    "print('We have %s folders to work with' % (len(Data)))"
   ]
  },
  {
   "cell_type": "code",
   "execution_count": 107,
   "metadata": {},
   "outputs": [],
   "source": [
    "# # Choose the file selected manually\n",
    "# log = raw.files[0]"
   ]
  },
  {
   "cell_type": "code",
   "execution_count": 108,
   "metadata": {},
   "outputs": [],
   "source": [
    "# # Choose a file from the Dataframe with *all* log files\n",
    "# log = Data.LogFile[3]"
   ]
  },
  {
   "cell_type": "code",
   "execution_count": 109,
   "metadata": {},
   "outputs": [],
   "source": [
    "# print('We are looking at the values in %s' % log)"
   ]
  },
  {
   "cell_type": "code",
   "execution_count": 110,
   "metadata": {},
   "outputs": [],
   "source": [
    "# Load log file manually (probably needed on Windows)\n",
    "# log = 'f:\\Verdiana Lung\\Experiment01\\Mouse04\\proj\\Mouse04.log'"
   ]
  },
  {
   "cell_type": "code",
   "execution_count": 111,
   "metadata": {},
   "outputs": [],
   "source": [
    "# log = '/home/habi/research-storage-uct/Archiv_Tape/Rabbit-Grenoble/Rabbit-2-Grenoble2015/Rabbit-2-Overview-Grenoble2015-26-5um/proj/Rabbit-2-Overview-Grenoble2015-26-5um_.log'"
   ]
  },
  {
   "cell_type": "code",
   "execution_count": 47,
   "metadata": {},
   "outputs": [],
   "source": [
    "# log = '/home/habi/1272/ZMK/ToothBattallion/99/Tooth099.log'"
   ]
  },
  {
   "cell_type": "code",
   "execution_count": 48,
   "metadata": {},
   "outputs": [],
   "source": [
    "def fulllog(logfile):\n",
    "    with open(logfile, 'r') as f:\n",
    "        for line in f:\n",
    "            print(line.strip())\n",
    "    return()"
   ]
  },
  {
   "cell_type": "code",
   "execution_count": 49,
   "metadata": {},
   "outputs": [],
   "source": [
    "# fulllog(log)"
   ]
  },
  {
   "cell_type": "code",
   "execution_count": 50,
   "metadata": {},
   "outputs": [],
   "source": [
    "import re\n",
    "def scanner(logfile, verbose=False):\n",
    "    hardwareversion = []\n",
    "    with open(logfile, 'r') as f:\n",
    "        for line in f:\n",
    "            if 'Scanner' in line:\n",
    "                if verbose:\n",
    "                    print(line)\n",
    "                # Sometimes it's SkyScan, sometimes Skyscan, so we have to regex it :)\n",
    "                machine = re.split('Sky.can', line)[1].strip()\n",
    "            if 'Hardware' in line:\n",
    "                if verbose:\n",
    "                    print(line)\n",
    "                hardwareversion = line.split('=')[1].strip()\n",
    "    if hardwareversion:\n",
    "        return('SkyScan %s (Version %s)' % (machine, hardwareversion))\n",
    "    else:\n",
    "        return('SkyScan ' + machine)    "
   ]
  },
  {
   "cell_type": "code",
   "execution_count": 51,
   "metadata": {},
   "outputs": [],
   "source": [
    "# scanner(log, verbose=True)"
   ]
  },
  {
   "cell_type": "code",
   "execution_count": 52,
   "metadata": {},
   "outputs": [],
   "source": [
    "def controlsoftware(logfile, verbose=False):\n",
    "    with open(logfile, 'r') as f:\n",
    "        for line in f:\n",
    "            if 'Software' in line:\n",
    "                if verbose:\n",
    "                    print(line)\n",
    "                version = line.split('=')[1].strip()\n",
    "    return(version)"
   ]
  },
  {
   "cell_type": "code",
   "execution_count": 53,
   "metadata": {},
   "outputs": [],
   "source": [
    "# fulllog(log)"
   ]
  },
  {
   "cell_type": "code",
   "execution_count": 57,
   "metadata": {},
   "outputs": [],
   "source": [
    "# controlsoftware(log, verbose=True)"
   ]
  },
  {
   "cell_type": "code",
   "execution_count": 336,
   "metadata": {},
   "outputs": [],
   "source": [
    "def source(logfile, verbose=False):\n",
    "    with open(logfile, 'r') as f:\n",
    "        for line in f:\n",
    "            if 'Source T' in line:\n",
    "                if verbose:\n",
    "                    print(line)\n",
    "                source = line.split('=')[1].strip()\n",
    "                if 'HAMAMA' in source:\n",
    "                    # We split the string at '_L' to separate HAMAMATSU_L118...\n",
    "                    # Afterwards we properly capitalize HAMAMATSU and\n",
    "                    # join the strings back with ' L' to get the beginning of the reference back\n",
    "                    source = ' L'.join([s.capitalize() for s in source.split('_L')])\n",
    "    return(source)"
   ]
  },
  {
   "cell_type": "code",
   "execution_count": 339,
   "metadata": {},
   "outputs": [],
   "source": [
    "# source(log, verbose=True)"
   ]
  },
  {
   "cell_type": "code",
   "execution_count": 340,
   "metadata": {},
   "outputs": [],
   "source": [
    "def camera(logfile, verbose=False):\n",
    "    with open(logfile, 'r') as f:\n",
    "        for line in f:\n",
    "            if 'Camera T' in line or 'Camera=' in line:\n",
    "                if verbose:\n",
    "                    print(line)\n",
    "                cam = line.split('=')[1].strip().strip(' camera')\n",
    "    return(cam)"
   ]
  },
  {
   "cell_type": "code",
   "execution_count": 341,
   "metadata": {},
   "outputs": [],
   "source": [
    "# camera(log, verbose=True)"
   ]
  },
  {
   "cell_type": "code",
   "execution_count": 342,
   "metadata": {},
   "outputs": [],
   "source": [
    "def voltage(logfile, verbose=False):\n",
    "    with open(logfile, 'r') as f:\n",
    "        for line in f:\n",
    "            if 'Voltage' in line:\n",
    "                if verbose:\n",
    "                    print(line)\n",
    "                V = float(line.split('=')[1])\n",
    "    return(V)"
   ]
  },
  {
   "cell_type": "code",
   "execution_count": 343,
   "metadata": {},
   "outputs": [],
   "source": [
    "def current(logfile, verbose=False):\n",
    "    with open(logfile, 'r') as f:\n",
    "        for line in f:\n",
    "            if 'Source Current' in line:\n",
    "                if verbose:\n",
    "                    print(line)\n",
    "                A = float(line.split('=')[1])\n",
    "    return(A)"
   ]
  },
  {
   "cell_type": "code",
   "execution_count": 344,
   "metadata": {},
   "outputs": [],
   "source": [
    "# current(log, verbose=True)"
   ]
  },
  {
   "cell_type": "code",
   "execution_count": 345,
   "metadata": {},
   "outputs": [],
   "source": [
    "def whichfilter(logfile, verbose=False):\n",
    "    with open(logfile, 'r') as f:\n",
    "        for line in f:\n",
    "            if 'Filter=' in line:\n",
    "                if verbose:\n",
    "                    print(line)\n",
    "                fltr = line.split('=')[1].strip().replace('  ', ' ')\n",
    "                if fltr=='No Filter':\n",
    "                    fltr=False\n",
    "    return(fltr)"
   ]
  },
  {
   "cell_type": "code",
   "execution_count": 346,
   "metadata": {},
   "outputs": [],
   "source": [
    "# whichfilter(log, verbose=True)"
   ]
  },
  {
   "cell_type": "code",
   "execution_count": 347,
   "metadata": {},
   "outputs": [],
   "source": [
    "def numproj(logfile, verbose=False):\n",
    "    with open(logfile, 'r') as f:\n",
    "        for line in f:\n",
    "            if 'f Files' in line:\n",
    "                if verbose:\n",
    "                    print(line)\n",
    "                numproj = int(line.split('=')[1])\n",
    "    return(numproj)"
   ]
  },
  {
   "cell_type": "code",
   "execution_count": 348,
   "metadata": {},
   "outputs": [],
   "source": [
    "# numproj(log, verbose=True)"
   ]
  },
  {
   "cell_type": "code",
   "execution_count": 349,
   "metadata": {},
   "outputs": [],
   "source": [
    "def stacks(logfile, verbose=False):\n",
    "    with open(logfile, 'r') as f:\n",
    "        # If only one stack, then there's nothing in the log file\n",
    "        numstacks = 0\n",
    "        for line in f:\n",
    "            if 'b-scan' in line:\n",
    "                if verbose:\n",
    "                    print(line)\n",
    "                # The 'Sub-scan scan length' is listed in the log file\n",
    "                # We simply select the last one, and add 1, since Bruker also starts to count at zero\n",
    "                numstacks = int(line.split('[')[1].split(']')[0])\n",
    "    return(numstacks + 1)"
   ]
  },
  {
   "cell_type": "code",
   "execution_count": 350,
   "metadata": {},
   "outputs": [],
   "source": [
    "# stacks(log, verbose=True)"
   ]
  },
  {
   "cell_type": "code",
   "execution_count": 351,
   "metadata": {},
   "outputs": [],
   "source": [
    "def camerasize(logfile, verbose=False):\n",
    "    with open(logfile, 'r') as f:\n",
    "        for line in f:\n",
    "            if 'Columns' in line:\n",
    "                if verbose:\n",
    "                    print(line)\n",
    "                columns = int(line.split('=')[1])\n",
    "            if 'Rows' in line:\n",
    "                if verbose:\n",
    "                    print(line)\n",
    "                rows = int(line.split('=')[1])\n",
    "    return(columns, rows)"
   ]
  },
  {
   "cell_type": "code",
   "execution_count": 352,
   "metadata": {},
   "outputs": [],
   "source": [
    "def overlapscan(logfile, verbose=False):\n",
    "    with open(logfile, 'r') as f:\n",
    "        for line in f:\n",
    "            if 'Horizontal Off' in line:\n",
    "                if verbose:\n",
    "                    print(line)\n",
    "                wide = int(line.split('=')[1])\n",
    "                if wide == 1:\n",
    "                    wide=False\n",
    "    return(wide)"
   ]
  },
  {
   "cell_type": "code",
   "execution_count": 353,
   "metadata": {},
   "outputs": [],
   "source": [
    "# TODO: Detect 360° scans!\n",
    "# 'Use 360 Rotation=NO'"
   ]
  },
  {
   "cell_type": "code",
   "execution_count": 354,
   "metadata": {},
   "outputs": [],
   "source": [
    "def rotationstep(logfile, verbose=False):\n",
    "    with open(logfile, 'r') as f:\n",
    "        for line in f:\n",
    "            if 'Rotation Step' in line:\n",
    "                if verbose:\n",
    "                    print(line)\n",
    "                rotstep = float(line.split('=')[1])\n",
    "    return(rotstep)"
   ]
  },
  {
   "cell_type": "code",
   "execution_count": 355,
   "metadata": {},
   "outputs": [],
   "source": [
    "def exposure(logfile, verbose=False):\n",
    "    with open(logfile, 'r') as f:\n",
    "        for line in f:\n",
    "            if 'Exposure' in line:\n",
    "                if verbose:\n",
    "                    print(line)\n",
    "                exp = int(line.split('=')[1])\n",
    "    return(exp)"
   ]
  },
  {
   "cell_type": "code",
   "execution_count": 356,
   "metadata": {},
   "outputs": [],
   "source": [
    "def averaging(logfile, verbose=False):\n",
    "    with open(logfile, 'r') as f:\n",
    "        for line in f:\n",
    "            if 'Avera' in line:\n",
    "                if verbose:\n",
    "                    print(line)\n",
    "                details = line.split('=')[1]\n",
    "                if 'ON' in details:\n",
    "                    # https://stackoverflow.com/a/4894156/323100\n",
    "                    avg = int(details[details.find(\"(\")+1:details.find(\")\")])\n",
    "                else:\n",
    "                    avg=False\n",
    "    return(avg)"
   ]
  },
  {
   "cell_type": "code",
   "execution_count": 357,
   "metadata": {},
   "outputs": [],
   "source": [
    "import datetime\n",
    "def duration(logfile, verbose=False):\n",
    "    '''Returns scantime in *seconds*'''\n",
    "    with open(logfile, 'r') as f:\n",
    "        for line in f:\n",
    "            if 'Scan duration' in line:\n",
    "                if verbose:\n",
    "                    print(line)\n",
    "                duration = line.split('=')[1].strip()\n",
    "    # Sometimes it's '00:24:26', sometimes '0h:52m:53s' :-/\n",
    "    if 'h' in duration:\n",
    "        scantime = datetime.datetime.strptime(duration, '%Hh:%Mm:%Ss')\n",
    "    else:\n",
    "        scantime = datetime.datetime.strptime(duration, '%H:%M:%S')\n",
    "    return((scantime-datetime.datetime(1900,1,1)).total_seconds())"
   ]
  },
  {
   "cell_type": "code",
   "execution_count": 358,
   "metadata": {},
   "outputs": [],
   "source": [
    "# log = '/home/habi/1272/Chondrules Space Yogita/NWA-200813/rec/NWA_rec.log'"
   ]
  },
  {
   "cell_type": "code",
   "execution_count": 359,
   "metadata": {},
   "outputs": [],
   "source": [
    "def timeformat(tdelta, fmt):\n",
    "    # From https://stackoverflow.com/a/8907269/323100\n",
    "    d = {\"days\": tdelta.days}\n",
    "    d[\"hours\"], rem = divmod(tdelta.seconds, 3600)\n",
    "    d[\"minutes\"], d[\"seconds\"] = divmod(rem, 60)\n",
    "    return fmt.format(**d)"
   ]
  },
  {
   "cell_type": "code",
   "execution_count": 360,
   "metadata": {},
   "outputs": [],
   "source": [
    "# log = Data.LogFile[66]"
   ]
  },
  {
   "cell_type": "code",
   "execution_count": 361,
   "metadata": {},
   "outputs": [
    {
     "name": "stdout",
     "output_type": "stream",
     "text": [
      "Each stack took 2 hours and 48 minutes to scan\n"
     ]
    }
   ],
   "source": [
    "print('Each stack took', end=' ')\n",
    "if duration(log)/3600 > 1:\n",
    "    # Scan took hours\n",
    "    print(timeformat(datetime.timedelta(seconds=duration(log)),\n",
    "                     '{hours} hours and {minutes} minutes'), end=' ')\n",
    "else:\n",
    "    print(timeformat(datetime.timedelta(seconds=duration(log)),\n",
    "                     '{minutes} minutes'), end=' ')\n",
    "print('to scan')"
   ]
  },
  {
   "cell_type": "code",
   "execution_count": 362,
   "metadata": {},
   "outputs": [],
   "source": [
    "def pixelsize(logfile, verbose=False):\n",
    "    with open(logfile, 'r') as f:\n",
    "        for line in f:\n",
    "            if 'Image Pixel' in line and 'Scaled' not in line:\n",
    "                if verbose:\n",
    "                    print(line)\n",
    "                pixelsize = float(line.split('=')[1])\n",
    "    return(pixelsize)"
   ]
  },
  {
   "cell_type": "code",
   "execution_count": 363,
   "metadata": {},
   "outputs": [],
   "source": [
    "def version(logfile, verbose=False):\n",
    "    with open(logfile, 'r') as f:\n",
    "        for line in f:\n",
    "            if 'Reconstruction Program' in line:\n",
    "                if verbose:\n",
    "                    print(line)\n",
    "                Program = line.split('=')[1].strip()\n",
    "            if 'Program Version' in line:\n",
    "                if verbose:\n",
    "                    print(line)\n",
    "                Version = line.split('sion:')[1].strip()\n",
    "    return(Program, Version)"
   ]
  },
  {
   "cell_type": "code",
   "execution_count": 364,
   "metadata": {},
   "outputs": [],
   "source": [
    "def ringremoval(logfile, verbose=False):\n",
    "    with open(logfile, 'r') as f:\n",
    "        for line in f:\n",
    "            if 'Ring' in line:\n",
    "                if verbose:\n",
    "                    print(line)\n",
    "                ring = int(line.split('=')[1].strip())\n",
    "    return(ring)"
   ]
  },
  {
   "cell_type": "code",
   "execution_count": 365,
   "metadata": {},
   "outputs": [],
   "source": [
    "# ringremoval(log, verbose=True)"
   ]
  },
  {
   "cell_type": "code",
   "execution_count": 366,
   "metadata": {},
   "outputs": [],
   "source": [
    "def beamhardening(logfile, verbose=False):\n",
    "    with open(logfile, 'r') as f:\n",
    "        for line in f:\n",
    "            if 'ardeni' in line:\n",
    "                if verbose:\n",
    "                    print(line)\n",
    "                bh = int(line.split('=')[1].strip())\n",
    "    return(bh)"
   ]
  },
  {
   "cell_type": "code",
   "execution_count": 367,
   "metadata": {},
   "outputs": [],
   "source": [
    "# beamhardening(log, verbose=True)"
   ]
  },
  {
   "cell_type": "code",
   "execution_count": 368,
   "metadata": {},
   "outputs": [],
   "source": [
    "Data['Scanner'] = [scanner(log) for log in Data['LogFile']]\n",
    "Data['Software'] = [controlsoftware(log) for log in Data['LogFile']]"
   ]
  },
  {
   "cell_type": "code",
   "execution_count": 369,
   "metadata": {},
   "outputs": [],
   "source": [
    "Data['Voxelsize'] = [pixelsize(log) for log in Data['LogFile']]\n",
    "Data['Voxelsize_rounded'] = [round(vs,1) for vs in Data['Voxelsize']]"
   ]
  },
  {
   "cell_type": "code",
   "execution_count": 370,
   "metadata": {},
   "outputs": [],
   "source": [
    "Data['Source'] = [source(log) for log in Data['LogFile']]\n",
    "Data['Camera'] = [camera(log) for log in Data['LogFile']]"
   ]
  },
  {
   "cell_type": "code",
   "execution_count": 371,
   "metadata": {},
   "outputs": [],
   "source": [
    "Data['Voltage'] = [voltage(log) for log in Data['LogFile']]\n",
    "Data['Current'] = [current(log) for log in Data['LogFile']]\n",
    "Data['Filter'] = [whichfilter(log) for log in Data['LogFile']]"
   ]
  },
  {
   "cell_type": "code",
   "execution_count": 372,
   "metadata": {},
   "outputs": [],
   "source": [
    "Data['Stacks'] = [stacks(log) for log in Data['LogFile']]\n",
    "Data['NumProj'] = [numproj(log) for log in Data['LogFile']]\n",
    "Data['CamSize'] = [camerasize(log) for log in Data['LogFile']]\n",
    "Data['RotationStep'] = [rotationstep(log) for log in Data['LogFile']]\n",
    "Data['Wide'] = [overlapscan(log) for log in Data.LogFile]"
   ]
  },
  {
   "cell_type": "code",
   "execution_count": 373,
   "metadata": {},
   "outputs": [],
   "source": [
    "Data['RingRemoval'] = [ringremoval(log) for log in Data['LogFile']]\n",
    "Data['Beamhardening'] = [beamhardening(log) for log in Data['LogFile']]"
   ]
  },
  {
   "cell_type": "code",
   "execution_count": 374,
   "metadata": {},
   "outputs": [],
   "source": [
    "Data['Exposure'] = [exposure(log) for log in Data['LogFile']]\n",
    "Data['Averaging'] = [averaging(log) for log in Data['LogFile']]"
   ]
  },
  {
   "cell_type": "code",
   "execution_count": 375,
   "metadata": {},
   "outputs": [],
   "source": [
    "Data['Duration'] = [duration(log) for log in Data['LogFile']]"
   ]
  },
  {
   "cell_type": "code",
   "execution_count": 376,
   "metadata": {},
   "outputs": [],
   "source": [
    "Data['Version'] = [version(log) for log in Data['LogFile']]"
   ]
  },
  {
   "cell_type": "code",
   "execution_count": 377,
   "metadata": {},
   "outputs": [],
   "source": [
    "Data.to_excel('Christian.xls')"
   ]
  },
  {
   "cell_type": "code",
   "execution_count": 378,
   "metadata": {},
   "outputs": [
    {
     "data": {
      "text/html": [
       "<div>\n",
       "<style scoped>\n",
       "    .dataframe tbody tr th:only-of-type {\n",
       "        vertical-align: middle;\n",
       "    }\n",
       "\n",
       "    .dataframe tbody tr th {\n",
       "        vertical-align: top;\n",
       "    }\n",
       "\n",
       "    .dataframe thead th {\n",
       "        text-align: right;\n",
       "    }\n",
       "</style>\n",
       "<table border=\"1\" class=\"dataframe\">\n",
       "  <thead>\n",
       "    <tr style=\"text-align: right;\">\n",
       "      <th></th>\n",
       "      <th>Folder</th>\n",
       "      <th>Scan</th>\n",
       "      <th>LogFile</th>\n",
       "      <th>Scanner</th>\n",
       "      <th>Software</th>\n",
       "      <th>Voxelsize</th>\n",
       "      <th>Voxelsize_rounded</th>\n",
       "      <th>Source</th>\n",
       "      <th>Camera</th>\n",
       "      <th>Voltage</th>\n",
       "      <th>...</th>\n",
       "      <th>NumProj</th>\n",
       "      <th>CamSize</th>\n",
       "      <th>RotationStep</th>\n",
       "      <th>Wide</th>\n",
       "      <th>RingRemoval</th>\n",
       "      <th>Beamhardening</th>\n",
       "      <th>Exposure</th>\n",
       "      <th>Averaging</th>\n",
       "      <th>Duration</th>\n",
       "      <th>Version</th>\n",
       "    </tr>\n",
       "  </thead>\n",
       "  <tbody>\n",
       "    <tr>\n",
       "      <td>0</td>\n",
       "      <td>/home/habi/research-storage-uct/Archiv_Tape/He...</td>\n",
       "      <td>Rat60</td>\n",
       "      <td>/home/habi/research-storage-uct/Archiv_Tape/He...</td>\n",
       "      <td>SkyScan 1272</td>\n",
       "      <td>1.1.19</td>\n",
       "      <td>10.000036</td>\n",
       "      <td>10.0</td>\n",
       "      <td>Hamamatsu L11871_20</td>\n",
       "      <td>XIMEA xiRAY16</td>\n",
       "      <td>80.0</td>\n",
       "      <td>...</td>\n",
       "      <td>948</td>\n",
       "      <td>(2452, 1640)</td>\n",
       "      <td>0.2</td>\n",
       "      <td>False</td>\n",
       "      <td>14</td>\n",
       "      <td>0</td>\n",
       "      <td>2349</td>\n",
       "      <td>3</td>\n",
       "      <td>10100.0</td>\n",
       "      <td>(NRecon, 1.7.4.6)</td>\n",
       "    </tr>\n",
       "    <tr>\n",
       "      <td>1</td>\n",
       "      <td>/home/habi/research-storage-uct/Archiv_Tape/He...</td>\n",
       "      <td>Rat61</td>\n",
       "      <td>/home/habi/research-storage-uct/Archiv_Tape/He...</td>\n",
       "      <td>SkyScan 1272</td>\n",
       "      <td>1.1.19</td>\n",
       "      <td>10.000036</td>\n",
       "      <td>10.0</td>\n",
       "      <td>Hamamatsu L11871_20</td>\n",
       "      <td>XIMEA xiRAY16</td>\n",
       "      <td>80.0</td>\n",
       "      <td>...</td>\n",
       "      <td>948</td>\n",
       "      <td>(2452, 1640)</td>\n",
       "      <td>0.2</td>\n",
       "      <td>False</td>\n",
       "      <td>14</td>\n",
       "      <td>0</td>\n",
       "      <td>2349</td>\n",
       "      <td>3</td>\n",
       "      <td>10100.0</td>\n",
       "      <td>(NRecon, 1.7.4.6)</td>\n",
       "    </tr>\n",
       "    <tr>\n",
       "      <td>2</td>\n",
       "      <td>/home/habi/research-storage-uct/Archiv_Tape/He...</td>\n",
       "      <td>Rat62</td>\n",
       "      <td>/home/habi/research-storage-uct/Archiv_Tape/He...</td>\n",
       "      <td>SkyScan 1272</td>\n",
       "      <td>1.1.19</td>\n",
       "      <td>10.000036</td>\n",
       "      <td>10.0</td>\n",
       "      <td>Hamamatsu L11871_20</td>\n",
       "      <td>XIMEA xiRAY16</td>\n",
       "      <td>80.0</td>\n",
       "      <td>...</td>\n",
       "      <td>948</td>\n",
       "      <td>(2452, 1640)</td>\n",
       "      <td>0.2</td>\n",
       "      <td>False</td>\n",
       "      <td>14</td>\n",
       "      <td>0</td>\n",
       "      <td>2349</td>\n",
       "      <td>3</td>\n",
       "      <td>10180.0</td>\n",
       "      <td>(NRecon, 1.7.4.6)</td>\n",
       "    </tr>\n",
       "    <tr>\n",
       "      <td>3</td>\n",
       "      <td>/home/habi/research-storage-uct/Archiv_Tape/He...</td>\n",
       "      <td>Rat63</td>\n",
       "      <td>/home/habi/research-storage-uct/Archiv_Tape/He...</td>\n",
       "      <td>SkyScan 1272</td>\n",
       "      <td>1.1.19</td>\n",
       "      <td>10.000036</td>\n",
       "      <td>10.0</td>\n",
       "      <td>Hamamatsu L11871_20</td>\n",
       "      <td>XIMEA xiRAY16</td>\n",
       "      <td>80.0</td>\n",
       "      <td>...</td>\n",
       "      <td>948</td>\n",
       "      <td>(2452, 1640)</td>\n",
       "      <td>0.2</td>\n",
       "      <td>False</td>\n",
       "      <td>14</td>\n",
       "      <td>0</td>\n",
       "      <td>2349</td>\n",
       "      <td>3</td>\n",
       "      <td>10133.0</td>\n",
       "      <td>(NRecon, 1.7.4.6)</td>\n",
       "    </tr>\n",
       "    <tr>\n",
       "      <td>4</td>\n",
       "      <td>/home/habi/research-storage-uct/Archiv_Tape/He...</td>\n",
       "      <td>Rat64</td>\n",
       "      <td>/home/habi/research-storage-uct/Archiv_Tape/He...</td>\n",
       "      <td>SkyScan 1272</td>\n",
       "      <td>1.1.19</td>\n",
       "      <td>10.000036</td>\n",
       "      <td>10.0</td>\n",
       "      <td>Hamamatsu L11871_20</td>\n",
       "      <td>XIMEA xiRAY16</td>\n",
       "      <td>80.0</td>\n",
       "      <td>...</td>\n",
       "      <td>948</td>\n",
       "      <td>(2452, 1640)</td>\n",
       "      <td>0.2</td>\n",
       "      <td>False</td>\n",
       "      <td>14</td>\n",
       "      <td>0</td>\n",
       "      <td>2349</td>\n",
       "      <td>3</td>\n",
       "      <td>10110.0</td>\n",
       "      <td>(NRecon, 1.7.4.6)</td>\n",
       "    </tr>\n",
       "  </tbody>\n",
       "</table>\n",
       "<p>5 rows × 23 columns</p>\n",
       "</div>"
      ],
      "text/plain": [
       "                                              Folder   Scan  \\\n",
       "0  /home/habi/research-storage-uct/Archiv_Tape/He...  Rat60   \n",
       "1  /home/habi/research-storage-uct/Archiv_Tape/He...  Rat61   \n",
       "2  /home/habi/research-storage-uct/Archiv_Tape/He...  Rat62   \n",
       "3  /home/habi/research-storage-uct/Archiv_Tape/He...  Rat63   \n",
       "4  /home/habi/research-storage-uct/Archiv_Tape/He...  Rat64   \n",
       "\n",
       "                                             LogFile       Scanner Software  \\\n",
       "0  /home/habi/research-storage-uct/Archiv_Tape/He...  SkyScan 1272   1.1.19   \n",
       "1  /home/habi/research-storage-uct/Archiv_Tape/He...  SkyScan 1272   1.1.19   \n",
       "2  /home/habi/research-storage-uct/Archiv_Tape/He...  SkyScan 1272   1.1.19   \n",
       "3  /home/habi/research-storage-uct/Archiv_Tape/He...  SkyScan 1272   1.1.19   \n",
       "4  /home/habi/research-storage-uct/Archiv_Tape/He...  SkyScan 1272   1.1.19   \n",
       "\n",
       "   Voxelsize  Voxelsize_rounded               Source         Camera  Voltage  \\\n",
       "0  10.000036               10.0  Hamamatsu L11871_20  XIMEA xiRAY16     80.0   \n",
       "1  10.000036               10.0  Hamamatsu L11871_20  XIMEA xiRAY16     80.0   \n",
       "2  10.000036               10.0  Hamamatsu L11871_20  XIMEA xiRAY16     80.0   \n",
       "3  10.000036               10.0  Hamamatsu L11871_20  XIMEA xiRAY16     80.0   \n",
       "4  10.000036               10.0  Hamamatsu L11871_20  XIMEA xiRAY16     80.0   \n",
       "\n",
       "   ...  NumProj       CamSize  RotationStep   Wide RingRemoval  Beamhardening  \\\n",
       "0  ...      948  (2452, 1640)           0.2  False          14              0   \n",
       "1  ...      948  (2452, 1640)           0.2  False          14              0   \n",
       "2  ...      948  (2452, 1640)           0.2  False          14              0   \n",
       "3  ...      948  (2452, 1640)           0.2  False          14              0   \n",
       "4  ...      948  (2452, 1640)           0.2  False          14              0   \n",
       "\n",
       "   Exposure  Averaging  Duration            Version  \n",
       "0      2349          3   10100.0  (NRecon, 1.7.4.6)  \n",
       "1      2349          3   10100.0  (NRecon, 1.7.4.6)  \n",
       "2      2349          3   10180.0  (NRecon, 1.7.4.6)  \n",
       "3      2349          3   10133.0  (NRecon, 1.7.4.6)  \n",
       "4      2349          3   10110.0  (NRecon, 1.7.4.6)  \n",
       "\n",
       "[5 rows x 23 columns]"
      ]
     },
     "execution_count": 378,
     "metadata": {},
     "output_type": "execute_result"
    }
   ],
   "source": [
    "Data.head()"
   ]
  },
  {
   "cell_type": "code",
   "execution_count": 379,
   "metadata": {},
   "outputs": [],
   "source": [
    "# for i in Data:\n",
    "#     print(10 * '-', i, 20 * '-')\n",
    "#     print(Data[i].unique())"
   ]
  },
  {
   "cell_type": "code",
   "execution_count": 380,
   "metadata": {},
   "outputs": [],
   "source": [
    "# Christian is only interested in the fist two scans\n",
    "# Data.drop(Data.index[2:], inplace=True)"
   ]
  },
  {
   "cell_type": "markdown",
   "metadata": {},
   "source": [
    "----"
   ]
  },
  {
   "cell_type": "markdown",
   "metadata": {},
   "source": [
    "My microct blurb from http://simp.ly/publish/NBhZhH"
   ]
  },
  {
   "cell_type": "code",
   "execution_count": 383,
   "metadata": {},
   "outputs": [
    {
     "name": "stdout",
     "output_type": "stream",
     "text": [
      "Based on the 12 log files in /home/habi/research-storage-uct/Archiv_Tape/*Melly*\n"
     ]
    }
   ],
   "source": [
    "print('Based on the %s log files in %s' % (len(Data), Root))"
   ]
  },
  {
   "cell_type": "code",
   "execution_count": 385,
   "metadata": {},
   "outputs": [
    {
     "data": {
      "text/plain": [
       "'SkyScan 1272'"
      ]
     },
     "execution_count": 385,
     "metadata": {},
     "output_type": "execute_result"
    }
   ],
   "source": [
    "\" OR \".join(str(value) for value in Data.Scanner.unique())"
   ]
  },
  {
   "cell_type": "code",
   "execution_count": 386,
   "metadata": {},
   "outputs": [
    {
     "name": "stdout",
     "output_type": "stream",
     "text": [
      "After $PREPARATION, the 12 samples were imaged on a Bruker SkyScan 1272 high-resolution microtomography machine (Control software version 1.1.19, Bruker microCT, Kontich, Belgium).\n"
     ]
    }
   ],
   "source": [
    "print('After $PREPARATION, the',\n",
    "      len(Data),\n",
    "      'samples were imaged on a Bruker',\n",
    "      \" OR \".join(str(value) for value in Data.Scanner.unique()),\n",
    "      'high-resolution microtomography machine (Control software version',\n",
    "      \" OR \".join(str(value) for value in Data.Software.unique()) + \n",
    "      ', Bruker microCT, Kontich, Belgium).')"
   ]
  },
  {
   "cell_type": "code",
   "execution_count": 388,
   "metadata": {},
   "outputs": [
    {
     "name": "stdout",
     "output_type": "stream",
     "text": [
      "The machine is equipped with a Hamamatsu L11871_20 X-ray source and a XIMEA xiRAY16 camera.\n"
     ]
    }
   ],
   "source": [
    "print('The machine is equipped with a',\n",
    "      \" OR \".join(str(value) for value in Data.Source.unique()),\n",
    "      'X-ray source and a',\n",
    "      \" OR \".join(str(value) for value in Data.Camera.unique()),\n",
    "      'camera.')"
   ]
  },
  {
   "cell_type": "code",
   "execution_count": 389,
   "metadata": {},
   "outputs": [],
   "source": [
    "# if len(Data.Scanner.unique()) > 1:\n",
    "#     print('more')"
   ]
  },
  {
   "cell_type": "code",
   "execution_count": 391,
   "metadata": {},
   "outputs": [
    {
     "name": "stdout",
     "output_type": "stream",
     "text": [
      "The X-ray source was set to a tube voltage of 80.0 kV and a tube current of 125.0 µA, the x-ray spectrum was filtered by Al 1mm prior to incidence onto the sample.\n"
     ]
    }
   ],
   "source": [
    "print('The X-ray source was set to a tube voltage of', \n",
    "      \" OR \".join(str(value) for value in Data.Voltage.unique()),\n",
    "      'kV and a tube current of',\n",
    "      \" OR \".join(str(value) for value in Data.Current.unique()),\n",
    "      'µA, the x-ray spectrum was', end=' ')\n",
    "if Data.Filter.unique():\n",
    "    print('filtered by', \" OR \".join(str(value) for value in Data.Filter.unique()), end=' ')\n",
    "else:\n",
    "    print('not filtered', end=' ')\n",
    "print('prior to incidence onto the sample.')"
   ]
  },
  {
   "cell_type": "code",
   "execution_count": 392,
   "metadata": {},
   "outputs": [],
   "source": [
    "# TODO: Flip the text of the filter to make it nicer"
   ]
  },
  {
   "cell_type": "code",
   "execution_count": 393,
   "metadata": {},
   "outputs": [
    {
     "data": {
      "text/plain": [
       "array([False])"
      ]
     },
     "execution_count": 393,
     "metadata": {},
     "output_type": "execute_result"
    }
   ],
   "source": [
    "Data.Wide.unique()"
   ]
  },
  {
   "cell_type": "code",
   "execution_count": 394,
   "metadata": {},
   "outputs": [
    {
     "name": "stdout",
     "output_type": "stream",
     "text": [
      "For each sample, we recorded a set of 2 or 3 stacked scans overlapping the sample height, each stack was recorded with 948 projections of 2452 x 1640 pixels at every 0.2° over a 180° sample rotation.\n"
     ]
    }
   ],
   "source": [
    "print('For each sample, we recorded a set of', end=' ')\n",
    "if Data.Filter.unique():   \n",
    "    print(\" or \".join(str(value) for value in Data.Stacks.unique()),\n",
    "          'stacked scans overlapping the sample height, each stack was recorded with', end=' ')\n",
    "print(\" or \".join(str(value) for value in Data.NumProj.unique()), 'projections of', end=' ')\n",
    "for cs in Data.CamSize.unique():\n",
    "    print(cs[0], end=' ')\n",
    "print('x', end=' ')\n",
    "for cs in Data.CamSize.unique():\n",
    "    print(cs[1], end=' ')\n",
    "print('pixels', end=' ')\n",
    "if Data.Wide.unique():\n",
    "    print('(' + \" or \".join(str(value) for value in Data.Wide.unique()), 'projections stitched laterally)', end=' ')\n",
    "print('at every',\n",
    "      str(\" or \".join(str(value) for value in Data.RotationStep.unique())) + '° over a 180° sample rotation.')"
   ]
  },
  {
   "cell_type": "code",
   "execution_count": 397,
   "metadata": {},
   "outputs": [
    {
     "data": {
      "text/plain": [
       "2286.0"
      ]
     },
     "execution_count": 397,
     "metadata": {},
     "output_type": "execute_result"
    }
   ],
   "source": [
    "Data.Exposure.mean()"
   ]
  },
  {
   "cell_type": "code",
   "execution_count": 396,
   "metadata": {},
   "outputs": [
    {
     "name": "stdout",
     "output_type": "stream",
     "text": [
      "Every single projection was exposed for 2349 or 1593 ms, 3 projections were averaged to one to greatly reduce image noise.\n"
     ]
    }
   ],
   "source": [
    "print('Every single projection was exposed for',\n",
    "      \" or \".join(str(value) for value in Data.Exposure.unique()),\n",
    "      'ms,',\n",
    "      \" or \".join(str(value) for value in Data.Averaging.unique()),\n",
    "      'projections were averaged to one to greatly reduce image noise.')"
   ]
  },
  {
   "cell_type": "code",
   "execution_count": 404,
   "metadata": {},
   "outputs": [],
   "source": [
    "log=Data.LogFile[1]"
   ]
  },
  {
   "cell_type": "code",
   "execution_count": 405,
   "metadata": {},
   "outputs": [
    {
     "name": "stdout",
     "output_type": "stream",
     "text": [
      "This resulted in a scan time of approximately 2 hours and 48 minutes per stack and about 5 hours and 36 minutes per sample (with 2 stacks).\n"
     ]
    }
   ],
   "source": [
    "print('This resulted in a scan time of approximately ', end='')\n",
    "if duration(log)/3600 > 1:\n",
    "    # Scan took hours\n",
    "    print(timeformat(datetime.timedelta(seconds=duration(log)),\n",
    "                     '{hours} hours and {minutes} minutes'), end=' ')\n",
    "else:\n",
    "    print(timeformat(datetime.timedelta(seconds=duration(log)),\n",
    "                     '{minutes} minutes'), end=' ')\n",
    "if not stacks(log) == 1:\n",
    "    print('per stack and about',\n",
    "          timeformat(stacks(log) * datetime.timedelta(seconds=duration(log)),\n",
    "                     '{hours} hours and {minutes} minutes'), end=' ')\n",
    "print('per sample', end='')\n",
    "if stacks(log) == 1:\n",
    "    print('.')\n",
    "else:\n",
    "    print(' (with', stacks(log), 'stacks).')"
   ]
  },
  {
   "cell_type": "code",
   "execution_count": 406,
   "metadata": {},
   "outputs": [
    {
     "name": "stdout",
     "output_type": "stream",
     "text": [
      "In total, we scanned 26 stacks.\n",
      "Each stack took approximately 164.0 minutes (2:44:37.250000)\n",
      "In total, we thus scanned for about 2 days, 23 hours and 20 minutes.\n",
      "At the MIC rate, this would have cost 5350 CHF!\n"
     ]
    }
   ],
   "source": [
    "print('In total, we scanned', Data.Stacks.sum(), 'stacks.')\n",
    "print('Each stack took approximately',\n",
    "      Data.Duration.mean() // 60,\n",
    "      'minutes (' + str(datetime.timedelta(seconds=Data.Duration.mean())) + ')')\n",
    "print('In total, we thus scanned for about', \n",
    "      timeformat(Data.Stacks.sum() *\n",
    "                 datetime.timedelta(seconds=Data.Duration.mean()),\n",
    "                 '{days} days, {hours} hours and {minutes} minutes.'))\n",
    "print('At the MIC rate, this would have cost',\n",
    "      int(round(Data.Stacks.sum() * Data.Duration.mean() / 60 / 60 * 75)),\n",
    "      'CHF!')"
   ]
  },
  {
   "cell_type": "code",
   "execution_count": 407,
   "metadata": {},
   "outputs": [
    {
     "name": "stdout",
     "output_type": "stream",
     "text": [
      "The projection images were then subsequently reconstructed into a 3D stack of images with NRecon (Version 1.7.4.6, Bruker microCT, Kontich Belgium) using a ring artifact correction of 14.\n",
      "The whole process resulted in datasets with an isometric voxel size of 10.0 µm.\n"
     ]
    }
   ],
   "source": [
    "print('The projection images were then subsequently reconstructed into a 3D stack',\n",
    "      'of images with',\n",
    "      Data.Version.unique()[0][0],\n",
    "      '(Version',\n",
    "      version(log)[1] + ', Bruker microCT, Kontich Belgium)', end=' ')\n",
    "if ringremoval(log):\n",
    "    print('using a ring artifact correction of',\n",
    "          ringremoval(log), end='')\n",
    "if beamhardening(log):\n",
    "    print(' and a beam hardening correction of',\n",
    "          beamhardening(log),\n",
    "          '%.')\n",
    "else:\n",
    "    print('.')\n",
    "print('The whole process resulted in datasets with an isometric voxel size of',\n",
    "      \" or \".join(str(value) for value in Data.Voxelsize_rounded.unique()),\n",
    "      'µm.')    "
   ]
  },
  {
   "cell_type": "code",
   "execution_count": 138,
   "metadata": {},
   "outputs": [],
   "source": [
    "# fulllog(log)"
   ]
  },
  {
   "cell_type": "code",
   "execution_count": 282,
   "metadata": {},
   "outputs": [
    {
     "data": {
      "text/plain": [
       "10.000035999999998"
      ]
     },
     "execution_count": 282,
     "metadata": {},
     "output_type": "execute_result"
    }
   ],
   "source": [
    "Data.Voxelsize.mean()"
   ]
  },
  {
   "cell_type": "code",
   "execution_count": 283,
   "metadata": {},
   "outputs": [
    {
     "data": {
      "text/plain": [
       "0     0\n",
       "1     0\n",
       "2     0\n",
       "3     0\n",
       "4     0\n",
       "5     0\n",
       "6     0\n",
       "7     0\n",
       "8     0\n",
       "9     8\n",
       "10    0\n",
       "11    0\n",
       "Name: Beamhardening, dtype: int64"
      ]
     },
     "execution_count": 283,
     "metadata": {},
     "output_type": "execute_result"
    }
   ],
   "source": [
    "Data.Beamhardening"
   ]
  },
  {
   "cell_type": "code",
   "execution_count": null,
   "metadata": {},
   "outputs": [],
   "source": []
  }
 ],
 "metadata": {
  "kernelspec": {
   "display_name": "Python 3 (ipykernel)",
   "language": "python",
   "name": "python3"
  },
  "language_info": {
   "codemirror_mode": {
    "name": "ipython",
    "version": 3
   },
   "file_extension": ".py",
   "mimetype": "text/x-python",
   "name": "python",
   "nbconvert_exporter": "python",
   "pygments_lexer": "ipython3",
   "version": "3.11.0"
  }
 },
 "nbformat": 4,
 "nbformat_minor": 4
}
